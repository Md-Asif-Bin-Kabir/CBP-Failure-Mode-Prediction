{
 "cells": [
  {
   "cell_type": "code",
   "execution_count": 1,
   "metadata": {},
   "outputs": [],
   "source": [
    "# Import Libraries\n",
    "import pandas as pd\n",
    "import numpy as np\n",
    "import matplotlib.pyplot as plt\n",
    "import warnings\n",
    "warnings.filterwarnings(\"ignore\")"
   ]
  },
  {
   "cell_type": "code",
   "execution_count": 2,
   "metadata": {},
   "outputs": [
    {
     "name": "stdout",
     "output_type": "stream",
     "text": [
      "Database_Shape:(189, 9)\n"
     ]
    },
    {
     "data": {
      "text/html": [
       "<div>\n",
       "<style scoped>\n",
       "    .dataframe tbody tr th:only-of-type {\n",
       "        vertical-align: middle;\n",
       "    }\n",
       "\n",
       "    .dataframe tbody tr th {\n",
       "        vertical-align: top;\n",
       "    }\n",
       "\n",
       "    .dataframe thead th {\n",
       "        text-align: right;\n",
       "    }\n",
       "</style>\n",
       "<table border=\"1\" class=\"dataframe\">\n",
       "  <thead>\n",
       "    <tr style=\"text-align: right;\">\n",
       "      <th></th>\n",
       "      <th>BP_Thickness</th>\n",
       "      <th>BP_Fy</th>\n",
       "      <th>Anchor_Dia</th>\n",
       "      <th>Anchor_Quantity</th>\n",
       "      <th>Embed_Length</th>\n",
       "      <th>Grout_Thickness</th>\n",
       "      <th>Pitch_Length</th>\n",
       "      <th>Column_Section</th>\n",
       "      <th>Failure_Mode</th>\n",
       "    </tr>\n",
       "  </thead>\n",
       "  <tbody>\n",
       "    <tr>\n",
       "      <th>179</th>\n",
       "      <td>15.9</td>\n",
       "      <td>379</td>\n",
       "      <td>32.0</td>\n",
       "      <td>8</td>\n",
       "      <td>400</td>\n",
       "      <td>0</td>\n",
       "      <td>127.0</td>\n",
       "      <td>W</td>\n",
       "      <td>3</td>\n",
       "    </tr>\n",
       "    <tr>\n",
       "      <th>180</th>\n",
       "      <td>15.9</td>\n",
       "      <td>379</td>\n",
       "      <td>32.0</td>\n",
       "      <td>8</td>\n",
       "      <td>400</td>\n",
       "      <td>0</td>\n",
       "      <td>127.0</td>\n",
       "      <td>W</td>\n",
       "      <td>3</td>\n",
       "    </tr>\n",
       "    <tr>\n",
       "      <th>181</th>\n",
       "      <td>19.1</td>\n",
       "      <td>379</td>\n",
       "      <td>32.0</td>\n",
       "      <td>8</td>\n",
       "      <td>400</td>\n",
       "      <td>0</td>\n",
       "      <td>127.0</td>\n",
       "      <td>W</td>\n",
       "      <td>3</td>\n",
       "    </tr>\n",
       "    <tr>\n",
       "      <th>182</th>\n",
       "      <td>12.7</td>\n",
       "      <td>379</td>\n",
       "      <td>19.0</td>\n",
       "      <td>4</td>\n",
       "      <td>400</td>\n",
       "      <td>0</td>\n",
       "      <td>101.0</td>\n",
       "      <td>W</td>\n",
       "      <td>1</td>\n",
       "    </tr>\n",
       "    <tr>\n",
       "      <th>183</th>\n",
       "      <td>9.0</td>\n",
       "      <td>270</td>\n",
       "      <td>12.0</td>\n",
       "      <td>8</td>\n",
       "      <td>205</td>\n",
       "      <td>0</td>\n",
       "      <td>230.0</td>\n",
       "      <td>HSS</td>\n",
       "      <td>2</td>\n",
       "    </tr>\n",
       "    <tr>\n",
       "      <th>184</th>\n",
       "      <td>9.0</td>\n",
       "      <td>270</td>\n",
       "      <td>12.0</td>\n",
       "      <td>8</td>\n",
       "      <td>205</td>\n",
       "      <td>0</td>\n",
       "      <td>230.0</td>\n",
       "      <td>HSS</td>\n",
       "      <td>2</td>\n",
       "    </tr>\n",
       "    <tr>\n",
       "      <th>185</th>\n",
       "      <td>9.0</td>\n",
       "      <td>270</td>\n",
       "      <td>12.0</td>\n",
       "      <td>8</td>\n",
       "      <td>205</td>\n",
       "      <td>0</td>\n",
       "      <td>230.0</td>\n",
       "      <td>HSS</td>\n",
       "      <td>2</td>\n",
       "    </tr>\n",
       "    <tr>\n",
       "      <th>186</th>\n",
       "      <td>19.0</td>\n",
       "      <td>250</td>\n",
       "      <td>12.0</td>\n",
       "      <td>8</td>\n",
       "      <td>205</td>\n",
       "      <td>0</td>\n",
       "      <td>230.0</td>\n",
       "      <td>HSS</td>\n",
       "      <td>2</td>\n",
       "    </tr>\n",
       "    <tr>\n",
       "      <th>187</th>\n",
       "      <td>19.0</td>\n",
       "      <td>250</td>\n",
       "      <td>12.0</td>\n",
       "      <td>8</td>\n",
       "      <td>205</td>\n",
       "      <td>0</td>\n",
       "      <td>230.0</td>\n",
       "      <td>HSS</td>\n",
       "      <td>1</td>\n",
       "    </tr>\n",
       "    <tr>\n",
       "      <th>188</th>\n",
       "      <td>19.0</td>\n",
       "      <td>250</td>\n",
       "      <td>12.0</td>\n",
       "      <td>8</td>\n",
       "      <td>205</td>\n",
       "      <td>0</td>\n",
       "      <td>230.0</td>\n",
       "      <td>HSS</td>\n",
       "      <td>1</td>\n",
       "    </tr>\n",
       "  </tbody>\n",
       "</table>\n",
       "</div>"
      ],
      "text/plain": [
       "     BP_Thickness  BP_Fy  Anchor_Dia  Anchor_Quantity  Embed_Length  \\\n",
       "179          15.9    379        32.0                8           400   \n",
       "180          15.9    379        32.0                8           400   \n",
       "181          19.1    379        32.0                8           400   \n",
       "182          12.7    379        19.0                4           400   \n",
       "183           9.0    270        12.0                8           205   \n",
       "184           9.0    270        12.0                8           205   \n",
       "185           9.0    270        12.0                8           205   \n",
       "186          19.0    250        12.0                8           205   \n",
       "187          19.0    250        12.0                8           205   \n",
       "188          19.0    250        12.0                8           205   \n",
       "\n",
       "     Grout_Thickness  Pitch_Length Column_Section  Failure_Mode  \n",
       "179                0         127.0              W             3  \n",
       "180                0         127.0              W             3  \n",
       "181                0         127.0              W             3  \n",
       "182                0         101.0              W             1  \n",
       "183                0         230.0            HSS             2  \n",
       "184                0         230.0            HSS             2  \n",
       "185                0         230.0            HSS             2  \n",
       "186                0         230.0            HSS             2  \n",
       "187                0         230.0            HSS             1  \n",
       "188                0         230.0            HSS             1  "
      ]
     },
     "execution_count": 2,
     "metadata": {},
     "output_type": "execute_result"
    }
   ],
   "source": [
    "# Import Dataset\n",
    "df = pd.read_excel('D:\\Modified_Dataset.xlsx')\n",
    "\n",
    "# Print data shape\n",
    "print (\"Database_Shape:{}\".format(df.shape))\n",
    "\n",
    "df.tail(10)"
   ]
  },
  {
   "cell_type": "markdown",
   "metadata": {},
   "source": [
    "### Description of Database"
   ]
  },
  {
   "cell_type": "code",
   "execution_count": 3,
   "metadata": {},
   "outputs": [
    {
     "data": {
      "text/plain": [
       "Index(['BP_Thickness', 'BP_Fy', 'Anchor_Dia', 'Anchor_Quantity',\n",
       "       'Embed_Length', 'Grout_Thickness', 'Pitch_Length', 'Column_Section',\n",
       "       'Failure_Mode'],\n",
       "      dtype='object')"
      ]
     },
     "execution_count": 3,
     "metadata": {},
     "output_type": "execute_result"
    }
   ],
   "source": [
    "df.columns"
   ]
  },
  {
   "cell_type": "code",
   "execution_count": 4,
   "metadata": {},
   "outputs": [
    {
     "name": "stdout",
     "output_type": "stream",
     "text": [
      "<class 'pandas.core.frame.DataFrame'>\n",
      "RangeIndex: 189 entries, 0 to 188\n",
      "Data columns (total 9 columns):\n",
      " #   Column           Non-Null Count  Dtype  \n",
      "---  ------           --------------  -----  \n",
      " 0   BP_Thickness     189 non-null    float64\n",
      " 1   BP_Fy            189 non-null    int64  \n",
      " 2   Anchor_Dia       189 non-null    float64\n",
      " 3   Anchor_Quantity  189 non-null    int64  \n",
      " 4   Embed_Length     189 non-null    int64  \n",
      " 5   Grout_Thickness  189 non-null    int64  \n",
      " 6   Pitch_Length     187 non-null    float64\n",
      " 7   Column_Section   189 non-null    object \n",
      " 8   Failure_Mode     189 non-null    int64  \n",
      "dtypes: float64(3), int64(5), object(1)\n",
      "memory usage: 13.4+ KB\n",
      "None\n"
     ]
    }
   ],
   "source": [
    "print(df.info()) "
   ]
  },
  {
   "cell_type": "markdown",
   "metadata": {},
   "source": [
    "### Exploratory Data Analysis"
   ]
  },
  {
   "cell_type": "code",
   "execution_count": 5,
   "metadata": {},
   "outputs": [
    {
     "data": {
      "text/plain": [
       "BP_Thickness       0\n",
       "BP_Fy              0\n",
       "Anchor_Dia         0\n",
       "Anchor_Quantity    0\n",
       "Embed_Length       0\n",
       "Grout_Thickness    0\n",
       "Pitch_Length       2\n",
       "Column_Section     0\n",
       "Failure_Mode       0\n",
       "dtype: int64"
      ]
     },
     "execution_count": 5,
     "metadata": {},
     "output_type": "execute_result"
    }
   ],
   "source": [
    "# Checking any missing values \n",
    "\n",
    "df.isnull().sum()"
   ]
  },
  {
   "cell_type": "markdown",
   "metadata": {},
   "source": [
    "### Pitch Length have few missing values"
   ]
  },
  {
   "cell_type": "code",
   "execution_count": 6,
   "metadata": {},
   "outputs": [
    {
     "data": {
      "text/html": [
       "<div>\n",
       "<style scoped>\n",
       "    .dataframe tbody tr th:only-of-type {\n",
       "        vertical-align: middle;\n",
       "    }\n",
       "\n",
       "    .dataframe tbody tr th {\n",
       "        vertical-align: top;\n",
       "    }\n",
       "\n",
       "    .dataframe thead th {\n",
       "        text-align: right;\n",
       "    }\n",
       "</style>\n",
       "<table border=\"1\" class=\"dataframe\">\n",
       "  <thead>\n",
       "    <tr style=\"text-align: right;\">\n",
       "      <th></th>\n",
       "      <th>BP_Thickness</th>\n",
       "      <th>BP_Fy</th>\n",
       "      <th>Anchor_Dia</th>\n",
       "      <th>Anchor_Quantity</th>\n",
       "      <th>Embed_Length</th>\n",
       "      <th>Grout_Thickness</th>\n",
       "      <th>Column_Section</th>\n",
       "      <th>Failure_Mode</th>\n",
       "    </tr>\n",
       "  </thead>\n",
       "  <tbody>\n",
       "    <tr>\n",
       "      <th>184</th>\n",
       "      <td>9.0</td>\n",
       "      <td>270</td>\n",
       "      <td>12.0</td>\n",
       "      <td>8</td>\n",
       "      <td>205</td>\n",
       "      <td>0</td>\n",
       "      <td>HSS</td>\n",
       "      <td>2</td>\n",
       "    </tr>\n",
       "    <tr>\n",
       "      <th>185</th>\n",
       "      <td>9.0</td>\n",
       "      <td>270</td>\n",
       "      <td>12.0</td>\n",
       "      <td>8</td>\n",
       "      <td>205</td>\n",
       "      <td>0</td>\n",
       "      <td>HSS</td>\n",
       "      <td>2</td>\n",
       "    </tr>\n",
       "    <tr>\n",
       "      <th>186</th>\n",
       "      <td>19.0</td>\n",
       "      <td>250</td>\n",
       "      <td>12.0</td>\n",
       "      <td>8</td>\n",
       "      <td>205</td>\n",
       "      <td>0</td>\n",
       "      <td>HSS</td>\n",
       "      <td>2</td>\n",
       "    </tr>\n",
       "    <tr>\n",
       "      <th>187</th>\n",
       "      <td>19.0</td>\n",
       "      <td>250</td>\n",
       "      <td>12.0</td>\n",
       "      <td>8</td>\n",
       "      <td>205</td>\n",
       "      <td>0</td>\n",
       "      <td>HSS</td>\n",
       "      <td>1</td>\n",
       "    </tr>\n",
       "    <tr>\n",
       "      <th>188</th>\n",
       "      <td>19.0</td>\n",
       "      <td>250</td>\n",
       "      <td>12.0</td>\n",
       "      <td>8</td>\n",
       "      <td>205</td>\n",
       "      <td>0</td>\n",
       "      <td>HSS</td>\n",
       "      <td>1</td>\n",
       "    </tr>\n",
       "  </tbody>\n",
       "</table>\n",
       "</div>"
      ],
      "text/plain": [
       "     BP_Thickness  BP_Fy  Anchor_Dia  Anchor_Quantity  Embed_Length  \\\n",
       "184           9.0    270        12.0                8           205   \n",
       "185           9.0    270        12.0                8           205   \n",
       "186          19.0    250        12.0                8           205   \n",
       "187          19.0    250        12.0                8           205   \n",
       "188          19.0    250        12.0                8           205   \n",
       "\n",
       "     Grout_Thickness Column_Section  Failure_Mode  \n",
       "184                0            HSS             2  \n",
       "185                0            HSS             2  \n",
       "186                0            HSS             2  \n",
       "187                0            HSS             1  \n",
       "188                0            HSS             1  "
      ]
     },
     "execution_count": 6,
     "metadata": {},
     "output_type": "execute_result"
    }
   ],
   "source": [
    "# Dropping the Pitch_Length column from the database due to missing values\n",
    "\n",
    "df.drop('Pitch_Length', axis= 1, inplace=True)\n",
    "df.tail()"
   ]
  },
  {
   "cell_type": "code",
   "execution_count": 7,
   "metadata": {},
   "outputs": [
    {
     "name": "stdout",
     "output_type": "stream",
     "text": [
      "['W' 'HSS']\n",
      "Column_Section\n",
      "HSS     74\n",
      "W      115\n",
      "dtype: int64\n"
     ]
    }
   ],
   "source": [
    "# Description of string values in the Column Section\n",
    "\n",
    "print (df['Column_Section'].unique())\n",
    "print(df.groupby('Column_Section').size())"
   ]
  },
  {
   "cell_type": "code",
   "execution_count": 8,
   "metadata": {},
   "outputs": [
    {
     "data": {
      "text/html": [
       "<div>\n",
       "<style scoped>\n",
       "    .dataframe tbody tr th:only-of-type {\n",
       "        vertical-align: middle;\n",
       "    }\n",
       "\n",
       "    .dataframe tbody tr th {\n",
       "        vertical-align: top;\n",
       "    }\n",
       "\n",
       "    .dataframe thead th {\n",
       "        text-align: right;\n",
       "    }\n",
       "</style>\n",
       "<table border=\"1\" class=\"dataframe\">\n",
       "  <thead>\n",
       "    <tr style=\"text-align: right;\">\n",
       "      <th></th>\n",
       "      <th>BP_Thickness</th>\n",
       "      <th>BP_Fy</th>\n",
       "      <th>Anchor_Dia</th>\n",
       "      <th>Anchor_Quantity</th>\n",
       "      <th>Embed_Length</th>\n",
       "      <th>Grout_Thickness</th>\n",
       "      <th>Column_Section</th>\n",
       "      <th>Failure_Mode</th>\n",
       "    </tr>\n",
       "  </thead>\n",
       "  <tbody>\n",
       "    <tr>\n",
       "      <th>179</th>\n",
       "      <td>15.9</td>\n",
       "      <td>379</td>\n",
       "      <td>32.0</td>\n",
       "      <td>8</td>\n",
       "      <td>400</td>\n",
       "      <td>0</td>\n",
       "      <td>1</td>\n",
       "      <td>3</td>\n",
       "    </tr>\n",
       "    <tr>\n",
       "      <th>180</th>\n",
       "      <td>15.9</td>\n",
       "      <td>379</td>\n",
       "      <td>32.0</td>\n",
       "      <td>8</td>\n",
       "      <td>400</td>\n",
       "      <td>0</td>\n",
       "      <td>1</td>\n",
       "      <td>3</td>\n",
       "    </tr>\n",
       "    <tr>\n",
       "      <th>181</th>\n",
       "      <td>19.1</td>\n",
       "      <td>379</td>\n",
       "      <td>32.0</td>\n",
       "      <td>8</td>\n",
       "      <td>400</td>\n",
       "      <td>0</td>\n",
       "      <td>1</td>\n",
       "      <td>3</td>\n",
       "    </tr>\n",
       "    <tr>\n",
       "      <th>182</th>\n",
       "      <td>12.7</td>\n",
       "      <td>379</td>\n",
       "      <td>19.0</td>\n",
       "      <td>4</td>\n",
       "      <td>400</td>\n",
       "      <td>0</td>\n",
       "      <td>1</td>\n",
       "      <td>1</td>\n",
       "    </tr>\n",
       "    <tr>\n",
       "      <th>183</th>\n",
       "      <td>9.0</td>\n",
       "      <td>270</td>\n",
       "      <td>12.0</td>\n",
       "      <td>8</td>\n",
       "      <td>205</td>\n",
       "      <td>0</td>\n",
       "      <td>0</td>\n",
       "      <td>2</td>\n",
       "    </tr>\n",
       "    <tr>\n",
       "      <th>184</th>\n",
       "      <td>9.0</td>\n",
       "      <td>270</td>\n",
       "      <td>12.0</td>\n",
       "      <td>8</td>\n",
       "      <td>205</td>\n",
       "      <td>0</td>\n",
       "      <td>0</td>\n",
       "      <td>2</td>\n",
       "    </tr>\n",
       "    <tr>\n",
       "      <th>185</th>\n",
       "      <td>9.0</td>\n",
       "      <td>270</td>\n",
       "      <td>12.0</td>\n",
       "      <td>8</td>\n",
       "      <td>205</td>\n",
       "      <td>0</td>\n",
       "      <td>0</td>\n",
       "      <td>2</td>\n",
       "    </tr>\n",
       "    <tr>\n",
       "      <th>186</th>\n",
       "      <td>19.0</td>\n",
       "      <td>250</td>\n",
       "      <td>12.0</td>\n",
       "      <td>8</td>\n",
       "      <td>205</td>\n",
       "      <td>0</td>\n",
       "      <td>0</td>\n",
       "      <td>2</td>\n",
       "    </tr>\n",
       "    <tr>\n",
       "      <th>187</th>\n",
       "      <td>19.0</td>\n",
       "      <td>250</td>\n",
       "      <td>12.0</td>\n",
       "      <td>8</td>\n",
       "      <td>205</td>\n",
       "      <td>0</td>\n",
       "      <td>0</td>\n",
       "      <td>1</td>\n",
       "    </tr>\n",
       "    <tr>\n",
       "      <th>188</th>\n",
       "      <td>19.0</td>\n",
       "      <td>250</td>\n",
       "      <td>12.0</td>\n",
       "      <td>8</td>\n",
       "      <td>205</td>\n",
       "      <td>0</td>\n",
       "      <td>0</td>\n",
       "      <td>1</td>\n",
       "    </tr>\n",
       "  </tbody>\n",
       "</table>\n",
       "</div>"
      ],
      "text/plain": [
       "     BP_Thickness  BP_Fy  Anchor_Dia  Anchor_Quantity  Embed_Length  \\\n",
       "179          15.9    379        32.0                8           400   \n",
       "180          15.9    379        32.0                8           400   \n",
       "181          19.1    379        32.0                8           400   \n",
       "182          12.7    379        19.0                4           400   \n",
       "183           9.0    270        12.0                8           205   \n",
       "184           9.0    270        12.0                8           205   \n",
       "185           9.0    270        12.0                8           205   \n",
       "186          19.0    250        12.0                8           205   \n",
       "187          19.0    250        12.0                8           205   \n",
       "188          19.0    250        12.0                8           205   \n",
       "\n",
       "     Grout_Thickness  Column_Section  Failure_Mode  \n",
       "179                0               1             3  \n",
       "180                0               1             3  \n",
       "181                0               1             3  \n",
       "182                0               1             1  \n",
       "183                0               0             2  \n",
       "184                0               0             2  \n",
       "185                0               0             2  \n",
       "186                0               0             2  \n",
       "187                0               0             1  \n",
       "188                0               0             1  "
      ]
     },
     "execution_count": 8,
     "metadata": {},
     "output_type": "execute_result"
    }
   ],
   "source": [
    "# Encoding string values for Column Section\n",
    "\n",
    "from sklearn.preprocessing import LabelEncoder\n",
    "\n",
    "enc = LabelEncoder()\n",
    "df.loc[:,['Column_Section']] = df.loc[:,['Column_Section']].apply(enc.fit_transform)\n",
    "df.tail(10)"
   ]
  },
  {
   "cell_type": "code",
   "execution_count": 9,
   "metadata": {},
   "outputs": [
    {
     "data": {
      "image/png": "[encoded data removed]",
      "text/plain": [
       "<Figure size 432x288 with 1 Axes>"
      ]
     },
     "metadata": {
      "needs_background": "light"
     },
     "output_type": "display_data"
    }
   ],
   "source": [
    "table=pd.crosstab(df.Column_Section,df.Failure_Mode)\n",
    "table.div(table.sum(1).astype(float), axis=0).plot(kind='bar', stacked=True)\n",
    "plt.xlabel('Column Section')\n",
    "plt.ylabel('Failure Mode')\n",
    "plt.xticks(rotation=0, horizontalalignment=\"center\")\n",
    "leg = plt.legend(title=\"Failure Mode\")\n",
    "leg.get_frame().set_edgecolor('Black')"
   ]
  },
  {
   "cell_type": "markdown",
   "metadata": {},
   "source": [
    "Column Section seems to have no significant influence on Failure Mode"
   ]
  },
  {
   "cell_type": "code",
   "execution_count": 10,
   "metadata": {},
   "outputs": [
    {
     "data": {
      "text/html": [
       "<div>\n",
       "<style scoped>\n",
       "    .dataframe tbody tr th:only-of-type {\n",
       "        vertical-align: middle;\n",
       "    }\n",
       "\n",
       "    .dataframe tbody tr th {\n",
       "        vertical-align: top;\n",
       "    }\n",
       "\n",
       "    .dataframe thead th {\n",
       "        text-align: right;\n",
       "    }\n",
       "</style>\n",
       "<table border=\"1\" class=\"dataframe\">\n",
       "  <thead>\n",
       "    <tr style=\"text-align: right;\">\n",
       "      <th></th>\n",
       "      <th>BP_Thickness</th>\n",
       "      <th>BP_Fy</th>\n",
       "      <th>Anchor_Dia</th>\n",
       "      <th>Anchor_Quantity</th>\n",
       "      <th>Embed_Length</th>\n",
       "      <th>Grout_Thickness</th>\n",
       "      <th>Failure_Mode</th>\n",
       "    </tr>\n",
       "  </thead>\n",
       "  <tbody>\n",
       "    <tr>\n",
       "      <th>184</th>\n",
       "      <td>9.0</td>\n",
       "      <td>270</td>\n",
       "      <td>12.0</td>\n",
       "      <td>8</td>\n",
       "      <td>205</td>\n",
       "      <td>0</td>\n",
       "      <td>2</td>\n",
       "    </tr>\n",
       "    <tr>\n",
       "      <th>185</th>\n",
       "      <td>9.0</td>\n",
       "      <td>270</td>\n",
       "      <td>12.0</td>\n",
       "      <td>8</td>\n",
       "      <td>205</td>\n",
       "      <td>0</td>\n",
       "      <td>2</td>\n",
       "    </tr>\n",
       "    <tr>\n",
       "      <th>186</th>\n",
       "      <td>19.0</td>\n",
       "      <td>250</td>\n",
       "      <td>12.0</td>\n",
       "      <td>8</td>\n",
       "      <td>205</td>\n",
       "      <td>0</td>\n",
       "      <td>2</td>\n",
       "    </tr>\n",
       "    <tr>\n",
       "      <th>187</th>\n",
       "      <td>19.0</td>\n",
       "      <td>250</td>\n",
       "      <td>12.0</td>\n",
       "      <td>8</td>\n",
       "      <td>205</td>\n",
       "      <td>0</td>\n",
       "      <td>1</td>\n",
       "    </tr>\n",
       "    <tr>\n",
       "      <th>188</th>\n",
       "      <td>19.0</td>\n",
       "      <td>250</td>\n",
       "      <td>12.0</td>\n",
       "      <td>8</td>\n",
       "      <td>205</td>\n",
       "      <td>0</td>\n",
       "      <td>1</td>\n",
       "    </tr>\n",
       "  </tbody>\n",
       "</table>\n",
       "</div>"
      ],
      "text/plain": [
       "     BP_Thickness  BP_Fy  Anchor_Dia  Anchor_Quantity  Embed_Length  \\\n",
       "184           9.0    270        12.0                8           205   \n",
       "185           9.0    270        12.0                8           205   \n",
       "186          19.0    250        12.0                8           205   \n",
       "187          19.0    250        12.0                8           205   \n",
       "188          19.0    250        12.0                8           205   \n",
       "\n",
       "     Grout_Thickness  Failure_Mode  \n",
       "184                0             2  \n",
       "185                0             2  \n",
       "186                0             2  \n",
       "187                0             1  \n",
       "188                0             1  "
      ]
     },
     "execution_count": 10,
     "metadata": {},
     "output_type": "execute_result"
    }
   ],
   "source": [
    "# Dropping the Column_Section from the database column \n",
    "\n",
    "df.drop('Column_Section', axis= 1, inplace=True)\n",
    "df.tail()"
   ]
  },
  {
   "cell_type": "code",
   "execution_count": 11,
   "metadata": {},
   "outputs": [
    {
     "name": "stdout",
     "output_type": "stream",
     "text": [
      "Analysis_Database_Shape:(189, 7)\n"
     ]
    }
   ],
   "source": [
    "print  (\"Analysis_Database_Shape:{}\".format(df.shape))"
   ]
  },
  {
   "cell_type": "code",
   "execution_count": 12,
   "metadata": {},
   "outputs": [
    {
     "data": {
      "image/png": "[encoded data removed]",
      "text/plain": [
       "<Figure size 1080x864 with 2 Axes>"
      ]
     },
     "metadata": {
      "needs_background": "light"
     },
     "output_type": "display_data"
    }
   ],
   "source": [
    "# Examining correlations\n",
    "\n",
    "import seaborn as sns\n",
    "corr = df.drop('Failure_Mode', axis=1).corr() \n",
    "plt.figure(figsize=(15, 12))\n",
    "\n",
    "sns.set(font_scale=1.4) \n",
    "sns.heatmap(corr[(corr >= 0.0) | (corr <= -0.0)], \n",
    "            cmap='RdYlGn', vmax=1.0, vmin=-1.0, linewidths=0.2, cbar=True, fmt='.3g',\n",
    "            annot=True, annot_kws={\"size\": 13}, square=True);"
   ]
  },
  {
   "cell_type": "code",
   "execution_count": 13,
   "metadata": {},
   "outputs": [
    {
     "data": {
      "image/png": "[encoded data removed]",
      "text/plain": [
       "<Figure size 432x288 with 1 Axes>"
      ]
     },
     "metadata": {},
     "output_type": "display_data"
    },
    {
     "data": {
      "text/plain": [
       "Failure_Mode\n",
       "1    110\n",
       "2     68\n",
       "3     11\n",
       "dtype: int64"
      ]
     },
     "execution_count": 13,
     "metadata": {},
     "output_type": "execute_result"
    }
   ],
   "source": [
    "# Check whether data is imbalanced\n",
    "\n",
    "import seaborn as sns\n",
    "sns.set(style=\"white\")\n",
    "sns.set(style=\"whitegrid\", color_codes=True)\n",
    "sns.countplot(x='Failure_Mode',data=df, palette='hls')\n",
    "plt.show()\n",
    "df.groupby('Failure_Mode').size()"
   ]
  },
  {
   "cell_type": "markdown",
   "metadata": {},
   "source": [
    "Dataset is highly imbalanced with respect to the Failure Mode"
   ]
  },
  {
   "cell_type": "markdown",
   "metadata": {},
   "source": [
    "### Data Preprocessing"
   ]
  },
  {
   "cell_type": "code",
   "execution_count": 14,
   "metadata": {},
   "outputs": [
    {
     "data": {
      "text/html": [
       "<div>\n",
       "<style scoped>\n",
       "    .dataframe tbody tr th:only-of-type {\n",
       "        vertical-align: middle;\n",
       "    }\n",
       "\n",
       "    .dataframe tbody tr th {\n",
       "        vertical-align: top;\n",
       "    }\n",
       "\n",
       "    .dataframe thead th {\n",
       "        text-align: right;\n",
       "    }\n",
       "</style>\n",
       "<table border=\"1\" class=\"dataframe\">\n",
       "  <thead>\n",
       "    <tr style=\"text-align: right;\">\n",
       "      <th></th>\n",
       "      <th>BP_Thickness</th>\n",
       "      <th>BP_Fy</th>\n",
       "      <th>Anchor_Dia</th>\n",
       "      <th>Anchor_Quantity</th>\n",
       "      <th>Embed_Length</th>\n",
       "      <th>Grout_Thickness</th>\n",
       "    </tr>\n",
       "  </thead>\n",
       "  <tbody>\n",
       "    <tr>\n",
       "      <th>184</th>\n",
       "      <td>9.0</td>\n",
       "      <td>270</td>\n",
       "      <td>12.0</td>\n",
       "      <td>8</td>\n",
       "      <td>205</td>\n",
       "      <td>0</td>\n",
       "    </tr>\n",
       "    <tr>\n",
       "      <th>185</th>\n",
       "      <td>9.0</td>\n",
       "      <td>270</td>\n",
       "      <td>12.0</td>\n",
       "      <td>8</td>\n",
       "      <td>205</td>\n",
       "      <td>0</td>\n",
       "    </tr>\n",
       "    <tr>\n",
       "      <th>186</th>\n",
       "      <td>19.0</td>\n",
       "      <td>250</td>\n",
       "      <td>12.0</td>\n",
       "      <td>8</td>\n",
       "      <td>205</td>\n",
       "      <td>0</td>\n",
       "    </tr>\n",
       "    <tr>\n",
       "      <th>187</th>\n",
       "      <td>19.0</td>\n",
       "      <td>250</td>\n",
       "      <td>12.0</td>\n",
       "      <td>8</td>\n",
       "      <td>205</td>\n",
       "      <td>0</td>\n",
       "    </tr>\n",
       "    <tr>\n",
       "      <th>188</th>\n",
       "      <td>19.0</td>\n",
       "      <td>250</td>\n",
       "      <td>12.0</td>\n",
       "      <td>8</td>\n",
       "      <td>205</td>\n",
       "      <td>0</td>\n",
       "    </tr>\n",
       "  </tbody>\n",
       "</table>\n",
       "</div>"
      ],
      "text/plain": [
       "     BP_Thickness  BP_Fy  Anchor_Dia  Anchor_Quantity  Embed_Length  \\\n",
       "184           9.0    270        12.0                8           205   \n",
       "185           9.0    270        12.0                8           205   \n",
       "186          19.0    250        12.0                8           205   \n",
       "187          19.0    250        12.0                8           205   \n",
       "188          19.0    250        12.0                8           205   \n",
       "\n",
       "     Grout_Thickness  \n",
       "184                0  \n",
       "185                0  \n",
       "186                0  \n",
       "187                0  \n",
       "188                0  "
      ]
     },
     "execution_count": 14,
     "metadata": {},
     "output_type": "execute_result"
    }
   ],
   "source": [
    "# Define X & y\n",
    "\n",
    "X = df.iloc[:, :6]\n",
    "y = df.Failure_Mode\n",
    "X.tail()"
   ]
  },
  {
   "cell_type": "code",
   "execution_count": 15,
   "metadata": {},
   "outputs": [
    {
     "data": {
      "text/plain": [
       "184    2\n",
       "185    2\n",
       "186    2\n",
       "187    1\n",
       "188    1\n",
       "Name: Failure_Mode, dtype: int64"
      ]
     },
     "execution_count": 15,
     "metadata": {},
     "output_type": "execute_result"
    }
   ],
   "source": [
    "y.tail()"
   ]
  },
  {
   "cell_type": "code",
   "execution_count": 16,
   "metadata": {},
   "outputs": [],
   "source": [
    "# Train and Test dataset (Split 70/30)\n",
    "\n",
    "from sklearn.model_selection import train_test_split\n",
    "\n",
    "X_train, X_test, y_train, y_test = train_test_split(X,y, test_size=0.3, random_state=0)"
   ]
  },
  {
   "cell_type": "code",
   "execution_count": 17,
   "metadata": {},
   "outputs": [
    {
     "name": "stderr",
     "output_type": "stream",
     "text": [
      "Using TensorFlow backend.\n"
     ]
    }
   ],
   "source": [
    "# Applying SMOTE to train data\n",
    "\n",
    "from imblearn.over_sampling import SMOTE\n",
    "sm = SMOTE(random_state=2, k_neighbors=5)\n",
    "X_res, y_res = sm.fit_sample(X_train.astype('float'), y_train)"
   ]
  },
  {
   "cell_type": "code",
   "execution_count": 18,
   "metadata": {},
   "outputs": [
    {
     "name": "stdout",
     "output_type": "stream",
     "text": [
      "Before SMOTE : Counter({1: 80, 2: 44, 3: 8})\n",
      "After SMOTE : Counter({3: 80, 1: 80, 2: 80})\n"
     ]
    }
   ],
   "source": [
    "from collections import Counter\n",
    "print(\"Before SMOTE :\" , Counter(y_train))\n",
    "print(\"After SMOTE :\" , Counter(y_res))"
   ]
  },
  {
   "cell_type": "code",
   "execution_count": 19,
   "metadata": {},
   "outputs": [],
   "source": [
    "X_train=X_res.copy()\n",
    "y_train=y_res.copy()"
   ]
  },
  {
   "cell_type": "code",
   "execution_count": 20,
   "metadata": {},
   "outputs": [],
   "source": [
    "from sklearn.preprocessing import MinMaxScaler\n",
    "scaler = MinMaxScaler()\n",
    "X_train = scaler.fit_transform(X_train)\n",
    "X_test = scaler.transform(X_test)"
   ]
  },
  {
   "cell_type": "code",
   "execution_count": 21,
   "metadata": {},
   "outputs": [
    {
     "name": "stdout",
     "output_type": "stream",
     "text": [
      "X_Train_Shape:(240, 6)\n",
      "y_Train_Shape:(240,)\n",
      "X_Test_Shape:(57, 6)\n",
      "y_Test_Shape:(57,)\n"
     ]
    }
   ],
   "source": [
    "print (\"X_Train_Shape:{}\".format(X_train.shape))\n",
    "print (\"y_Train_Shape:{}\".format(y_train.shape))\n",
    "print (\"X_Test_Shape:{}\".format(X_test.shape))\n",
    "print (\"y_Test_Shape:{}\".format(y_test.shape))"
   ]
  },
  {
   "cell_type": "markdown",
   "metadata": {},
   "source": [
    "### Application of Machine Learning Algorithms"
   ]
  },
  {
   "cell_type": "markdown",
   "metadata": {},
   "source": [
    "### Support Vector Machine"
   ]
  },
  {
   "cell_type": "code",
   "execution_count": 22,
   "metadata": {},
   "outputs": [
    {
     "name": "stdout",
     "output_type": "stream",
     "text": [
      "Accuracy of SVC on training set: 0.86\n",
      "Accuracy of SVC on test set: 0.63\n"
     ]
    }
   ],
   "source": [
    "from sklearn.svm import SVC\n",
    "svc = SVC(random_state=0)\n",
    "svc.fit(X_train, y_train)\n",
    "\n",
    "print('Accuracy of SVC on training set: {:.2f}'\n",
    "     .format(svc.score(X_train, y_train)))\n",
    "print('Accuracy of SVC on test set: {:.2f}'\n",
    "     .format(svc.score(X_test, y_test)))"
   ]
  },
  {
   "cell_type": "code",
   "execution_count": 23,
   "metadata": {},
   "outputs": [
    {
     "name": "stdout",
     "output_type": "stream",
     "text": [
      "[[69  9  2]\n",
      " [ 3 63 14]\n",
      " [ 3  2 75]]\n"
     ]
    }
   ],
   "source": [
    "# Results (Training Set)\n",
    "\n",
    "y_pred_train = svc.predict(X_train)\n",
    "from sklearn.metrics import confusion_matrix\n",
    "confusion_matrix = confusion_matrix(y_train, y_pred_train)\n",
    "print(confusion_matrix)"
   ]
  },
  {
   "cell_type": "code",
   "execution_count": 24,
   "metadata": {},
   "outputs": [
    {
     "name": "stdout",
     "output_type": "stream",
     "text": [
      "              precision    recall  f1-score   support\n",
      "\n",
      "           1       0.92      0.86      0.89        80\n",
      "           2       0.85      0.79      0.82        80\n",
      "           3       0.82      0.94      0.88        80\n",
      "\n",
      "    accuracy                           0.86       240\n",
      "   macro avg       0.87      0.86      0.86       240\n",
      "weighted avg       0.87      0.86      0.86       240\n",
      "\n"
     ]
    }
   ],
   "source": [
    "# Results (Training Set)\n",
    "\n",
    "from sklearn.metrics import classification_report\n",
    "print(classification_report(y_train, y_pred_train))"
   ]
  },
  {
   "cell_type": "code",
   "execution_count": 25,
   "metadata": {},
   "outputs": [
    {
     "name": "stdout",
     "output_type": "stream",
     "text": [
      "[[23  6  1]\n",
      " [ 5 12  7]\n",
      " [ 2  0  1]]\n"
     ]
    }
   ],
   "source": [
    "# Results (Test Set)\n",
    "\n",
    "y_pred = svc.predict(X_test)\n",
    "from sklearn.metrics import confusion_matrix\n",
    "confusion_matrix = confusion_matrix(y_test, y_pred)\n",
    "print(confusion_matrix)"
   ]
  },
  {
   "cell_type": "code",
   "execution_count": 26,
   "metadata": {},
   "outputs": [
    {
     "name": "stdout",
     "output_type": "stream",
     "text": [
      "              precision    recall  f1-score   support\n",
      "\n",
      "           1       0.77      0.77      0.77        30\n",
      "           2       0.67      0.50      0.57        24\n",
      "           3       0.11      0.33      0.17         3\n",
      "\n",
      "    accuracy                           0.63        57\n",
      "   macro avg       0.51      0.53      0.50        57\n",
      "weighted avg       0.69      0.63      0.65        57\n",
      "\n"
     ]
    }
   ],
   "source": [
    "# Results (Test Set)\n",
    "\n",
    "from sklearn.metrics import classification_report\n",
    "print(classification_report(y_test, y_pred))"
   ]
  },
  {
   "cell_type": "markdown",
   "metadata": {},
   "source": [
    "### Naive Bayes"
   ]
  },
  {
   "cell_type": "code",
   "execution_count": 27,
   "metadata": {},
   "outputs": [
    {
     "name": "stdout",
     "output_type": "stream",
     "text": [
      "Accuracy of GNB classifier on training set: 0.62\n",
      "Accuracy of GNB classifier on test set: 0.65\n"
     ]
    }
   ],
   "source": [
    "from sklearn.naive_bayes import GaussianNB\n",
    "\n",
    "gnb = GaussianNB()\n",
    "gnb.fit(X_train, y_train)\n",
    "\n",
    "print('Accuracy of GNB classifier on training set: {:.2f}'\n",
    "     .format(gnb.score(X_train, y_train)))\n",
    "print('Accuracy of GNB classifier on test set: {:.2f}'\n",
    "     .format(gnb.score(X_test, y_test)))"
   ]
  },
  {
   "cell_type": "code",
   "execution_count": 28,
   "metadata": {},
   "outputs": [
    {
     "name": "stdout",
     "output_type": "stream",
     "text": [
      "[[52 14 14]\n",
      " [17 47 16]\n",
      " [16 15 49]]\n"
     ]
    }
   ],
   "source": [
    "# Results (Training Set)\n",
    "\n",
    "y_pred_train = gnb.predict(X_train)\n",
    "from sklearn.metrics import confusion_matrix\n",
    "confusion_matrix = confusion_matrix(y_train, y_pred_train)\n",
    "print(confusion_matrix)"
   ]
  },
  {
   "cell_type": "code",
   "execution_count": 29,
   "metadata": {},
   "outputs": [
    {
     "name": "stdout",
     "output_type": "stream",
     "text": [
      "              precision    recall  f1-score   support\n",
      "\n",
      "           1       0.61      0.65      0.63        80\n",
      "           2       0.62      0.59      0.60        80\n",
      "           3       0.62      0.61      0.62        80\n",
      "\n",
      "    accuracy                           0.62       240\n",
      "   macro avg       0.62      0.62      0.62       240\n",
      "weighted avg       0.62      0.62      0.62       240\n",
      "\n"
     ]
    }
   ],
   "source": [
    "# Results (Training Set)\n",
    "\n",
    "from sklearn.metrics import classification_report\n",
    "print(classification_report(y_train, y_pred_train))"
   ]
  },
  {
   "cell_type": "code",
   "execution_count": 30,
   "metadata": {},
   "outputs": [
    {
     "name": "stdout",
     "output_type": "stream",
     "text": [
      "[[19  7  4]\n",
      " [ 3 17  4]\n",
      " [ 2  0  1]]\n"
     ]
    }
   ],
   "source": [
    "# Results (Test Set)\n",
    "\n",
    "y_pred = gnb.predict(X_test)\n",
    "from sklearn.metrics import confusion_matrix\n",
    "confusion_matrix = confusion_matrix(y_test, y_pred)\n",
    "print(confusion_matrix)"
   ]
  },
  {
   "cell_type": "code",
   "execution_count": 31,
   "metadata": {},
   "outputs": [
    {
     "name": "stdout",
     "output_type": "stream",
     "text": [
      "              precision    recall  f1-score   support\n",
      "\n",
      "           1       0.79      0.63      0.70        30\n",
      "           2       0.71      0.71      0.71        24\n",
      "           3       0.11      0.33      0.17         3\n",
      "\n",
      "    accuracy                           0.65        57\n",
      "   macro avg       0.54      0.56      0.53        57\n",
      "weighted avg       0.72      0.65      0.68        57\n",
      "\n"
     ]
    }
   ],
   "source": [
    "# Results (Test Set)\n",
    "\n",
    "from sklearn.metrics import classification_report\n",
    "print(classification_report(y_test, y_pred))"
   ]
  },
  {
   "cell_type": "markdown",
   "metadata": {},
   "source": [
    "### K-Nearest Neighbor"
   ]
  },
  {
   "cell_type": "code",
   "execution_count": 32,
   "metadata": {},
   "outputs": [
    {
     "name": "stdout",
     "output_type": "stream",
     "text": [
      "Accuracy of K-NN classifier on training set: 0.89\n",
      "Accuracy of K-NN classifier on test set: 0.74\n"
     ]
    }
   ],
   "source": [
    "from sklearn.neighbors import KNeighborsClassifier\n",
    "\n",
    "knn = KNeighborsClassifier()\n",
    "knn.fit(X_train, y_train)\n",
    "\n",
    "print('Accuracy of K-NN classifier on training set: {:.2f}'\n",
    "     .format(knn.score(X_train, y_train)))\n",
    "print('Accuracy of K-NN classifier on test set: {:.2f}'\n",
    "     .format(knn.score(X_test, y_test)))"
   ]
  },
  {
   "cell_type": "code",
   "execution_count": 33,
   "metadata": {},
   "outputs": [
    {
     "name": "stdout",
     "output_type": "stream",
     "text": [
      "[[75  3  2]\n",
      " [ 6 66  8]\n",
      " [ 2  6 72]]\n"
     ]
    }
   ],
   "source": [
    "# Results (Training Set)\n",
    "\n",
    "y_pred_train = knn.predict(X_train)\n",
    "from sklearn.metrics import confusion_matrix\n",
    "confusion_matrix = confusion_matrix(y_train, y_pred_train)\n",
    "print(confusion_matrix)"
   ]
  },
  {
   "cell_type": "code",
   "execution_count": 34,
   "metadata": {},
   "outputs": [
    {
     "name": "stdout",
     "output_type": "stream",
     "text": [
      "              precision    recall  f1-score   support\n",
      "\n",
      "           1       0.90      0.94      0.92        80\n",
      "           2       0.88      0.82      0.85        80\n",
      "           3       0.88      0.90      0.89        80\n",
      "\n",
      "    accuracy                           0.89       240\n",
      "   macro avg       0.89      0.89      0.89       240\n",
      "weighted avg       0.89      0.89      0.89       240\n",
      "\n"
     ]
    }
   ],
   "source": [
    "# Results (Training Set)\n",
    "\n",
    "from sklearn.metrics import classification_report\n",
    "print(classification_report(y_train, y_pred_train))"
   ]
  },
  {
   "cell_type": "code",
   "execution_count": 35,
   "metadata": {},
   "outputs": [
    {
     "name": "stdout",
     "output_type": "stream",
     "text": [
      "[[28  1  1]\n",
      " [ 7 13  4]\n",
      " [ 2  0  1]]\n"
     ]
    }
   ],
   "source": [
    "# Results (Test Set)\n",
    "\n",
    "y_pred = knn.predict(X_test)\n",
    "from sklearn.metrics import confusion_matrix\n",
    "confusion_matrix = confusion_matrix(y_test, y_pred)\n",
    "print(confusion_matrix)"
   ]
  },
  {
   "cell_type": "code",
   "execution_count": 36,
   "metadata": {},
   "outputs": [
    {
     "name": "stdout",
     "output_type": "stream",
     "text": [
      "              precision    recall  f1-score   support\n",
      "\n",
      "           1       0.76      0.93      0.84        30\n",
      "           2       0.93      0.54      0.68        24\n",
      "           3       0.17      0.33      0.22         3\n",
      "\n",
      "    accuracy                           0.74        57\n",
      "   macro avg       0.62      0.60      0.58        57\n",
      "weighted avg       0.80      0.74      0.74        57\n",
      "\n"
     ]
    }
   ],
   "source": [
    "# Results (Test Set)\n",
    "\n",
    "from sklearn.metrics import classification_report\n",
    "print(classification_report(y_test, y_pred))"
   ]
  },
  {
   "cell_type": "markdown",
   "metadata": {},
   "source": [
    "### Random Forest"
   ]
  },
  {
   "cell_type": "code",
   "execution_count": 37,
   "metadata": {},
   "outputs": [
    {
     "name": "stdout",
     "output_type": "stream",
     "text": [
      "Accuracy of RF classifier on training set: 0.98\n",
      "Accuracy of RF classifier on test set: 0.88\n"
     ]
    }
   ],
   "source": [
    "from sklearn.ensemble import RandomForestClassifier\n",
    "from sklearn.datasets import make_classification\n",
    "RF = RandomForestClassifier(random_state=0)\n",
    "RF.fit(X_train, y_train)\n",
    "\n",
    "print('Accuracy of RF classifier on training set: {:.2f}'\n",
    "     .format(RF.score(X_train, y_train)))\n",
    "print('Accuracy of RF classifier on test set: {:.2f}'\n",
    "     .format(RF.score(X_test, y_test)))"
   ]
  },
  {
   "cell_type": "code",
   "execution_count": 38,
   "metadata": {},
   "outputs": [
    {
     "name": "stdout",
     "output_type": "stream",
     "text": [
      "[[80  0  0]\n",
      " [ 1 79  0]\n",
      " [ 0  3 77]]\n"
     ]
    }
   ],
   "source": [
    "# Results (Training Set)\n",
    "\n",
    "y_pred_train = RF.predict(X_train)\n",
    "from sklearn.metrics import confusion_matrix\n",
    "confusion_matrix = confusion_matrix(y_train, y_pred_train)\n",
    "print(confusion_matrix)"
   ]
  },
  {
   "cell_type": "code",
   "execution_count": 39,
   "metadata": {},
   "outputs": [
    {
     "name": "stdout",
     "output_type": "stream",
     "text": [
      "              precision    recall  f1-score   support\n",
      "\n",
      "           1       0.99      1.00      0.99        80\n",
      "           2       0.96      0.99      0.98        80\n",
      "           3       1.00      0.96      0.98        80\n",
      "\n",
      "    accuracy                           0.98       240\n",
      "   macro avg       0.98      0.98      0.98       240\n",
      "weighted avg       0.98      0.98      0.98       240\n",
      "\n"
     ]
    }
   ],
   "source": [
    "# Results (Training Set)\n",
    "\n",
    "from sklearn.metrics import classification_report\n",
    "print(classification_report(y_train, y_pred_train))"
   ]
  },
  {
   "cell_type": "code",
   "execution_count": 40,
   "metadata": {},
   "outputs": [
    {
     "name": "stdout",
     "output_type": "stream",
     "text": [
      "[[30  0  0]\n",
      " [ 5 19  0]\n",
      " [ 2  0  1]]\n"
     ]
    }
   ],
   "source": [
    "# Results (Test Set)\n",
    "\n",
    "y_pred = RF.predict(X_test)\n",
    "from sklearn.metrics import confusion_matrix\n",
    "confusion_matrix = confusion_matrix(y_test, y_pred)\n",
    "print(confusion_matrix)"
   ]
  },
  {
   "cell_type": "code",
   "execution_count": 41,
   "metadata": {},
   "outputs": [
    {
     "name": "stdout",
     "output_type": "stream",
     "text": [
      "              precision    recall  f1-score   support\n",
      "\n",
      "           1       0.81      1.00      0.90        30\n",
      "           2       1.00      0.79      0.88        24\n",
      "           3       1.00      0.33      0.50         3\n",
      "\n",
      "    accuracy                           0.88        57\n",
      "   macro avg       0.94      0.71      0.76        57\n",
      "weighted avg       0.90      0.88      0.87        57\n",
      "\n"
     ]
    }
   ],
   "source": [
    "# Results (Test Set)\n",
    "\n",
    "from sklearn.metrics import classification_report\n",
    "print(classification_report(y_test, y_pred))"
   ]
  },
  {
   "cell_type": "markdown",
   "metadata": {},
   "source": [
    "### Decision Tree"
   ]
  },
  {
   "cell_type": "code",
   "execution_count": 42,
   "metadata": {},
   "outputs": [
    {
     "name": "stdout",
     "output_type": "stream",
     "text": [
      "Accuracy of Decision Tree classifier on training set: 0.98\n",
      "Accuracy of Decision Tree classifier on test set: 0.91\n"
     ]
    }
   ],
   "source": [
    "from sklearn.tree import DecisionTreeClassifier\n",
    "clf = DecisionTreeClassifier(random_state=0)\n",
    "clf.fit(X_train, y_train)\n",
    "\n",
    "print('Accuracy of Decision Tree classifier on training set: {:.2f}'\n",
    "     .format(clf.score(X_train, y_train)))\n",
    "print('Accuracy of Decision Tree classifier on test set: {:.2f}'\n",
    "     .format(clf.score(X_test, y_test)))"
   ]
  },
  {
   "cell_type": "code",
   "execution_count": 43,
   "metadata": {},
   "outputs": [
    {
     "name": "stdout",
     "output_type": "stream",
     "text": [
      "[[80  0  0]\n",
      " [ 1 79  0]\n",
      " [ 0  3 77]]\n"
     ]
    }
   ],
   "source": [
    "# Results (Training Set)\n",
    "\n",
    "y_pred_train = clf.predict(X_train)\n",
    "from sklearn.metrics import confusion_matrix\n",
    "confusion_matrix = confusion_matrix(y_train, y_pred_train)\n",
    "print(confusion_matrix)"
   ]
  },
  {
   "cell_type": "code",
   "execution_count": 44,
   "metadata": {},
   "outputs": [
    {
     "name": "stdout",
     "output_type": "stream",
     "text": [
      "              precision    recall  f1-score   support\n",
      "\n",
      "           1       0.99      1.00      0.99        80\n",
      "           2       0.96      0.99      0.98        80\n",
      "           3       1.00      0.96      0.98        80\n",
      "\n",
      "    accuracy                           0.98       240\n",
      "   macro avg       0.98      0.98      0.98       240\n",
      "weighted avg       0.98      0.98      0.98       240\n",
      "\n"
     ]
    }
   ],
   "source": [
    "# Results (Training Set)\n",
    "\n",
    "from sklearn.metrics import classification_report\n",
    "print(classification_report(y_train, y_pred_train))"
   ]
  },
  {
   "cell_type": "code",
   "execution_count": 45,
   "metadata": {},
   "outputs": [
    {
     "name": "stdout",
     "output_type": "stream",
     "text": [
      "[[30  0  0]\n",
      " [ 2 21  1]\n",
      " [ 2  0  1]]\n"
     ]
    }
   ],
   "source": [
    "# Results (Test Set)\n",
    "\n",
    "y_pred = clf.predict(X_test)\n",
    "from sklearn.metrics import confusion_matrix\n",
    "confusion_matrix = confusion_matrix(y_test, y_pred)\n",
    "print(confusion_matrix)"
   ]
  },
  {
   "cell_type": "code",
   "execution_count": 46,
   "metadata": {},
   "outputs": [
    {
     "name": "stdout",
     "output_type": "stream",
     "text": [
      "              precision    recall  f1-score   support\n",
      "\n",
      "           1       0.88      1.00      0.94        30\n",
      "           2       1.00      0.88      0.93        24\n",
      "           3       0.50      0.33      0.40         3\n",
      "\n",
      "    accuracy                           0.91        57\n",
      "   macro avg       0.79      0.74      0.76        57\n",
      "weighted avg       0.91      0.91      0.91        57\n",
      "\n"
     ]
    }
   ],
   "source": [
    "# Results (Test Set)\n",
    "\n",
    "from sklearn.metrics import classification_report\n",
    "print(classification_report(y_test, y_pred))"
   ]
  },
  {
   "cell_type": "code",
   "execution_count": 47,
   "metadata": {},
   "outputs": [
    {
     "name": "stdout",
     "output_type": "stream",
     "text": [
      "[0.28070175 0.12280702 0.17894737 0.06315789 0.23508772 0.06315789]\n"
     ]
    }
   ],
   "source": [
    "from mlxtend.evaluate import feature_importance_permutation\n",
    "\n",
    "imp_vals, feature =feature_importance_permutation(predict_method=clf.predict,X=X_test,y=y_test,metric='accuracy',\n",
    "    num_rounds=5,seed=2)\n",
    "print(imp_vals)"
   ]
  },
  {
   "cell_type": "code",
   "execution_count": 48,
   "metadata": {},
   "outputs": [
    {
     "data": {
      "image/png": "[encoded data removed]",
      "text/plain": [
       "<Figure size 432x288 with 1 Axes>"
      ]
     },
     "metadata": {},
     "output_type": "display_data"
    }
   ],
   "source": [
    "features = list(X.columns.values)\n",
    "\n",
    "importances = imp_vals\n",
    "import numpy as np\n",
    "indices = np.argsort(importances)\n",
    "\n",
    "plt.title('Feature Importances')\n",
    "plt.barh(range(len(indices)), importances[indices], color='g', align='center')\n",
    "plt.yticks(range(len(indices)), [features[i] for i in indices])\n",
    "plt.xlabel('Relative Importance')\n",
    "plt.grid(b=None)\n",
    "plt.show()"
   ]
  },
  {
   "cell_type": "markdown",
   "metadata": {},
   "source": [
    "### Post pruning Decision Tree with Cost Complexity Pruning"
   ]
  },
  {
   "cell_type": "code",
   "execution_count": 49,
   "metadata": {},
   "outputs": [
    {
     "name": "stdout",
     "output_type": "stream",
     "text": [
      "Number of nodes in the last tree is: 1 with ccp_alpha: 0.10934083099031566 and a depth of: 0\n"
     ]
    }
   ],
   "source": [
    "path = clf.cost_complexity_pruning_path(X_train, y_train)\n",
    "ccp_alphas, impurities = path.ccp_alphas, path.impurities\n",
    "\n",
    "clfs = []\n",
    "for ccp_alpha in ccp_alphas:\n",
    "    clf = DecisionTreeClassifier(random_state=0, ccp_alpha=ccp_alpha)\n",
    "    clf.fit(X_train, y_train)\n",
    "    clfs.append(clf)\n",
    "print(\"Number of nodes in the last tree is: {} with ccp_alpha: {} and a depth of: {}\".format(\n",
    "clfs[-1].tree_.node_count, ccp_alphas[-1],clfs[-1].tree_.max_depth))"
   ]
  },
  {
   "cell_type": "code",
   "execution_count": 50,
   "metadata": {},
   "outputs": [
    {
     "data": {
      "image/png": "[encoded data removed]",
      "text/plain": [
       "<Figure size 576x360 with 1 Axes>"
      ]
     },
     "metadata": {},
     "output_type": "display_data"
    }
   ],
   "source": [
    "train_scores = [clf.score(X_train, y_train) for clf in clfs]\n",
    "test_scores = [clf.score(X_test, y_test) for clf in clfs]\n",
    "\n",
    "plt.style.use('seaborn-white')\n",
    "\n",
    "#leg = plt.legend()\n",
    "#leg.get_frame().set_edgecolor('Black')\n",
    "#plt.grid(b=None)\n",
    "fig, ax = plt.subplots(figsize=(8, 5))\n",
    "ax.set_xlabel(\"ccp alpha\", fontweight='bold', fontsize='large')\n",
    "ax.set_ylabel(\"Accuracy\", fontweight='bold', fontsize='large')\n",
    "#ax.set_title(\"Accuracy vs ccp_alpha for training and testing sets\")\n",
    "ax.plot(ccp_alphas, train_scores, marker='o', label=\"Train_set\",\n",
    "        drawstyle=\"steps-post\")\n",
    "ax.plot(ccp_alphas, test_scores, marker='o', label=\"Test_set\",\n",
    "        drawstyle=\"steps-post\")\n",
    "#ax.set_ylim([0.65, 1])\n",
    "ax.legend()\n",
    "\n",
    "plt.savefig('/Users/mkabir4/Desktop/DT_Prun.png', bbox_inches='tight', dpi=100, edgecolor='b')\n",
    "plt.show()"
   ]
  },
  {
   "cell_type": "markdown",
   "metadata": {},
   "source": [
    "### XGBoost"
   ]
  },
  {
   "cell_type": "code",
   "execution_count": 51,
   "metadata": {},
   "outputs": [
    {
     "name": "stdout",
     "output_type": "stream",
     "text": [
      "Accuracy of XGB classifier on training set: 0.98\n",
      "Accuracy of XGB classifier on test set: 0.82\n"
     ]
    }
   ],
   "source": [
    "from xgboost import XGBClassifier\n",
    "from sklearn.datasets import make_classification\n",
    "\n",
    "XGB = XGBClassifier(random_state=0)\n",
    "XGB.fit(X_train, y_train)\n",
    "print('Accuracy of XGB classifier on training set: {:.2f}'\n",
    "     .format(XGB.score(X_train, y_train)))\n",
    "print('Accuracy of XGB classifier on test set: {:.2f}'\n",
    "     .format(XGB.score(X_test, y_test)))"
   ]
  },
  {
   "cell_type": "code",
   "execution_count": 52,
   "metadata": {},
   "outputs": [
    {
     "name": "stdout",
     "output_type": "stream",
     "text": [
      "[[80  0  0]\n",
      " [ 1 79  0]\n",
      " [ 0  3 77]]\n"
     ]
    }
   ],
   "source": [
    "# Results (Training Set)\n",
    "\n",
    "y_pred_train = XGB.predict(X_train)\n",
    "from sklearn.metrics import confusion_matrix\n",
    "confusion_matrix = confusion_matrix(y_train, y_pred_train)\n",
    "print(confusion_matrix)"
   ]
  },
  {
   "cell_type": "code",
   "execution_count": 53,
   "metadata": {},
   "outputs": [
    {
     "name": "stdout",
     "output_type": "stream",
     "text": [
      "              precision    recall  f1-score   support\n",
      "\n",
      "           1       0.99      1.00      0.99        80\n",
      "           2       0.96      0.99      0.98        80\n",
      "           3       1.00      0.96      0.98        80\n",
      "\n",
      "    accuracy                           0.98       240\n",
      "   macro avg       0.98      0.98      0.98       240\n",
      "weighted avg       0.98      0.98      0.98       240\n",
      "\n"
     ]
    }
   ],
   "source": [
    "# Results (Training Set)\n",
    "\n",
    "from sklearn.metrics import classification_report\n",
    "print(classification_report(y_train, y_pred_train))"
   ]
  },
  {
   "cell_type": "code",
   "execution_count": 54,
   "metadata": {},
   "outputs": [
    {
     "name": "stdout",
     "output_type": "stream",
     "text": [
      "[[28  0  2]\n",
      " [ 5 18  1]\n",
      " [ 2  0  1]]\n"
     ]
    }
   ],
   "source": [
    "# Results (Test Set)\n",
    "\n",
    "y_pred = XGB.predict(X_test)\n",
    "from sklearn.metrics import confusion_matrix\n",
    "confusion_matrix = confusion_matrix(y_test, y_pred)\n",
    "print(confusion_matrix)"
   ]
  },
  {
   "cell_type": "code",
   "execution_count": 55,
   "metadata": {},
   "outputs": [
    {
     "name": "stdout",
     "output_type": "stream",
     "text": [
      "              precision    recall  f1-score   support\n",
      "\n",
      "           1       0.80      0.93      0.86        30\n",
      "           2       1.00      0.75      0.86        24\n",
      "           3       0.25      0.33      0.29         3\n",
      "\n",
      "    accuracy                           0.82        57\n",
      "   macro avg       0.68      0.67      0.67        57\n",
      "weighted avg       0.86      0.82      0.83        57\n",
      "\n"
     ]
    }
   ],
   "source": [
    "# Results (Test Set)\n",
    "\n",
    "from sklearn.metrics import classification_report\n",
    "print(classification_report(y_test, y_pred))"
   ]
  },
  {
   "cell_type": "markdown",
   "metadata": {},
   "source": [
    "### Light GBM"
   ]
  },
  {
   "cell_type": "code",
   "execution_count": 56,
   "metadata": {},
   "outputs": [
    {
     "name": "stdout",
     "output_type": "stream",
     "text": [
      "Accuracy of LGB classifier on training set: 0.96\n",
      "Accuracy of LGB classifier on test set: 0.79\n"
     ]
    }
   ],
   "source": [
    "from lightgbm import LGBMClassifier\n",
    "from sklearn.datasets import make_classification\n",
    "\n",
    "LGB = LGBMClassifier(random_state=0)\n",
    "LGB.fit(X_train, y_train)\n",
    "print('Accuracy of LGB classifier on training set: {:.2f}'\n",
    "     .format(LGB.score(X_train, y_train)))\n",
    "print('Accuracy of LGB classifier on test set: {:.2f}'\n",
    "     .format(LGB.score(X_test, y_test)))"
   ]
  },
  {
   "cell_type": "code",
   "execution_count": 57,
   "metadata": {},
   "outputs": [
    {
     "name": "stdout",
     "output_type": "stream",
     "text": [
      "[[79  1  0]\n",
      " [ 1 76  3]\n",
      " [ 0  4 76]]\n"
     ]
    }
   ],
   "source": [
    "# Results (Training Set)\n",
    "\n",
    "y_pred_train = LGB.predict(X_train)\n",
    "from sklearn.metrics import confusion_matrix\n",
    "confusion_matrix = confusion_matrix(y_train, y_pred_train)\n",
    "print(confusion_matrix)"
   ]
  },
  {
   "cell_type": "code",
   "execution_count": 58,
   "metadata": {},
   "outputs": [
    {
     "name": "stdout",
     "output_type": "stream",
     "text": [
      "              precision    recall  f1-score   support\n",
      "\n",
      "           1       0.99      0.99      0.99        80\n",
      "           2       0.94      0.95      0.94        80\n",
      "           3       0.96      0.95      0.96        80\n",
      "\n",
      "    accuracy                           0.96       240\n",
      "   macro avg       0.96      0.96      0.96       240\n",
      "weighted avg       0.96      0.96      0.96       240\n",
      "\n"
     ]
    }
   ],
   "source": [
    "# Results (Training Set)\n",
    "\n",
    "from sklearn.metrics import classification_report\n",
    "print(classification_report(y_train, y_pred_train))"
   ]
  },
  {
   "cell_type": "code",
   "execution_count": 59,
   "metadata": {},
   "outputs": [
    {
     "name": "stdout",
     "output_type": "stream",
     "text": [
      "[[28  0  2]\n",
      " [ 5 16  3]\n",
      " [ 2  0  1]]\n"
     ]
    }
   ],
   "source": [
    "# Results (Test Set)\n",
    "\n",
    "y_pred = LGB.predict(X_test)\n",
    "from sklearn.metrics import confusion_matrix\n",
    "confusion_matrix = confusion_matrix(y_test, y_pred)\n",
    "print(confusion_matrix)"
   ]
  },
  {
   "cell_type": "code",
   "execution_count": 60,
   "metadata": {},
   "outputs": [
    {
     "name": "stdout",
     "output_type": "stream",
     "text": [
      "              precision    recall  f1-score   support\n",
      "\n",
      "           1       0.80      0.93      0.86        30\n",
      "           2       1.00      0.67      0.80        24\n",
      "           3       0.17      0.33      0.22         3\n",
      "\n",
      "    accuracy                           0.79        57\n",
      "   macro avg       0.66      0.64      0.63        57\n",
      "weighted avg       0.85      0.79      0.80        57\n",
      "\n"
     ]
    }
   ],
   "source": [
    "# Results (Test Set)\n",
    "\n",
    "from sklearn.metrics import classification_report\n",
    "print(classification_report(y_test, y_pred))"
   ]
  },
  {
   "cell_type": "markdown",
   "metadata": {},
   "source": [
    "### AdaBoost"
   ]
  },
  {
   "cell_type": "code",
   "execution_count": 61,
   "metadata": {},
   "outputs": [
    {
     "name": "stdout",
     "output_type": "stream",
     "text": [
      "Accuracy of ADB classifier on training set: 0.87\n",
      "Accuracy of ADB classifier on test set: 0.75\n"
     ]
    }
   ],
   "source": [
    "from sklearn.ensemble import AdaBoostClassifier\n",
    "from sklearn.datasets import make_classification\n",
    "\n",
    "ADB = AdaBoostClassifier(random_state=0)\n",
    "ADB.fit(X_train, y_train)\n",
    "\n",
    "print('Accuracy of ADB classifier on training set: {:.2f}'\n",
    "     .format(ADB.score(X_train, y_train)))\n",
    "print('Accuracy of ADB classifier on test set: {:.2f}'\n",
    "     .format(ADB.score(X_test, y_test)))"
   ]
  },
  {
   "cell_type": "code",
   "execution_count": 62,
   "metadata": {},
   "outputs": [
    {
     "name": "stdout",
     "output_type": "stream",
     "text": [
      "[[74  6  0]\n",
      " [ 9 64  7]\n",
      " [ 0  9 71]]\n"
     ]
    }
   ],
   "source": [
    "# Results (Training Set)\n",
    "\n",
    "y_pred_train = ADB.predict(X_train)\n",
    "from sklearn.metrics import confusion_matrix\n",
    "confusion_matrix = confusion_matrix(y_train, y_pred_train)\n",
    "print(confusion_matrix)"
   ]
  },
  {
   "cell_type": "code",
   "execution_count": 63,
   "metadata": {},
   "outputs": [
    {
     "name": "stdout",
     "output_type": "stream",
     "text": [
      "              precision    recall  f1-score   support\n",
      "\n",
      "           1       0.89      0.93      0.91        80\n",
      "           2       0.81      0.80      0.81        80\n",
      "           3       0.91      0.89      0.90        80\n",
      "\n",
      "    accuracy                           0.87       240\n",
      "   macro avg       0.87      0.87      0.87       240\n",
      "weighted avg       0.87      0.87      0.87       240\n",
      "\n"
     ]
    }
   ],
   "source": [
    "# Results (Training Set)\n",
    "\n",
    "from sklearn.metrics import classification_report\n",
    "print(classification_report(y_train, y_pred_train))"
   ]
  },
  {
   "cell_type": "code",
   "execution_count": 64,
   "metadata": {},
   "outputs": [
    {
     "name": "stdout",
     "output_type": "stream",
     "text": [
      "[[27  2  1]\n",
      " [ 6 15  3]\n",
      " [ 2  0  1]]\n"
     ]
    }
   ],
   "source": [
    "# Results (Test Set)\n",
    "\n",
    "y_pred = ADB.predict(X_test)\n",
    "from sklearn.metrics import confusion_matrix\n",
    "confusion_matrix = confusion_matrix(y_test, y_pred)\n",
    "print(confusion_matrix)"
   ]
  },
  {
   "cell_type": "code",
   "execution_count": 65,
   "metadata": {},
   "outputs": [
    {
     "name": "stdout",
     "output_type": "stream",
     "text": [
      "              precision    recall  f1-score   support\n",
      "\n",
      "           1       0.77      0.90      0.83        30\n",
      "           2       0.88      0.62      0.73        24\n",
      "           3       0.20      0.33      0.25         3\n",
      "\n",
      "    accuracy                           0.75        57\n",
      "   macro avg       0.62      0.62      0.60        57\n",
      "weighted avg       0.79      0.75      0.76        57\n",
      "\n"
     ]
    }
   ],
   "source": [
    "# Results (Test Set)\n",
    "\n",
    "from sklearn.metrics import classification_report\n",
    "print(classification_report(y_test, y_pred))"
   ]
  },
  {
   "cell_type": "markdown",
   "metadata": {},
   "source": [
    "### CatBoost"
   ]
  },
  {
   "cell_type": "code",
   "execution_count": 66,
   "metadata": {},
   "outputs": [
    {
     "name": "stdout",
     "output_type": "stream",
     "text": [
      "Learning rate set to 0.073572\n",
      "0:\tlearn: 1.0559167\ttotal: 55.1ms\tremaining: 55.1s\n",
      "1:\tlearn: 1.0103864\ttotal: 56.1ms\tremaining: 28s\n",
      "2:\tlearn: 0.9639706\ttotal: 57ms\tremaining: 18.9s\n",
      "3:\tlearn: 0.9268410\ttotal: 57.9ms\tremaining: 14.4s\n",
      "4:\tlearn: 0.8872101\ttotal: 58.8ms\tremaining: 11.7s\n",
      "5:\tlearn: 0.8585839\ttotal: 59.7ms\tremaining: 9.89s\n",
      "6:\tlearn: 0.8292464\ttotal: 60.6ms\tremaining: 8.6s\n",
      "7:\tlearn: 0.7983269\ttotal: 61.5ms\tremaining: 7.62s\n",
      "8:\tlearn: 0.7769367\ttotal: 62.3ms\tremaining: 6.86s\n",
      "9:\tlearn: 0.7567343\ttotal: 63.1ms\tremaining: 6.25s\n",
      "10:\tlearn: 0.7368559\ttotal: 63.9ms\tremaining: 5.75s\n",
      "11:\tlearn: 0.7139441\ttotal: 64.7ms\tremaining: 5.33s\n",
      "12:\tlearn: 0.6907944\ttotal: 65.6ms\tremaining: 4.98s\n",
      "13:\tlearn: 0.6738423\ttotal: 66.7ms\tremaining: 4.7s\n",
      "14:\tlearn: 0.6560425\ttotal: 67.9ms\tremaining: 4.46s\n",
      "15:\tlearn: 0.6373905\ttotal: 68.9ms\tremaining: 4.24s\n",
      "16:\tlearn: 0.6227333\ttotal: 69.8ms\tremaining: 4.04s\n",
      "17:\tlearn: 0.6140651\ttotal: 70.3ms\tremaining: 3.83s\n",
      "18:\tlearn: 0.6017828\ttotal: 71.3ms\tremaining: 3.68s\n",
      "19:\tlearn: 0.5887642\ttotal: 72.3ms\tremaining: 3.54s\n",
      "20:\tlearn: 0.5735291\ttotal: 73.3ms\tremaining: 3.42s\n",
      "21:\tlearn: 0.5608536\ttotal: 74.2ms\tremaining: 3.3s\n",
      "22:\tlearn: 0.5481709\ttotal: 75ms\tremaining: 3.19s\n",
      "23:\tlearn: 0.5380399\ttotal: 75.9ms\tremaining: 3.09s\n",
      "24:\tlearn: 0.5243419\ttotal: 76.8ms\tremaining: 3s\n",
      "25:\tlearn: 0.5138643\ttotal: 77.8ms\tremaining: 2.91s\n",
      "26:\tlearn: 0.5046307\ttotal: 78.7ms\tremaining: 2.83s\n",
      "27:\tlearn: 0.4955803\ttotal: 79.6ms\tremaining: 2.76s\n",
      "28:\tlearn: 0.4883807\ttotal: 80.5ms\tremaining: 2.69s\n",
      "29:\tlearn: 0.4803753\ttotal: 81.3ms\tremaining: 2.63s\n",
      "30:\tlearn: 0.4711373\ttotal: 82.2ms\tremaining: 2.57s\n",
      "31:\tlearn: 0.4622371\ttotal: 83.2ms\tremaining: 2.52s\n",
      "32:\tlearn: 0.4544791\ttotal: 84.2ms\tremaining: 2.47s\n",
      "33:\tlearn: 0.4468614\ttotal: 85.1ms\tremaining: 2.42s\n",
      "34:\tlearn: 0.4403141\ttotal: 86ms\tremaining: 2.37s\n",
      "35:\tlearn: 0.4343605\ttotal: 86.8ms\tremaining: 2.33s\n",
      "36:\tlearn: 0.4267528\ttotal: 87.7ms\tremaining: 2.28s\n",
      "37:\tlearn: 0.4187288\ttotal: 88.6ms\tremaining: 2.24s\n",
      "38:\tlearn: 0.4124927\ttotal: 89.5ms\tremaining: 2.2s\n",
      "39:\tlearn: 0.4048987\ttotal: 90.3ms\tremaining: 2.17s\n",
      "40:\tlearn: 0.4002757\ttotal: 91.2ms\tremaining: 2.13s\n",
      "41:\tlearn: 0.3951246\ttotal: 92.1ms\tremaining: 2.1s\n",
      "42:\tlearn: 0.3895961\ttotal: 93ms\tremaining: 2.07s\n",
      "43:\tlearn: 0.3833850\ttotal: 93.9ms\tremaining: 2.04s\n",
      "44:\tlearn: 0.3776894\ttotal: 94.9ms\tremaining: 2.01s\n",
      "45:\tlearn: 0.3732577\ttotal: 95.7ms\tremaining: 1.98s\n",
      "46:\tlearn: 0.3674140\ttotal: 96.7ms\tremaining: 1.96s\n",
      "47:\tlearn: 0.3643716\ttotal: 97.5ms\tremaining: 1.93s\n",
      "48:\tlearn: 0.3595260\ttotal: 98.4ms\tremaining: 1.91s\n",
      "49:\tlearn: 0.3554270\ttotal: 99.3ms\tremaining: 1.89s\n",
      "50:\tlearn: 0.3505110\ttotal: 100ms\tremaining: 1.86s\n",
      "51:\tlearn: 0.3469957\ttotal: 101ms\tremaining: 1.84s\n",
      "52:\tlearn: 0.3435103\ttotal: 102ms\tremaining: 1.82s\n",
      "53:\tlearn: 0.3398637\ttotal: 103ms\tremaining: 1.8s\n",
      "54:\tlearn: 0.3357553\ttotal: 104ms\tremaining: 1.79s\n",
      "55:\tlearn: 0.3310236\ttotal: 105ms\tremaining: 1.77s\n",
      "56:\tlearn: 0.3271559\ttotal: 106ms\tremaining: 1.75s\n",
      "57:\tlearn: 0.3237616\ttotal: 107ms\tremaining: 1.73s\n",
      "58:\tlearn: 0.3203987\ttotal: 108ms\tremaining: 1.72s\n",
      "59:\tlearn: 0.3164385\ttotal: 109ms\tremaining: 1.7s\n",
      "60:\tlearn: 0.3133586\ttotal: 109ms\tremaining: 1.69s\n",
      "61:\tlearn: 0.3096643\ttotal: 110ms\tremaining: 1.67s\n",
      "62:\tlearn: 0.3070229\ttotal: 111ms\tremaining: 1.66s\n",
      "63:\tlearn: 0.3040903\ttotal: 112ms\tremaining: 1.64s\n",
      "64:\tlearn: 0.3008300\ttotal: 113ms\tremaining: 1.63s\n",
      "65:\tlearn: 0.2971880\ttotal: 114ms\tremaining: 1.62s\n",
      "66:\tlearn: 0.2922899\ttotal: 115ms\tremaining: 1.6s\n",
      "67:\tlearn: 0.2897248\ttotal: 116ms\tremaining: 1.59s\n",
      "68:\tlearn: 0.2873479\ttotal: 117ms\tremaining: 1.58s\n",
      "69:\tlearn: 0.2844067\ttotal: 118ms\tremaining: 1.56s\n",
      "70:\tlearn: 0.2825583\ttotal: 119ms\tremaining: 1.55s\n",
      "71:\tlearn: 0.2807241\ttotal: 119ms\tremaining: 1.54s\n",
      "72:\tlearn: 0.2790393\ttotal: 120ms\tremaining: 1.53s\n",
      "73:\tlearn: 0.2763964\ttotal: 121ms\tremaining: 1.51s\n",
      "74:\tlearn: 0.2745152\ttotal: 122ms\tremaining: 1.5s\n",
      "75:\tlearn: 0.2720578\ttotal: 123ms\tremaining: 1.49s\n",
      "76:\tlearn: 0.2697909\ttotal: 123ms\tremaining: 1.48s\n",
      "77:\tlearn: 0.2670766\ttotal: 124ms\tremaining: 1.47s\n",
      "78:\tlearn: 0.2652188\ttotal: 125ms\tremaining: 1.46s\n",
      "79:\tlearn: 0.2624646\ttotal: 126ms\tremaining: 1.45s\n",
      "80:\tlearn: 0.2599622\ttotal: 127ms\tremaining: 1.44s\n",
      "81:\tlearn: 0.2568535\ttotal: 127ms\tremaining: 1.43s\n",
      "82:\tlearn: 0.2552383\ttotal: 129ms\tremaining: 1.42s\n",
      "83:\tlearn: 0.2527456\ttotal: 130ms\tremaining: 1.41s\n",
      "84:\tlearn: 0.2506320\ttotal: 130ms\tremaining: 1.4s\n",
      "85:\tlearn: 0.2485715\ttotal: 131ms\tremaining: 1.39s\n",
      "86:\tlearn: 0.2467181\ttotal: 132ms\tremaining: 1.39s\n",
      "87:\tlearn: 0.2443378\ttotal: 133ms\tremaining: 1.38s\n",
      "88:\tlearn: 0.2422842\ttotal: 134ms\tremaining: 1.37s\n",
      "89:\tlearn: 0.2409028\ttotal: 134ms\tremaining: 1.36s\n",
      "90:\tlearn: 0.2390651\ttotal: 135ms\tremaining: 1.35s\n",
      "91:\tlearn: 0.2366960\ttotal: 136ms\tremaining: 1.34s\n",
      "92:\tlearn: 0.2357493\ttotal: 137ms\tremaining: 1.33s\n",
      "93:\tlearn: 0.2349063\ttotal: 138ms\tremaining: 1.33s\n",
      "94:\tlearn: 0.2333281\ttotal: 138ms\tremaining: 1.32s\n",
      "95:\tlearn: 0.2310719\ttotal: 139ms\tremaining: 1.31s\n",
      "96:\tlearn: 0.2283831\ttotal: 140ms\tremaining: 1.3s\n",
      "97:\tlearn: 0.2266054\ttotal: 141ms\tremaining: 1.3s\n",
      "98:\tlearn: 0.2244115\ttotal: 142ms\tremaining: 1.29s\n",
      "99:\tlearn: 0.2219224\ttotal: 143ms\tremaining: 1.29s\n",
      "100:\tlearn: 0.2195942\ttotal: 144ms\tremaining: 1.28s\n",
      "101:\tlearn: 0.2184590\ttotal: 145ms\tremaining: 1.27s\n",
      "102:\tlearn: 0.2168870\ttotal: 146ms\tremaining: 1.27s\n",
      "103:\tlearn: 0.2150127\ttotal: 146ms\tremaining: 1.26s\n",
      "104:\tlearn: 0.2138929\ttotal: 147ms\tremaining: 1.25s\n",
      "105:\tlearn: 0.2131645\ttotal: 148ms\tremaining: 1.25s\n",
      "106:\tlearn: 0.2106243\ttotal: 149ms\tremaining: 1.24s\n",
      "107:\tlearn: 0.2085343\ttotal: 149ms\tremaining: 1.23s\n",
      "108:\tlearn: 0.2072385\ttotal: 150ms\tremaining: 1.23s\n",
      "109:\tlearn: 0.2058411\ttotal: 151ms\tremaining: 1.22s\n",
      "110:\tlearn: 0.2041661\ttotal: 152ms\tremaining: 1.22s\n",
      "111:\tlearn: 0.2031640\ttotal: 153ms\tremaining: 1.21s\n",
      "112:\tlearn: 0.2012396\ttotal: 154ms\tremaining: 1.21s\n",
      "113:\tlearn: 0.1995787\ttotal: 154ms\tremaining: 1.2s\n",
      "114:\tlearn: 0.1981707\ttotal: 155ms\tremaining: 1.2s\n",
      "115:\tlearn: 0.1965581\ttotal: 157ms\tremaining: 1.19s\n",
      "116:\tlearn: 0.1951114\ttotal: 157ms\tremaining: 1.19s\n",
      "117:\tlearn: 0.1942361\ttotal: 158ms\tremaining: 1.18s\n",
      "118:\tlearn: 0.1923453\ttotal: 159ms\tremaining: 1.18s\n",
      "119:\tlearn: 0.1908622\ttotal: 160ms\tremaining: 1.17s\n",
      "120:\tlearn: 0.1902433\ttotal: 161ms\tremaining: 1.17s\n",
      "121:\tlearn: 0.1888980\ttotal: 162ms\tremaining: 1.16s\n",
      "122:\tlearn: 0.1880750\ttotal: 162ms\tremaining: 1.16s\n",
      "123:\tlearn: 0.1868305\ttotal: 164ms\tremaining: 1.16s\n",
      "124:\tlearn: 0.1849171\ttotal: 164ms\tremaining: 1.15s\n",
      "125:\tlearn: 0.1844802\ttotal: 165ms\tremaining: 1.15s\n",
      "126:\tlearn: 0.1832592\ttotal: 166ms\tremaining: 1.14s\n",
      "127:\tlearn: 0.1820290\ttotal: 167ms\tremaining: 1.14s\n",
      "128:\tlearn: 0.1807503\ttotal: 168ms\tremaining: 1.13s\n",
      "129:\tlearn: 0.1800434\ttotal: 169ms\tremaining: 1.13s\n",
      "130:\tlearn: 0.1794156\ttotal: 169ms\tremaining: 1.12s\n",
      "131:\tlearn: 0.1785624\ttotal: 170ms\tremaining: 1.12s\n",
      "132:\tlearn: 0.1774527\ttotal: 171ms\tremaining: 1.11s\n",
      "133:\tlearn: 0.1766876\ttotal: 172ms\tremaining: 1.11s\n",
      "134:\tlearn: 0.1754117\ttotal: 173ms\tremaining: 1.11s\n",
      "135:\tlearn: 0.1744243\ttotal: 174ms\tremaining: 1.11s\n",
      "136:\tlearn: 0.1737833\ttotal: 175ms\tremaining: 1.1s\n",
      "137:\tlearn: 0.1733281\ttotal: 176ms\tremaining: 1.1s\n",
      "138:\tlearn: 0.1721916\ttotal: 177ms\tremaining: 1.09s\n",
      "139:\tlearn: 0.1713743\ttotal: 178ms\tremaining: 1.09s\n",
      "140:\tlearn: 0.1702218\ttotal: 178ms\tremaining: 1.09s\n",
      "141:\tlearn: 0.1696301\ttotal: 179ms\tremaining: 1.08s\n",
      "142:\tlearn: 0.1682594\ttotal: 180ms\tremaining: 1.08s\n",
      "143:\tlearn: 0.1674618\ttotal: 181ms\tremaining: 1.08s\n",
      "144:\tlearn: 0.1667237\ttotal: 182ms\tremaining: 1.07s\n",
      "145:\tlearn: 0.1661297\ttotal: 183ms\tremaining: 1.07s\n",
      "146:\tlearn: 0.1650025\ttotal: 184ms\tremaining: 1.06s\n",
      "147:\tlearn: 0.1640824\ttotal: 184ms\tremaining: 1.06s\n",
      "148:\tlearn: 0.1631735\ttotal: 185ms\tremaining: 1.06s\n",
      "149:\tlearn: 0.1621593\ttotal: 186ms\tremaining: 1.05s\n",
      "150:\tlearn: 0.1611926\ttotal: 187ms\tremaining: 1.05s\n",
      "151:\tlearn: 0.1606930\ttotal: 188ms\tremaining: 1.05s\n",
      "152:\tlearn: 0.1599130\ttotal: 189ms\tremaining: 1.04s\n",
      "153:\tlearn: 0.1591341\ttotal: 189ms\tremaining: 1.04s\n",
      "154:\tlearn: 0.1583719\ttotal: 190ms\tremaining: 1.04s\n",
      "155:\tlearn: 0.1577222\ttotal: 191ms\tremaining: 1.03s\n",
      "156:\tlearn: 0.1565266\ttotal: 192ms\tremaining: 1.03s\n",
      "157:\tlearn: 0.1560422\ttotal: 193ms\tremaining: 1.03s\n",
      "158:\tlearn: 0.1554644\ttotal: 194ms\tremaining: 1.02s\n",
      "159:\tlearn: 0.1548441\ttotal: 194ms\tremaining: 1.02s\n",
      "160:\tlearn: 0.1542437\ttotal: 195ms\tremaining: 1.02s\n",
      "161:\tlearn: 0.1534517\ttotal: 196ms\tremaining: 1.01s\n",
      "162:\tlearn: 0.1529621\ttotal: 197ms\tremaining: 1.01s\n",
      "163:\tlearn: 0.1523726\ttotal: 198ms\tremaining: 1.01s\n",
      "164:\tlearn: 0.1516700\ttotal: 199ms\tremaining: 1s\n",
      "165:\tlearn: 0.1512135\ttotal: 199ms\tremaining: 1s\n",
      "166:\tlearn: 0.1503012\ttotal: 200ms\tremaining: 999ms\n",
      "167:\tlearn: 0.1495641\ttotal: 201ms\tremaining: 996ms\n",
      "168:\tlearn: 0.1490919\ttotal: 202ms\tremaining: 993ms\n",
      "169:\tlearn: 0.1484250\ttotal: 203ms\tremaining: 990ms\n",
      "170:\tlearn: 0.1476431\ttotal: 204ms\tremaining: 987ms\n",
      "171:\tlearn: 0.1472541\ttotal: 204ms\tremaining: 984ms\n",
      "172:\tlearn: 0.1468293\ttotal: 205ms\tremaining: 981ms\n",
      "173:\tlearn: 0.1458646\ttotal: 206ms\tremaining: 978ms\n",
      "174:\tlearn: 0.1452853\ttotal: 207ms\tremaining: 975ms\n",
      "175:\tlearn: 0.1443994\ttotal: 208ms\tremaining: 972ms\n",
      "176:\tlearn: 0.1438027\ttotal: 209ms\tremaining: 970ms\n",
      "177:\tlearn: 0.1429362\ttotal: 209ms\tremaining: 967ms\n",
      "178:\tlearn: 0.1424830\ttotal: 210ms\tremaining: 964ms\n",
      "179:\tlearn: 0.1418203\ttotal: 211ms\tremaining: 961ms\n",
      "180:\tlearn: 0.1415100\ttotal: 212ms\tremaining: 958ms\n",
      "181:\tlearn: 0.1412502\ttotal: 213ms\tremaining: 956ms\n",
      "182:\tlearn: 0.1404721\ttotal: 213ms\tremaining: 953ms\n",
      "183:\tlearn: 0.1398954\ttotal: 214ms\tremaining: 950ms\n",
      "184:\tlearn: 0.1396155\ttotal: 215ms\tremaining: 947ms\n",
      "185:\tlearn: 0.1388739\ttotal: 216ms\tremaining: 945ms\n",
      "186:\tlearn: 0.1383301\ttotal: 217ms\tremaining: 942ms\n",
      "187:\tlearn: 0.1378596\ttotal: 218ms\tremaining: 940ms\n",
      "188:\tlearn: 0.1373767\ttotal: 218ms\tremaining: 937ms\n",
      "189:\tlearn: 0.1366684\ttotal: 219ms\tremaining: 935ms\n",
      "190:\tlearn: 0.1360050\ttotal: 220ms\tremaining: 932ms\n",
      "191:\tlearn: 0.1353437\ttotal: 221ms\tremaining: 929ms\n",
      "192:\tlearn: 0.1349217\ttotal: 222ms\tremaining: 927ms\n",
      "193:\tlearn: 0.1342608\ttotal: 222ms\tremaining: 924ms\n",
      "194:\tlearn: 0.1335970\ttotal: 223ms\tremaining: 922ms\n",
      "195:\tlearn: 0.1331276\ttotal: 224ms\tremaining: 919ms\n",
      "196:\tlearn: 0.1324707\ttotal: 225ms\tremaining: 917ms\n",
      "197:\tlearn: 0.1320408\ttotal: 226ms\tremaining: 914ms\n",
      "198:\tlearn: 0.1313733\ttotal: 226ms\tremaining: 912ms\n",
      "199:\tlearn: 0.1310412\ttotal: 227ms\tremaining: 909ms\n",
      "200:\tlearn: 0.1302312\ttotal: 228ms\tremaining: 907ms\n",
      "201:\tlearn: 0.1297437\ttotal: 229ms\tremaining: 904ms\n",
      "202:\tlearn: 0.1291243\ttotal: 230ms\tremaining: 902ms\n",
      "203:\tlearn: 0.1287020\ttotal: 231ms\tremaining: 900ms\n",
      "204:\tlearn: 0.1283312\ttotal: 231ms\tremaining: 897ms\n",
      "205:\tlearn: 0.1277705\ttotal: 232ms\tremaining: 895ms\n",
      "206:\tlearn: 0.1274119\ttotal: 233ms\tremaining: 893ms\n",
      "207:\tlearn: 0.1271868\ttotal: 234ms\tremaining: 890ms\n",
      "208:\tlearn: 0.1268643\ttotal: 235ms\tremaining: 888ms\n",
      "209:\tlearn: 0.1263651\ttotal: 235ms\tremaining: 886ms\n",
      "210:\tlearn: 0.1259253\ttotal: 236ms\tremaining: 883ms\n",
      "211:\tlearn: 0.1256495\ttotal: 237ms\tremaining: 881ms\n",
      "212:\tlearn: 0.1253228\ttotal: 238ms\tremaining: 879ms\n",
      "213:\tlearn: 0.1251287\ttotal: 239ms\tremaining: 876ms\n",
      "214:\tlearn: 0.1248700\ttotal: 239ms\tremaining: 874ms\n",
      "215:\tlearn: 0.1243054\ttotal: 240ms\tremaining: 872ms\n",
      "216:\tlearn: 0.1239902\ttotal: 241ms\tremaining: 870ms\n",
      "217:\tlearn: 0.1234551\ttotal: 242ms\tremaining: 868ms\n",
      "218:\tlearn: 0.1231084\ttotal: 243ms\tremaining: 865ms\n",
      "219:\tlearn: 0.1226979\ttotal: 244ms\tremaining: 863ms\n",
      "220:\tlearn: 0.1221233\ttotal: 244ms\tremaining: 862ms\n",
      "221:\tlearn: 0.1218786\ttotal: 245ms\tremaining: 860ms\n",
      "222:\tlearn: 0.1215592\ttotal: 246ms\tremaining: 857ms\n",
      "223:\tlearn: 0.1212837\ttotal: 247ms\tremaining: 855ms\n",
      "224:\tlearn: 0.1209003\ttotal: 248ms\tremaining: 853ms\n",
      "225:\tlearn: 0.1204037\ttotal: 249ms\tremaining: 851ms\n",
      "226:\tlearn: 0.1199944\ttotal: 249ms\tremaining: 849ms\n",
      "227:\tlearn: 0.1196135\ttotal: 250ms\tremaining: 847ms\n",
      "228:\tlearn: 0.1192325\ttotal: 251ms\tremaining: 845ms\n",
      "229:\tlearn: 0.1188479\ttotal: 252ms\tremaining: 843ms\n",
      "230:\tlearn: 0.1184407\ttotal: 253ms\tremaining: 841ms\n",
      "231:\tlearn: 0.1181106\ttotal: 253ms\tremaining: 839ms\n",
      "232:\tlearn: 0.1172700\ttotal: 254ms\tremaining: 837ms\n",
      "233:\tlearn: 0.1169499\ttotal: 255ms\tremaining: 835ms\n",
      "234:\tlearn: 0.1167999\ttotal: 256ms\tremaining: 833ms\n",
      "235:\tlearn: 0.1163891\ttotal: 257ms\tremaining: 831ms\n",
      "236:\tlearn: 0.1161735\ttotal: 257ms\tremaining: 829ms\n",
      "237:\tlearn: 0.1158860\ttotal: 258ms\tremaining: 827ms\n",
      "238:\tlearn: 0.1154533\ttotal: 259ms\tremaining: 825ms\n",
      "239:\tlearn: 0.1151908\ttotal: 260ms\tremaining: 823ms\n",
      "240:\tlearn: 0.1149425\ttotal: 261ms\tremaining: 821ms\n",
      "241:\tlearn: 0.1146008\ttotal: 261ms\tremaining: 819ms\n",
      "242:\tlearn: 0.1144163\ttotal: 262ms\tremaining: 817ms\n",
      "243:\tlearn: 0.1142040\ttotal: 263ms\tremaining: 815ms\n",
      "244:\tlearn: 0.1138593\ttotal: 264ms\tremaining: 813ms\n",
      "245:\tlearn: 0.1135826\ttotal: 265ms\tremaining: 811ms\n",
      "246:\tlearn: 0.1133337\ttotal: 265ms\tremaining: 809ms\n",
      "247:\tlearn: 0.1130096\ttotal: 266ms\tremaining: 807ms\n",
      "248:\tlearn: 0.1126255\ttotal: 267ms\tremaining: 806ms\n",
      "249:\tlearn: 0.1123651\ttotal: 268ms\tremaining: 804ms\n",
      "250:\tlearn: 0.1117132\ttotal: 269ms\tremaining: 802ms\n",
      "251:\tlearn: 0.1114890\ttotal: 270ms\tremaining: 800ms\n",
      "252:\tlearn: 0.1112652\ttotal: 270ms\tremaining: 798ms\n",
      "253:\tlearn: 0.1110760\ttotal: 271ms\tremaining: 796ms\n",
      "254:\tlearn: 0.1109040\ttotal: 272ms\tremaining: 795ms\n",
      "255:\tlearn: 0.1105569\ttotal: 273ms\tremaining: 793ms\n",
      "256:\tlearn: 0.1101419\ttotal: 274ms\tremaining: 791ms\n",
      "257:\tlearn: 0.1098844\ttotal: 274ms\tremaining: 789ms\n",
      "258:\tlearn: 0.1095997\ttotal: 275ms\tremaining: 788ms\n",
      "259:\tlearn: 0.1091707\ttotal: 276ms\tremaining: 786ms\n",
      "260:\tlearn: 0.1088324\ttotal: 277ms\tremaining: 784ms\n",
      "261:\tlearn: 0.1086051\ttotal: 278ms\tremaining: 783ms\n",
      "262:\tlearn: 0.1083413\ttotal: 279ms\tremaining: 781ms\n",
      "263:\tlearn: 0.1080947\ttotal: 279ms\tremaining: 779ms\n",
      "264:\tlearn: 0.1079286\ttotal: 280ms\tremaining: 777ms\n",
      "265:\tlearn: 0.1076485\ttotal: 281ms\tremaining: 776ms\n",
      "266:\tlearn: 0.1074351\ttotal: 282ms\tremaining: 774ms\n",
      "267:\tlearn: 0.1071072\ttotal: 283ms\tremaining: 772ms\n",
      "268:\tlearn: 0.1067771\ttotal: 283ms\tremaining: 770ms\n",
      "269:\tlearn: 0.1063478\ttotal: 284ms\tremaining: 769ms\n",
      "270:\tlearn: 0.1060747\ttotal: 285ms\tremaining: 767ms\n",
      "271:\tlearn: 0.1056246\ttotal: 286ms\tremaining: 766ms\n",
      "272:\tlearn: 0.1053574\ttotal: 287ms\tremaining: 764ms\n",
      "273:\tlearn: 0.1050368\ttotal: 288ms\tremaining: 762ms\n",
      "274:\tlearn: 0.1046794\ttotal: 289ms\tremaining: 761ms\n",
      "275:\tlearn: 0.1045204\ttotal: 289ms\tremaining: 759ms\n",
      "276:\tlearn: 0.1042155\ttotal: 291ms\tremaining: 758ms\n",
      "277:\tlearn: 0.1040003\ttotal: 291ms\tremaining: 757ms\n",
      "278:\tlearn: 0.1037904\ttotal: 292ms\tremaining: 755ms\n",
      "279:\tlearn: 0.1035148\ttotal: 293ms\tremaining: 753ms\n",
      "280:\tlearn: 0.1031051\ttotal: 294ms\tremaining: 752ms\n",
      "281:\tlearn: 0.1026599\ttotal: 295ms\tremaining: 750ms\n",
      "282:\tlearn: 0.1023336\ttotal: 295ms\tremaining: 748ms\n",
      "283:\tlearn: 0.1020458\ttotal: 296ms\tremaining: 747ms\n",
      "284:\tlearn: 0.1017392\ttotal: 297ms\tremaining: 745ms\n",
      "285:\tlearn: 0.1014536\ttotal: 298ms\tremaining: 744ms\n",
      "286:\tlearn: 0.1011479\ttotal: 299ms\tremaining: 742ms\n",
      "287:\tlearn: 0.1004653\ttotal: 300ms\tremaining: 741ms\n",
      "288:\tlearn: 0.1001982\ttotal: 300ms\tremaining: 739ms\n",
      "289:\tlearn: 0.1000519\ttotal: 301ms\tremaining: 738ms\n",
      "290:\tlearn: 0.0998495\ttotal: 302ms\tremaining: 736ms\n",
      "291:\tlearn: 0.0995966\ttotal: 303ms\tremaining: 735ms\n",
      "292:\tlearn: 0.0993087\ttotal: 304ms\tremaining: 733ms\n",
      "293:\tlearn: 0.0991286\ttotal: 305ms\tremaining: 732ms\n",
      "294:\tlearn: 0.0990346\ttotal: 306ms\tremaining: 730ms\n",
      "295:\tlearn: 0.0987924\ttotal: 306ms\tremaining: 729ms\n",
      "296:\tlearn: 0.0984427\ttotal: 307ms\tremaining: 727ms\n",
      "297:\tlearn: 0.0981762\ttotal: 308ms\tremaining: 726ms\n",
      "298:\tlearn: 0.0979965\ttotal: 309ms\tremaining: 724ms\n",
      "299:\tlearn: 0.0978213\ttotal: 310ms\tremaining: 722ms\n",
      "300:\tlearn: 0.0973853\ttotal: 311ms\tremaining: 721ms\n",
      "301:\tlearn: 0.0971074\ttotal: 311ms\tremaining: 720ms\n",
      "302:\tlearn: 0.0969471\ttotal: 312ms\tremaining: 718ms\n",
      "303:\tlearn: 0.0967929\ttotal: 313ms\tremaining: 717ms\n",
      "304:\tlearn: 0.0966655\ttotal: 314ms\tremaining: 715ms\n",
      "305:\tlearn: 0.0965403\ttotal: 315ms\tremaining: 714ms\n",
      "306:\tlearn: 0.0963291\ttotal: 316ms\tremaining: 712ms\n",
      "307:\tlearn: 0.0961339\ttotal: 316ms\tremaining: 711ms\n",
      "308:\tlearn: 0.0959464\ttotal: 317ms\tremaining: 709ms\n",
      "309:\tlearn: 0.0957058\ttotal: 318ms\tremaining: 708ms\n",
      "310:\tlearn: 0.0954477\ttotal: 319ms\tremaining: 707ms\n",
      "311:\tlearn: 0.0953121\ttotal: 320ms\tremaining: 705ms\n",
      "312:\tlearn: 0.0951825\ttotal: 321ms\tremaining: 704ms\n",
      "313:\tlearn: 0.0950413\ttotal: 322ms\tremaining: 702ms\n",
      "314:\tlearn: 0.0948607\ttotal: 322ms\tremaining: 701ms\n",
      "315:\tlearn: 0.0946759\ttotal: 323ms\tremaining: 699ms\n",
      "316:\tlearn: 0.0945384\ttotal: 324ms\tremaining: 698ms\n",
      "317:\tlearn: 0.0943327\ttotal: 325ms\tremaining: 696ms\n",
      "318:\tlearn: 0.0941837\ttotal: 326ms\tremaining: 695ms\n",
      "319:\tlearn: 0.0940273\ttotal: 326ms\tremaining: 693ms\n",
      "320:\tlearn: 0.0938378\ttotal: 327ms\tremaining: 692ms\n",
      "321:\tlearn: 0.0936231\ttotal: 328ms\tremaining: 690ms\n",
      "322:\tlearn: 0.0932863\ttotal: 329ms\tremaining: 689ms\n",
      "323:\tlearn: 0.0931231\ttotal: 329ms\tremaining: 687ms\n",
      "324:\tlearn: 0.0929304\ttotal: 330ms\tremaining: 686ms\n",
      "325:\tlearn: 0.0927505\ttotal: 331ms\tremaining: 684ms\n",
      "326:\tlearn: 0.0925812\ttotal: 332ms\tremaining: 683ms\n",
      "327:\tlearn: 0.0923796\ttotal: 333ms\tremaining: 681ms\n",
      "328:\tlearn: 0.0921818\ttotal: 333ms\tremaining: 680ms\n",
      "329:\tlearn: 0.0920393\ttotal: 334ms\tremaining: 679ms\n",
      "330:\tlearn: 0.0919188\ttotal: 335ms\tremaining: 677ms\n",
      "331:\tlearn: 0.0916746\ttotal: 336ms\tremaining: 676ms\n",
      "332:\tlearn: 0.0914671\ttotal: 337ms\tremaining: 674ms\n",
      "333:\tlearn: 0.0913112\ttotal: 337ms\tremaining: 673ms\n",
      "334:\tlearn: 0.0911692\ttotal: 338ms\tremaining: 672ms\n",
      "335:\tlearn: 0.0909102\ttotal: 339ms\tremaining: 670ms\n",
      "336:\tlearn: 0.0907075\ttotal: 340ms\tremaining: 669ms\n",
      "337:\tlearn: 0.0904363\ttotal: 341ms\tremaining: 667ms\n",
      "338:\tlearn: 0.0902641\ttotal: 342ms\tremaining: 666ms\n",
      "339:\tlearn: 0.0901875\ttotal: 342ms\tremaining: 665ms\n",
      "340:\tlearn: 0.0900010\ttotal: 343ms\tremaining: 663ms\n",
      "341:\tlearn: 0.0898516\ttotal: 344ms\tremaining: 662ms\n",
      "342:\tlearn: 0.0896900\ttotal: 345ms\tremaining: 660ms\n",
      "343:\tlearn: 0.0895285\ttotal: 346ms\tremaining: 659ms\n",
      "344:\tlearn: 0.0893707\ttotal: 346ms\tremaining: 658ms\n",
      "345:\tlearn: 0.0892616\ttotal: 347ms\tremaining: 656ms\n",
      "346:\tlearn: 0.0891755\ttotal: 348ms\tremaining: 655ms\n",
      "347:\tlearn: 0.0890216\ttotal: 349ms\tremaining: 653ms\n",
      "348:\tlearn: 0.0888024\ttotal: 350ms\tremaining: 652ms\n",
      "349:\tlearn: 0.0887119\ttotal: 350ms\tremaining: 651ms\n",
      "350:\tlearn: 0.0885533\ttotal: 351ms\tremaining: 649ms\n",
      "351:\tlearn: 0.0884723\ttotal: 352ms\tremaining: 648ms\n",
      "352:\tlearn: 0.0883489\ttotal: 353ms\tremaining: 647ms\n",
      "353:\tlearn: 0.0882337\ttotal: 354ms\tremaining: 645ms\n",
      "354:\tlearn: 0.0881307\ttotal: 354ms\tremaining: 644ms\n",
      "355:\tlearn: 0.0878958\ttotal: 355ms\tremaining: 642ms\n",
      "356:\tlearn: 0.0876890\ttotal: 356ms\tremaining: 641ms\n",
      "357:\tlearn: 0.0876109\ttotal: 357ms\tremaining: 640ms\n",
      "358:\tlearn: 0.0875530\ttotal: 357ms\tremaining: 638ms\n",
      "359:\tlearn: 0.0874886\ttotal: 358ms\tremaining: 637ms\n",
      "360:\tlearn: 0.0873460\ttotal: 359ms\tremaining: 636ms\n",
      "361:\tlearn: 0.0871066\ttotal: 360ms\tremaining: 634ms\n",
      "362:\tlearn: 0.0869207\ttotal: 361ms\tremaining: 633ms\n",
      "363:\tlearn: 0.0868027\ttotal: 361ms\tremaining: 632ms\n",
      "364:\tlearn: 0.0865634\ttotal: 362ms\tremaining: 630ms\n",
      "365:\tlearn: 0.0864609\ttotal: 363ms\tremaining: 629ms\n",
      "366:\tlearn: 0.0863261\ttotal: 364ms\tremaining: 628ms\n",
      "367:\tlearn: 0.0861555\ttotal: 365ms\tremaining: 626ms\n",
      "368:\tlearn: 0.0860419\ttotal: 365ms\tremaining: 625ms\n",
      "369:\tlearn: 0.0859099\ttotal: 366ms\tremaining: 624ms\n",
      "370:\tlearn: 0.0857560\ttotal: 367ms\tremaining: 622ms\n",
      "371:\tlearn: 0.0856936\ttotal: 368ms\tremaining: 621ms\n",
      "372:\tlearn: 0.0855462\ttotal: 369ms\tremaining: 620ms\n",
      "373:\tlearn: 0.0854557\ttotal: 369ms\tremaining: 618ms\n",
      "374:\tlearn: 0.0853716\ttotal: 370ms\tremaining: 617ms\n",
      "375:\tlearn: 0.0851340\ttotal: 371ms\tremaining: 616ms\n",
      "376:\tlearn: 0.0850273\ttotal: 372ms\tremaining: 615ms\n",
      "377:\tlearn: 0.0848427\ttotal: 373ms\tremaining: 613ms\n",
      "378:\tlearn: 0.0847310\ttotal: 373ms\tremaining: 612ms\n",
      "379:\tlearn: 0.0846411\ttotal: 374ms\tremaining: 611ms\n",
      "380:\tlearn: 0.0845259\ttotal: 375ms\tremaining: 609ms\n",
      "381:\tlearn: 0.0844477\ttotal: 376ms\tremaining: 608ms\n",
      "382:\tlearn: 0.0843425\ttotal: 377ms\tremaining: 607ms\n",
      "383:\tlearn: 0.0842534\ttotal: 377ms\tremaining: 606ms\n",
      "384:\tlearn: 0.0841791\ttotal: 378ms\tremaining: 604ms\n",
      "385:\tlearn: 0.0840696\ttotal: 379ms\tremaining: 603ms\n",
      "386:\tlearn: 0.0839121\ttotal: 380ms\tremaining: 602ms\n",
      "387:\tlearn: 0.0837863\ttotal: 381ms\tremaining: 600ms\n",
      "388:\tlearn: 0.0836638\ttotal: 381ms\tremaining: 599ms\n",
      "389:\tlearn: 0.0835041\ttotal: 382ms\tremaining: 598ms\n",
      "390:\tlearn: 0.0833818\ttotal: 383ms\tremaining: 597ms\n",
      "391:\tlearn: 0.0832285\ttotal: 384ms\tremaining: 595ms\n",
      "392:\tlearn: 0.0831041\ttotal: 385ms\tremaining: 594ms\n",
      "393:\tlearn: 0.0828999\ttotal: 386ms\tremaining: 593ms\n",
      "394:\tlearn: 0.0828042\ttotal: 386ms\tremaining: 592ms\n",
      "395:\tlearn: 0.0826862\ttotal: 387ms\tremaining: 591ms\n",
      "396:\tlearn: 0.0825729\ttotal: 388ms\tremaining: 589ms\n",
      "397:\tlearn: 0.0824624\ttotal: 389ms\tremaining: 588ms\n",
      "398:\tlearn: 0.0823793\ttotal: 390ms\tremaining: 587ms\n",
      "399:\tlearn: 0.0822598\ttotal: 391ms\tremaining: 586ms\n",
      "400:\tlearn: 0.0821465\ttotal: 391ms\tremaining: 585ms\n",
      "401:\tlearn: 0.0820698\ttotal: 392ms\tremaining: 583ms\n",
      "402:\tlearn: 0.0818849\ttotal: 393ms\tremaining: 582ms\n",
      "403:\tlearn: 0.0816738\ttotal: 394ms\tremaining: 581ms\n",
      "404:\tlearn: 0.0815596\ttotal: 395ms\tremaining: 580ms\n",
      "405:\tlearn: 0.0814778\ttotal: 395ms\tremaining: 579ms\n",
      "406:\tlearn: 0.0813885\ttotal: 396ms\tremaining: 577ms\n",
      "407:\tlearn: 0.0813016\ttotal: 397ms\tremaining: 576ms\n",
      "408:\tlearn: 0.0811630\ttotal: 398ms\tremaining: 575ms\n",
      "409:\tlearn: 0.0810464\ttotal: 399ms\tremaining: 574ms\n",
      "410:\tlearn: 0.0807996\ttotal: 399ms\tremaining: 572ms\n",
      "411:\tlearn: 0.0806911\ttotal: 400ms\tremaining: 571ms\n",
      "412:\tlearn: 0.0805308\ttotal: 401ms\tremaining: 570ms\n",
      "413:\tlearn: 0.0804302\ttotal: 402ms\tremaining: 569ms\n",
      "414:\tlearn: 0.0803155\ttotal: 403ms\tremaining: 568ms\n",
      "415:\tlearn: 0.0802067\ttotal: 403ms\tremaining: 566ms\n",
      "416:\tlearn: 0.0800823\ttotal: 404ms\tremaining: 565ms\n",
      "417:\tlearn: 0.0798336\ttotal: 405ms\tremaining: 564ms\n",
      "418:\tlearn: 0.0797332\ttotal: 406ms\tremaining: 563ms\n",
      "419:\tlearn: 0.0797008\ttotal: 407ms\tremaining: 562ms\n",
      "420:\tlearn: 0.0795979\ttotal: 408ms\tremaining: 561ms\n",
      "421:\tlearn: 0.0794865\ttotal: 408ms\tremaining: 559ms\n",
      "422:\tlearn: 0.0793666\ttotal: 409ms\tremaining: 558ms\n",
      "423:\tlearn: 0.0792653\ttotal: 410ms\tremaining: 557ms\n",
      "424:\tlearn: 0.0792102\ttotal: 411ms\tremaining: 556ms\n",
      "425:\tlearn: 0.0791126\ttotal: 412ms\tremaining: 555ms\n",
      "426:\tlearn: 0.0790208\ttotal: 412ms\tremaining: 553ms\n",
      "427:\tlearn: 0.0789339\ttotal: 413ms\tremaining: 552ms\n",
      "428:\tlearn: 0.0788178\ttotal: 414ms\tremaining: 551ms\n",
      "429:\tlearn: 0.0786863\ttotal: 415ms\tremaining: 550ms\n",
      "430:\tlearn: 0.0785583\ttotal: 416ms\tremaining: 549ms\n",
      "431:\tlearn: 0.0784772\ttotal: 416ms\tremaining: 547ms\n",
      "432:\tlearn: 0.0784083\ttotal: 417ms\tremaining: 546ms\n",
      "433:\tlearn: 0.0782749\ttotal: 418ms\tremaining: 545ms\n",
      "434:\tlearn: 0.0782188\ttotal: 419ms\tremaining: 544ms\n",
      "435:\tlearn: 0.0781656\ttotal: 420ms\tremaining: 543ms\n",
      "436:\tlearn: 0.0780754\ttotal: 420ms\tremaining: 542ms\n",
      "437:\tlearn: 0.0779681\ttotal: 421ms\tremaining: 540ms\n",
      "438:\tlearn: 0.0778425\ttotal: 422ms\tremaining: 539ms\n",
      "439:\tlearn: 0.0777642\ttotal: 423ms\tremaining: 538ms\n",
      "440:\tlearn: 0.0776848\ttotal: 424ms\tremaining: 537ms\n",
      "441:\tlearn: 0.0775322\ttotal: 424ms\tremaining: 536ms\n",
      "442:\tlearn: 0.0774671\ttotal: 425ms\tremaining: 535ms\n",
      "443:\tlearn: 0.0774116\ttotal: 426ms\tremaining: 533ms\n",
      "444:\tlearn: 0.0773250\ttotal: 427ms\tremaining: 532ms\n",
      "445:\tlearn: 0.0772388\ttotal: 428ms\tremaining: 531ms\n",
      "446:\tlearn: 0.0771616\ttotal: 429ms\tremaining: 530ms\n",
      "447:\tlearn: 0.0770490\ttotal: 429ms\tremaining: 529ms\n",
      "448:\tlearn: 0.0769279\ttotal: 430ms\tremaining: 528ms\n",
      "449:\tlearn: 0.0768080\ttotal: 431ms\tremaining: 527ms\n",
      "450:\tlearn: 0.0767064\ttotal: 432ms\tremaining: 526ms\n",
      "451:\tlearn: 0.0766459\ttotal: 433ms\tremaining: 524ms\n",
      "452:\tlearn: 0.0765585\ttotal: 433ms\tremaining: 523ms\n",
      "453:\tlearn: 0.0764837\ttotal: 434ms\tremaining: 522ms\n",
      "454:\tlearn: 0.0763823\ttotal: 435ms\tremaining: 521ms\n",
      "455:\tlearn: 0.0763081\ttotal: 436ms\tremaining: 520ms\n",
      "456:\tlearn: 0.0762438\ttotal: 437ms\tremaining: 519ms\n",
      "457:\tlearn: 0.0761246\ttotal: 438ms\tremaining: 518ms\n",
      "458:\tlearn: 0.0760518\ttotal: 438ms\tremaining: 517ms\n",
      "459:\tlearn: 0.0759874\ttotal: 439ms\tremaining: 515ms\n",
      "460:\tlearn: 0.0758667\ttotal: 440ms\tremaining: 514ms\n",
      "461:\tlearn: 0.0758031\ttotal: 441ms\tremaining: 513ms\n",
      "462:\tlearn: 0.0757449\ttotal: 442ms\tremaining: 512ms\n",
      "463:\tlearn: 0.0757038\ttotal: 442ms\tremaining: 511ms\n",
      "464:\tlearn: 0.0756499\ttotal: 443ms\tremaining: 510ms\n",
      "465:\tlearn: 0.0755897\ttotal: 444ms\tremaining: 509ms\n",
      "466:\tlearn: 0.0754690\ttotal: 445ms\tremaining: 508ms\n",
      "467:\tlearn: 0.0753128\ttotal: 446ms\tremaining: 507ms\n",
      "468:\tlearn: 0.0751497\ttotal: 446ms\tremaining: 506ms\n",
      "469:\tlearn: 0.0750355\ttotal: 447ms\tremaining: 504ms\n",
      "470:\tlearn: 0.0749349\ttotal: 448ms\tremaining: 503ms\n",
      "471:\tlearn: 0.0747614\ttotal: 449ms\tremaining: 502ms\n",
      "472:\tlearn: 0.0746948\ttotal: 450ms\tremaining: 501ms\n",
      "473:\tlearn: 0.0745883\ttotal: 451ms\tremaining: 500ms\n",
      "474:\tlearn: 0.0744907\ttotal: 451ms\tremaining: 499ms\n",
      "475:\tlearn: 0.0744181\ttotal: 452ms\tremaining: 498ms\n",
      "476:\tlearn: 0.0742679\ttotal: 453ms\tremaining: 497ms\n",
      "477:\tlearn: 0.0741548\ttotal: 454ms\tremaining: 496ms\n",
      "478:\tlearn: 0.0740740\ttotal: 455ms\tremaining: 495ms\n",
      "479:\tlearn: 0.0740389\ttotal: 456ms\tremaining: 494ms\n",
      "480:\tlearn: 0.0739324\ttotal: 457ms\tremaining: 493ms\n",
      "481:\tlearn: 0.0738790\ttotal: 458ms\tremaining: 492ms\n",
      "482:\tlearn: 0.0738179\ttotal: 458ms\tremaining: 491ms\n",
      "483:\tlearn: 0.0737390\ttotal: 459ms\tremaining: 490ms\n",
      "484:\tlearn: 0.0736450\ttotal: 460ms\tremaining: 489ms\n",
      "485:\tlearn: 0.0735495\ttotal: 461ms\tremaining: 487ms\n",
      "486:\tlearn: 0.0734752\ttotal: 462ms\tremaining: 486ms\n",
      "487:\tlearn: 0.0733586\ttotal: 463ms\tremaining: 485ms\n",
      "488:\tlearn: 0.0733002\ttotal: 463ms\tremaining: 484ms\n",
      "489:\tlearn: 0.0731956\ttotal: 464ms\tremaining: 483ms\n",
      "490:\tlearn: 0.0731436\ttotal: 465ms\tremaining: 482ms\n",
      "491:\tlearn: 0.0730729\ttotal: 466ms\tremaining: 481ms\n",
      "492:\tlearn: 0.0730223\ttotal: 467ms\tremaining: 480ms\n",
      "493:\tlearn: 0.0729671\ttotal: 468ms\tremaining: 479ms\n",
      "494:\tlearn: 0.0728886\ttotal: 469ms\tremaining: 478ms\n",
      "495:\tlearn: 0.0728074\ttotal: 470ms\tremaining: 477ms\n",
      "496:\tlearn: 0.0727300\ttotal: 471ms\tremaining: 476ms\n",
      "497:\tlearn: 0.0726764\ttotal: 471ms\tremaining: 475ms\n",
      "498:\tlearn: 0.0726378\ttotal: 472ms\tremaining: 474ms\n",
      "499:\tlearn: 0.0725666\ttotal: 473ms\tremaining: 473ms\n",
      "500:\tlearn: 0.0724596\ttotal: 474ms\tremaining: 472ms\n",
      "501:\tlearn: 0.0724049\ttotal: 475ms\tremaining: 471ms\n",
      "502:\tlearn: 0.0723617\ttotal: 475ms\tremaining: 470ms\n",
      "503:\tlearn: 0.0723200\ttotal: 476ms\tremaining: 469ms\n",
      "504:\tlearn: 0.0722795\ttotal: 477ms\tremaining: 468ms\n",
      "505:\tlearn: 0.0722154\ttotal: 478ms\tremaining: 466ms\n",
      "506:\tlearn: 0.0721429\ttotal: 479ms\tremaining: 465ms\n",
      "507:\tlearn: 0.0720989\ttotal: 479ms\tremaining: 464ms\n",
      "508:\tlearn: 0.0720479\ttotal: 480ms\tremaining: 463ms\n",
      "509:\tlearn: 0.0719701\ttotal: 481ms\tremaining: 462ms\n",
      "510:\tlearn: 0.0719119\ttotal: 482ms\tremaining: 461ms\n",
      "511:\tlearn: 0.0718214\ttotal: 483ms\tremaining: 461ms\n",
      "512:\tlearn: 0.0717741\ttotal: 484ms\tremaining: 460ms\n",
      "513:\tlearn: 0.0716556\ttotal: 485ms\tremaining: 459ms\n",
      "514:\tlearn: 0.0716025\ttotal: 486ms\tremaining: 458ms\n",
      "515:\tlearn: 0.0714745\ttotal: 487ms\tremaining: 457ms\n",
      "516:\tlearn: 0.0714176\ttotal: 488ms\tremaining: 455ms\n",
      "517:\tlearn: 0.0713771\ttotal: 488ms\tremaining: 454ms\n",
      "518:\tlearn: 0.0712599\ttotal: 489ms\tremaining: 453ms\n",
      "519:\tlearn: 0.0712063\ttotal: 490ms\tremaining: 452ms\n",
      "520:\tlearn: 0.0710971\ttotal: 491ms\tremaining: 451ms\n",
      "521:\tlearn: 0.0710525\ttotal: 492ms\tremaining: 450ms\n",
      "522:\tlearn: 0.0709520\ttotal: 493ms\tremaining: 449ms\n",
      "523:\tlearn: 0.0709191\ttotal: 493ms\tremaining: 448ms\n",
      "524:\tlearn: 0.0708118\ttotal: 494ms\tremaining: 447ms\n",
      "525:\tlearn: 0.0707454\ttotal: 495ms\tremaining: 446ms\n",
      "526:\tlearn: 0.0706362\ttotal: 496ms\tremaining: 445ms\n",
      "527:\tlearn: 0.0705924\ttotal: 497ms\tremaining: 444ms\n",
      "528:\tlearn: 0.0704906\ttotal: 497ms\tremaining: 443ms\n",
      "529:\tlearn: 0.0704545\ttotal: 498ms\tremaining: 442ms\n",
      "530:\tlearn: 0.0703915\ttotal: 499ms\tremaining: 441ms\n",
      "531:\tlearn: 0.0703471\ttotal: 500ms\tremaining: 440ms\n",
      "532:\tlearn: 0.0702808\ttotal: 501ms\tremaining: 439ms\n",
      "533:\tlearn: 0.0702276\ttotal: 502ms\tremaining: 438ms\n",
      "534:\tlearn: 0.0701440\ttotal: 502ms\tremaining: 437ms\n",
      "535:\tlearn: 0.0700790\ttotal: 503ms\tremaining: 436ms\n",
      "536:\tlearn: 0.0700273\ttotal: 504ms\tremaining: 435ms\n",
      "537:\tlearn: 0.0699967\ttotal: 505ms\tremaining: 434ms\n",
      "538:\tlearn: 0.0699355\ttotal: 506ms\tremaining: 433ms\n",
      "539:\tlearn: 0.0698870\ttotal: 507ms\tremaining: 432ms\n",
      "540:\tlearn: 0.0698307\ttotal: 508ms\tremaining: 431ms\n",
      "541:\tlearn: 0.0697323\ttotal: 508ms\tremaining: 430ms\n",
      "542:\tlearn: 0.0696981\ttotal: 509ms\tremaining: 429ms\n",
      "543:\tlearn: 0.0696644\ttotal: 510ms\tremaining: 428ms\n",
      "544:\tlearn: 0.0695977\ttotal: 511ms\tremaining: 427ms\n",
      "545:\tlearn: 0.0695171\ttotal: 512ms\tremaining: 426ms\n",
      "546:\tlearn: 0.0693752\ttotal: 513ms\tremaining: 425ms\n",
      "547:\tlearn: 0.0693392\ttotal: 514ms\tremaining: 424ms\n",
      "548:\tlearn: 0.0691846\ttotal: 514ms\tremaining: 423ms\n",
      "549:\tlearn: 0.0691207\ttotal: 515ms\tremaining: 421ms\n",
      "550:\tlearn: 0.0690451\ttotal: 516ms\tremaining: 420ms\n",
      "551:\tlearn: 0.0690163\ttotal: 517ms\tremaining: 419ms\n",
      "552:\tlearn: 0.0689755\ttotal: 518ms\tremaining: 418ms\n",
      "553:\tlearn: 0.0689007\ttotal: 518ms\tremaining: 417ms\n",
      "554:\tlearn: 0.0688237\ttotal: 519ms\tremaining: 416ms\n",
      "555:\tlearn: 0.0687678\ttotal: 520ms\tremaining: 415ms\n",
      "556:\tlearn: 0.0687396\ttotal: 521ms\tremaining: 414ms\n",
      "557:\tlearn: 0.0687093\ttotal: 522ms\tremaining: 413ms\n",
      "558:\tlearn: 0.0686243\ttotal: 522ms\tremaining: 412ms\n",
      "559:\tlearn: 0.0685795\ttotal: 523ms\tremaining: 411ms\n",
      "560:\tlearn: 0.0685421\ttotal: 524ms\tremaining: 410ms\n",
      "561:\tlearn: 0.0684817\ttotal: 525ms\tremaining: 409ms\n",
      "562:\tlearn: 0.0684212\ttotal: 526ms\tremaining: 408ms\n",
      "563:\tlearn: 0.0683242\ttotal: 526ms\tremaining: 407ms\n",
      "564:\tlearn: 0.0682418\ttotal: 527ms\tremaining: 406ms\n",
      "565:\tlearn: 0.0681988\ttotal: 528ms\tremaining: 405ms\n",
      "566:\tlearn: 0.0681512\ttotal: 529ms\tremaining: 404ms\n",
      "567:\tlearn: 0.0680736\ttotal: 530ms\tremaining: 403ms\n",
      "568:\tlearn: 0.0680354\ttotal: 530ms\tremaining: 402ms\n",
      "569:\tlearn: 0.0679744\ttotal: 531ms\tremaining: 401ms\n",
      "570:\tlearn: 0.0679364\ttotal: 532ms\tremaining: 400ms\n",
      "571:\tlearn: 0.0679057\ttotal: 533ms\tremaining: 399ms\n",
      "572:\tlearn: 0.0678603\ttotal: 534ms\tremaining: 398ms\n",
      "573:\tlearn: 0.0678333\ttotal: 535ms\tremaining: 397ms\n",
      "574:\tlearn: 0.0677962\ttotal: 535ms\tremaining: 396ms\n",
      "575:\tlearn: 0.0677205\ttotal: 536ms\tremaining: 395ms\n",
      "576:\tlearn: 0.0676747\ttotal: 537ms\tremaining: 394ms\n",
      "577:\tlearn: 0.0675834\ttotal: 538ms\tremaining: 393ms\n",
      "578:\tlearn: 0.0674975\ttotal: 539ms\tremaining: 392ms\n",
      "579:\tlearn: 0.0674658\ttotal: 540ms\tremaining: 391ms\n",
      "580:\tlearn: 0.0674207\ttotal: 540ms\tremaining: 390ms\n",
      "581:\tlearn: 0.0673818\ttotal: 541ms\tremaining: 389ms\n",
      "582:\tlearn: 0.0672736\ttotal: 542ms\tremaining: 388ms\n",
      "583:\tlearn: 0.0672407\ttotal: 543ms\tremaining: 387ms\n",
      "584:\tlearn: 0.0672013\ttotal: 544ms\tremaining: 386ms\n",
      "585:\tlearn: 0.0671588\ttotal: 545ms\tremaining: 385ms\n",
      "586:\tlearn: 0.0671070\ttotal: 545ms\tremaining: 384ms\n",
      "587:\tlearn: 0.0669884\ttotal: 546ms\tremaining: 383ms\n",
      "588:\tlearn: 0.0669505\ttotal: 547ms\tremaining: 382ms\n",
      "589:\tlearn: 0.0669214\ttotal: 548ms\tremaining: 381ms\n",
      "590:\tlearn: 0.0668867\ttotal: 549ms\tremaining: 380ms\n",
      "591:\tlearn: 0.0668469\ttotal: 549ms\tremaining: 379ms\n",
      "592:\tlearn: 0.0668107\ttotal: 550ms\tremaining: 378ms\n",
      "593:\tlearn: 0.0667183\ttotal: 551ms\tremaining: 377ms\n",
      "594:\tlearn: 0.0666405\ttotal: 552ms\tremaining: 376ms\n",
      "595:\tlearn: 0.0666137\ttotal: 553ms\tremaining: 375ms\n",
      "596:\tlearn: 0.0665345\ttotal: 553ms\tremaining: 374ms\n",
      "597:\tlearn: 0.0665003\ttotal: 554ms\tremaining: 373ms\n",
      "598:\tlearn: 0.0664704\ttotal: 555ms\tremaining: 372ms\n",
      "599:\tlearn: 0.0663889\ttotal: 556ms\tremaining: 371ms\n",
      "600:\tlearn: 0.0663184\ttotal: 557ms\tremaining: 370ms\n",
      "601:\tlearn: 0.0662246\ttotal: 558ms\tremaining: 369ms\n",
      "602:\tlearn: 0.0661809\ttotal: 558ms\tremaining: 368ms\n",
      "603:\tlearn: 0.0661619\ttotal: 559ms\tremaining: 367ms\n",
      "604:\tlearn: 0.0661365\ttotal: 560ms\tremaining: 366ms\n",
      "605:\tlearn: 0.0660588\ttotal: 561ms\tremaining: 365ms\n",
      "606:\tlearn: 0.0659641\ttotal: 562ms\tremaining: 364ms\n",
      "607:\tlearn: 0.0659226\ttotal: 562ms\tremaining: 363ms\n",
      "608:\tlearn: 0.0658292\ttotal: 563ms\tremaining: 362ms\n",
      "609:\tlearn: 0.0657716\ttotal: 564ms\tremaining: 361ms\n",
      "610:\tlearn: 0.0657544\ttotal: 565ms\tremaining: 360ms\n",
      "611:\tlearn: 0.0657224\ttotal: 566ms\tremaining: 359ms\n",
      "612:\tlearn: 0.0656517\ttotal: 567ms\tremaining: 358ms\n",
      "613:\tlearn: 0.0656272\ttotal: 567ms\tremaining: 357ms\n",
      "614:\tlearn: 0.0655661\ttotal: 568ms\tremaining: 356ms\n",
      "615:\tlearn: 0.0655305\ttotal: 569ms\tremaining: 355ms\n",
      "616:\tlearn: 0.0654492\ttotal: 570ms\tremaining: 354ms\n",
      "617:\tlearn: 0.0654116\ttotal: 571ms\tremaining: 353ms\n",
      "618:\tlearn: 0.0653453\ttotal: 571ms\tremaining: 352ms\n",
      "619:\tlearn: 0.0653233\ttotal: 572ms\tremaining: 351ms\n",
      "620:\tlearn: 0.0652372\ttotal: 573ms\tremaining: 350ms\n",
      "621:\tlearn: 0.0651694\ttotal: 574ms\tremaining: 349ms\n",
      "622:\tlearn: 0.0651499\ttotal: 575ms\tremaining: 348ms\n",
      "623:\tlearn: 0.0651042\ttotal: 575ms\tremaining: 347ms\n",
      "624:\tlearn: 0.0650655\ttotal: 576ms\tremaining: 346ms\n",
      "625:\tlearn: 0.0650420\ttotal: 577ms\tremaining: 345ms\n",
      "626:\tlearn: 0.0650188\ttotal: 578ms\tremaining: 344ms\n",
      "627:\tlearn: 0.0649671\ttotal: 579ms\tremaining: 343ms\n",
      "628:\tlearn: 0.0648579\ttotal: 579ms\tremaining: 342ms\n",
      "629:\tlearn: 0.0648095\ttotal: 580ms\tremaining: 341ms\n",
      "630:\tlearn: 0.0647871\ttotal: 581ms\tremaining: 340ms\n",
      "631:\tlearn: 0.0647466\ttotal: 582ms\tremaining: 339ms\n",
      "632:\tlearn: 0.0647146\ttotal: 583ms\tremaining: 338ms\n",
      "633:\tlearn: 0.0646280\ttotal: 583ms\tremaining: 337ms\n",
      "634:\tlearn: 0.0645730\ttotal: 584ms\tremaining: 336ms\n",
      "635:\tlearn: 0.0645164\ttotal: 585ms\tremaining: 335ms\n",
      "636:\tlearn: 0.0644349\ttotal: 586ms\tremaining: 334ms\n",
      "637:\tlearn: 0.0644002\ttotal: 587ms\tremaining: 333ms\n",
      "638:\tlearn: 0.0643703\ttotal: 587ms\tremaining: 332ms\n",
      "639:\tlearn: 0.0643482\ttotal: 588ms\tremaining: 331ms\n",
      "640:\tlearn: 0.0643244\ttotal: 589ms\tremaining: 330ms\n",
      "641:\tlearn: 0.0642993\ttotal: 590ms\tremaining: 329ms\n",
      "642:\tlearn: 0.0642765\ttotal: 591ms\tremaining: 328ms\n",
      "643:\tlearn: 0.0642102\ttotal: 592ms\tremaining: 327ms\n",
      "644:\tlearn: 0.0641375\ttotal: 593ms\tremaining: 326ms\n",
      "645:\tlearn: 0.0640094\ttotal: 593ms\tremaining: 325ms\n",
      "646:\tlearn: 0.0639252\ttotal: 594ms\tremaining: 324ms\n",
      "647:\tlearn: 0.0638071\ttotal: 595ms\tremaining: 323ms\n",
      "648:\tlearn: 0.0637425\ttotal: 596ms\tremaining: 322ms\n",
      "649:\tlearn: 0.0637045\ttotal: 597ms\tremaining: 321ms\n",
      "650:\tlearn: 0.0636700\ttotal: 597ms\tremaining: 320ms\n",
      "651:\tlearn: 0.0635701\ttotal: 598ms\tremaining: 319ms\n",
      "652:\tlearn: 0.0635508\ttotal: 599ms\tremaining: 318ms\n",
      "653:\tlearn: 0.0635316\ttotal: 600ms\tremaining: 317ms\n",
      "654:\tlearn: 0.0634947\ttotal: 601ms\tremaining: 316ms\n",
      "655:\tlearn: 0.0634446\ttotal: 601ms\tremaining: 315ms\n",
      "656:\tlearn: 0.0633717\ttotal: 602ms\tremaining: 314ms\n",
      "657:\tlearn: 0.0633492\ttotal: 603ms\tremaining: 313ms\n",
      "658:\tlearn: 0.0632959\ttotal: 604ms\tremaining: 313ms\n",
      "659:\tlearn: 0.0632584\ttotal: 605ms\tremaining: 312ms\n",
      "660:\tlearn: 0.0632218\ttotal: 606ms\tremaining: 311ms\n",
      "661:\tlearn: 0.0631594\ttotal: 606ms\tremaining: 310ms\n",
      "662:\tlearn: 0.0631207\ttotal: 607ms\tremaining: 309ms\n",
      "663:\tlearn: 0.0630812\ttotal: 608ms\tremaining: 308ms\n",
      "664:\tlearn: 0.0630323\ttotal: 609ms\tremaining: 307ms\n",
      "665:\tlearn: 0.0629989\ttotal: 610ms\tremaining: 306ms\n",
      "666:\tlearn: 0.0629578\ttotal: 611ms\tremaining: 305ms\n",
      "667:\tlearn: 0.0629168\ttotal: 612ms\tremaining: 304ms\n",
      "668:\tlearn: 0.0628935\ttotal: 612ms\tremaining: 303ms\n",
      "669:\tlearn: 0.0628604\ttotal: 613ms\tremaining: 302ms\n",
      "670:\tlearn: 0.0627633\ttotal: 614ms\tremaining: 301ms\n",
      "671:\tlearn: 0.0627152\ttotal: 615ms\tremaining: 300ms\n",
      "672:\tlearn: 0.0626863\ttotal: 616ms\tremaining: 299ms\n",
      "673:\tlearn: 0.0626273\ttotal: 617ms\tremaining: 298ms\n",
      "674:\tlearn: 0.0626139\ttotal: 618ms\tremaining: 297ms\n",
      "675:\tlearn: 0.0625894\ttotal: 619ms\tremaining: 296ms\n",
      "676:\tlearn: 0.0625567\ttotal: 619ms\tremaining: 296ms\n",
      "677:\tlearn: 0.0625273\ttotal: 620ms\tremaining: 295ms\n",
      "678:\tlearn: 0.0625074\ttotal: 621ms\tremaining: 294ms\n",
      "679:\tlearn: 0.0624800\ttotal: 622ms\tremaining: 293ms\n",
      "680:\tlearn: 0.0624540\ttotal: 623ms\tremaining: 292ms\n",
      "681:\tlearn: 0.0624209\ttotal: 624ms\tremaining: 291ms\n",
      "682:\tlearn: 0.0623709\ttotal: 625ms\tremaining: 290ms\n",
      "683:\tlearn: 0.0623464\ttotal: 625ms\tremaining: 289ms\n",
      "684:\tlearn: 0.0623133\ttotal: 626ms\tremaining: 288ms\n",
      "685:\tlearn: 0.0622769\ttotal: 627ms\tremaining: 287ms\n",
      "686:\tlearn: 0.0622445\ttotal: 628ms\tremaining: 286ms\n",
      "687:\tlearn: 0.0622178\ttotal: 629ms\tremaining: 285ms\n",
      "688:\tlearn: 0.0621795\ttotal: 630ms\tremaining: 284ms\n",
      "689:\tlearn: 0.0621438\ttotal: 631ms\tremaining: 283ms\n",
      "690:\tlearn: 0.0621262\ttotal: 632ms\tremaining: 282ms\n",
      "691:\tlearn: 0.0620975\ttotal: 632ms\tremaining: 281ms\n",
      "692:\tlearn: 0.0620794\ttotal: 633ms\tremaining: 281ms\n",
      "693:\tlearn: 0.0620076\ttotal: 634ms\tremaining: 280ms\n",
      "694:\tlearn: 0.0619824\ttotal: 635ms\tremaining: 279ms\n",
      "695:\tlearn: 0.0619539\ttotal: 636ms\tremaining: 278ms\n",
      "696:\tlearn: 0.0619264\ttotal: 637ms\tremaining: 277ms\n",
      "697:\tlearn: 0.0619045\ttotal: 637ms\tremaining: 276ms\n",
      "698:\tlearn: 0.0618710\ttotal: 638ms\tremaining: 275ms\n",
      "699:\tlearn: 0.0618510\ttotal: 639ms\tremaining: 274ms\n",
      "700:\tlearn: 0.0618327\ttotal: 640ms\tremaining: 273ms\n",
      "701:\tlearn: 0.0618060\ttotal: 641ms\tremaining: 272ms\n",
      "702:\tlearn: 0.0617739\ttotal: 641ms\tremaining: 271ms\n",
      "703:\tlearn: 0.0617584\ttotal: 642ms\tremaining: 270ms\n",
      "704:\tlearn: 0.0616517\ttotal: 643ms\tremaining: 269ms\n",
      "705:\tlearn: 0.0616289\ttotal: 645ms\tremaining: 268ms\n",
      "706:\tlearn: 0.0616173\ttotal: 645ms\tremaining: 267ms\n",
      "707:\tlearn: 0.0615683\ttotal: 646ms\tremaining: 266ms\n",
      "708:\tlearn: 0.0615460\ttotal: 647ms\tremaining: 266ms\n",
      "709:\tlearn: 0.0614961\ttotal: 648ms\tremaining: 265ms\n",
      "710:\tlearn: 0.0614370\ttotal: 649ms\tremaining: 264ms\n",
      "711:\tlearn: 0.0613955\ttotal: 649ms\tremaining: 263ms\n",
      "712:\tlearn: 0.0613757\ttotal: 650ms\tremaining: 262ms\n",
      "713:\tlearn: 0.0613181\ttotal: 651ms\tremaining: 261ms\n",
      "714:\tlearn: 0.0612964\ttotal: 652ms\tremaining: 260ms\n",
      "715:\tlearn: 0.0612672\ttotal: 653ms\tremaining: 259ms\n",
      "716:\tlearn: 0.0612465\ttotal: 653ms\tremaining: 258ms\n",
      "717:\tlearn: 0.0612161\ttotal: 654ms\tremaining: 257ms\n",
      "718:\tlearn: 0.0611853\ttotal: 655ms\tremaining: 256ms\n",
      "719:\tlearn: 0.0611495\ttotal: 656ms\tremaining: 255ms\n",
      "720:\tlearn: 0.0611033\ttotal: 657ms\tremaining: 254ms\n",
      "721:\tlearn: 0.0610557\ttotal: 657ms\tremaining: 253ms\n",
      "722:\tlearn: 0.0610385\ttotal: 658ms\tremaining: 252ms\n",
      "723:\tlearn: 0.0610101\ttotal: 659ms\tremaining: 251ms\n",
      "724:\tlearn: 0.0609878\ttotal: 660ms\tremaining: 250ms\n",
      "725:\tlearn: 0.0609245\ttotal: 661ms\tremaining: 249ms\n",
      "726:\tlearn: 0.0609058\ttotal: 662ms\tremaining: 248ms\n",
      "727:\tlearn: 0.0608799\ttotal: 662ms\tremaining: 247ms\n",
      "728:\tlearn: 0.0608636\ttotal: 663ms\tremaining: 247ms\n",
      "729:\tlearn: 0.0608348\ttotal: 664ms\tremaining: 246ms\n",
      "730:\tlearn: 0.0608109\ttotal: 665ms\tremaining: 245ms\n",
      "731:\tlearn: 0.0607444\ttotal: 666ms\tremaining: 244ms\n",
      "732:\tlearn: 0.0606852\ttotal: 666ms\tremaining: 243ms\n",
      "733:\tlearn: 0.0606497\ttotal: 667ms\tremaining: 242ms\n",
      "734:\tlearn: 0.0606066\ttotal: 668ms\tremaining: 241ms\n",
      "735:\tlearn: 0.0605461\ttotal: 669ms\tremaining: 240ms\n",
      "736:\tlearn: 0.0605307\ttotal: 670ms\tremaining: 239ms\n",
      "737:\tlearn: 0.0604743\ttotal: 670ms\tremaining: 238ms\n",
      "738:\tlearn: 0.0604218\ttotal: 671ms\tremaining: 237ms\n",
      "739:\tlearn: 0.0603615\ttotal: 672ms\tremaining: 236ms\n",
      "740:\tlearn: 0.0603432\ttotal: 673ms\tremaining: 235ms\n",
      "741:\tlearn: 0.0602925\ttotal: 673ms\tremaining: 234ms\n",
      "742:\tlearn: 0.0602673\ttotal: 674ms\tremaining: 233ms\n",
      "743:\tlearn: 0.0602216\ttotal: 675ms\tremaining: 232ms\n",
      "744:\tlearn: 0.0602126\ttotal: 676ms\tremaining: 231ms\n",
      "745:\tlearn: 0.0601921\ttotal: 677ms\tremaining: 230ms\n",
      "746:\tlearn: 0.0601731\ttotal: 677ms\tremaining: 229ms\n",
      "747:\tlearn: 0.0601272\ttotal: 678ms\tremaining: 228ms\n",
      "748:\tlearn: 0.0600823\ttotal: 679ms\tremaining: 228ms\n",
      "749:\tlearn: 0.0600473\ttotal: 680ms\tremaining: 227ms\n",
      "750:\tlearn: 0.0600012\ttotal: 680ms\tremaining: 226ms\n",
      "751:\tlearn: 0.0599493\ttotal: 681ms\tremaining: 225ms\n",
      "752:\tlearn: 0.0599275\ttotal: 682ms\tremaining: 224ms\n",
      "753:\tlearn: 0.0598571\ttotal: 683ms\tremaining: 223ms\n",
      "754:\tlearn: 0.0598252\ttotal: 684ms\tremaining: 222ms\n",
      "755:\tlearn: 0.0598067\ttotal: 684ms\tremaining: 221ms\n",
      "756:\tlearn: 0.0597860\ttotal: 685ms\tremaining: 220ms\n",
      "757:\tlearn: 0.0597386\ttotal: 686ms\tremaining: 219ms\n",
      "758:\tlearn: 0.0597076\ttotal: 687ms\tremaining: 218ms\n",
      "759:\tlearn: 0.0596910\ttotal: 687ms\tremaining: 217ms\n",
      "760:\tlearn: 0.0596731\ttotal: 688ms\tremaining: 216ms\n",
      "761:\tlearn: 0.0596530\ttotal: 689ms\tremaining: 215ms\n",
      "762:\tlearn: 0.0596079\ttotal: 690ms\tremaining: 214ms\n",
      "763:\tlearn: 0.0595806\ttotal: 691ms\tremaining: 213ms\n",
      "764:\tlearn: 0.0595619\ttotal: 691ms\tremaining: 212ms\n",
      "765:\tlearn: 0.0595141\ttotal: 692ms\tremaining: 211ms\n",
      "766:\tlearn: 0.0594991\ttotal: 693ms\tremaining: 211ms\n",
      "767:\tlearn: 0.0594447\ttotal: 694ms\tremaining: 210ms\n",
      "768:\tlearn: 0.0594338\ttotal: 695ms\tremaining: 209ms\n",
      "769:\tlearn: 0.0594117\ttotal: 695ms\tremaining: 208ms\n",
      "770:\tlearn: 0.0593892\ttotal: 696ms\tremaining: 207ms\n",
      "771:\tlearn: 0.0593703\ttotal: 697ms\tremaining: 206ms\n",
      "772:\tlearn: 0.0593207\ttotal: 698ms\tremaining: 205ms\n",
      "773:\tlearn: 0.0593036\ttotal: 699ms\tremaining: 204ms\n",
      "774:\tlearn: 0.0592878\ttotal: 700ms\tremaining: 203ms\n",
      "775:\tlearn: 0.0592594\ttotal: 700ms\tremaining: 202ms\n",
      "776:\tlearn: 0.0592194\ttotal: 701ms\tremaining: 201ms\n",
      "777:\tlearn: 0.0591984\ttotal: 702ms\tremaining: 200ms\n",
      "778:\tlearn: 0.0591507\ttotal: 703ms\tremaining: 199ms\n",
      "779:\tlearn: 0.0590937\ttotal: 704ms\tremaining: 198ms\n",
      "780:\tlearn: 0.0590817\ttotal: 704ms\tremaining: 198ms\n",
      "781:\tlearn: 0.0590577\ttotal: 705ms\tremaining: 197ms\n",
      "782:\tlearn: 0.0590415\ttotal: 706ms\tremaining: 196ms\n",
      "783:\tlearn: 0.0590233\ttotal: 707ms\tremaining: 195ms\n",
      "784:\tlearn: 0.0590053\ttotal: 708ms\tremaining: 194ms\n",
      "785:\tlearn: 0.0589918\ttotal: 709ms\tremaining: 193ms\n",
      "786:\tlearn: 0.0589784\ttotal: 709ms\tremaining: 192ms\n",
      "787:\tlearn: 0.0589651\ttotal: 710ms\tremaining: 191ms\n",
      "788:\tlearn: 0.0589081\ttotal: 711ms\tremaining: 190ms\n",
      "789:\tlearn: 0.0588993\ttotal: 712ms\tremaining: 189ms\n",
      "790:\tlearn: 0.0588427\ttotal: 713ms\tremaining: 188ms\n",
      "791:\tlearn: 0.0588035\ttotal: 713ms\tremaining: 187ms\n",
      "792:\tlearn: 0.0587345\ttotal: 714ms\tremaining: 186ms\n",
      "793:\tlearn: 0.0587176\ttotal: 715ms\tremaining: 185ms\n",
      "794:\tlearn: 0.0586845\ttotal: 716ms\tremaining: 185ms\n",
      "795:\tlearn: 0.0586628\ttotal: 717ms\tremaining: 184ms\n",
      "796:\tlearn: 0.0586469\ttotal: 717ms\tremaining: 183ms\n",
      "797:\tlearn: 0.0586310\ttotal: 718ms\tremaining: 182ms\n",
      "798:\tlearn: 0.0585998\ttotal: 719ms\tremaining: 181ms\n",
      "799:\tlearn: 0.0585327\ttotal: 720ms\tremaining: 180ms\n",
      "800:\tlearn: 0.0585159\ttotal: 721ms\tremaining: 179ms\n",
      "801:\tlearn: 0.0584458\ttotal: 721ms\tremaining: 178ms\n",
      "802:\tlearn: 0.0584260\ttotal: 722ms\tremaining: 177ms\n",
      "803:\tlearn: 0.0583922\ttotal: 723ms\tremaining: 176ms\n",
      "804:\tlearn: 0.0583749\ttotal: 724ms\tremaining: 175ms\n",
      "805:\tlearn: 0.0583464\ttotal: 725ms\tremaining: 174ms\n",
      "806:\tlearn: 0.0583150\ttotal: 726ms\tremaining: 174ms\n",
      "807:\tlearn: 0.0582932\ttotal: 726ms\tremaining: 173ms\n",
      "808:\tlearn: 0.0582768\ttotal: 727ms\tremaining: 172ms\n",
      "809:\tlearn: 0.0582292\ttotal: 728ms\tremaining: 171ms\n",
      "810:\tlearn: 0.0582134\ttotal: 729ms\tremaining: 170ms\n",
      "811:\tlearn: 0.0581099\ttotal: 730ms\tremaining: 169ms\n",
      "812:\tlearn: 0.0580989\ttotal: 730ms\tremaining: 168ms\n",
      "813:\tlearn: 0.0580877\ttotal: 731ms\tremaining: 167ms\n",
      "814:\tlearn: 0.0580759\ttotal: 732ms\tremaining: 166ms\n",
      "815:\tlearn: 0.0580609\ttotal: 733ms\tremaining: 165ms\n",
      "816:\tlearn: 0.0580349\ttotal: 734ms\tremaining: 164ms\n",
      "817:\tlearn: 0.0579811\ttotal: 734ms\tremaining: 163ms\n",
      "818:\tlearn: 0.0579653\ttotal: 735ms\tremaining: 162ms\n",
      "819:\tlearn: 0.0579487\ttotal: 736ms\tremaining: 162ms\n",
      "820:\tlearn: 0.0579283\ttotal: 737ms\tremaining: 161ms\n",
      "821:\tlearn: 0.0579157\ttotal: 738ms\tremaining: 160ms\n",
      "822:\tlearn: 0.0579039\ttotal: 739ms\tremaining: 159ms\n",
      "823:\tlearn: 0.0578320\ttotal: 739ms\tremaining: 158ms\n",
      "824:\tlearn: 0.0578211\ttotal: 740ms\tremaining: 157ms\n",
      "825:\tlearn: 0.0578048\ttotal: 741ms\tremaining: 156ms\n",
      "826:\tlearn: 0.0577462\ttotal: 742ms\tremaining: 155ms\n",
      "827:\tlearn: 0.0577284\ttotal: 743ms\tremaining: 154ms\n",
      "828:\tlearn: 0.0576933\ttotal: 743ms\tremaining: 153ms\n",
      "829:\tlearn: 0.0576722\ttotal: 744ms\tremaining: 152ms\n",
      "830:\tlearn: 0.0576494\ttotal: 745ms\tremaining: 152ms\n",
      "831:\tlearn: 0.0575843\ttotal: 746ms\tremaining: 151ms\n",
      "832:\tlearn: 0.0575741\ttotal: 747ms\tremaining: 150ms\n",
      "833:\tlearn: 0.0575607\ttotal: 747ms\tremaining: 149ms\n",
      "834:\tlearn: 0.0575495\ttotal: 748ms\tremaining: 148ms\n",
      "835:\tlearn: 0.0574838\ttotal: 749ms\tremaining: 147ms\n",
      "836:\tlearn: 0.0574566\ttotal: 750ms\tremaining: 146ms\n",
      "837:\tlearn: 0.0574406\ttotal: 751ms\tremaining: 145ms\n",
      "838:\tlearn: 0.0573912\ttotal: 752ms\tremaining: 144ms\n",
      "839:\tlearn: 0.0573537\ttotal: 752ms\tremaining: 143ms\n",
      "840:\tlearn: 0.0573021\ttotal: 753ms\tremaining: 142ms\n",
      "841:\tlearn: 0.0572835\ttotal: 754ms\tremaining: 142ms\n",
      "842:\tlearn: 0.0572537\ttotal: 755ms\tremaining: 141ms\n",
      "843:\tlearn: 0.0571937\ttotal: 756ms\tremaining: 140ms\n",
      "844:\tlearn: 0.0571773\ttotal: 756ms\tremaining: 139ms\n",
      "845:\tlearn: 0.0571656\ttotal: 757ms\tremaining: 138ms\n",
      "846:\tlearn: 0.0571420\ttotal: 758ms\tremaining: 137ms\n",
      "847:\tlearn: 0.0570652\ttotal: 759ms\tremaining: 136ms\n",
      "848:\tlearn: 0.0570509\ttotal: 760ms\tremaining: 135ms\n",
      "849:\tlearn: 0.0570172\ttotal: 761ms\tremaining: 134ms\n",
      "850:\tlearn: 0.0569856\ttotal: 761ms\tremaining: 133ms\n",
      "851:\tlearn: 0.0569763\ttotal: 762ms\tremaining: 132ms\n",
      "852:\tlearn: 0.0569342\ttotal: 763ms\tremaining: 131ms\n",
      "853:\tlearn: 0.0569220\ttotal: 764ms\tremaining: 131ms\n",
      "854:\tlearn: 0.0569095\ttotal: 765ms\tremaining: 130ms\n",
      "855:\tlearn: 0.0568999\ttotal: 765ms\tremaining: 129ms\n",
      "856:\tlearn: 0.0568865\ttotal: 766ms\tremaining: 128ms\n",
      "857:\tlearn: 0.0568728\ttotal: 767ms\tremaining: 127ms\n",
      "858:\tlearn: 0.0568335\ttotal: 768ms\tremaining: 126ms\n",
      "859:\tlearn: 0.0567856\ttotal: 769ms\tremaining: 125ms\n",
      "860:\tlearn: 0.0567760\ttotal: 770ms\tremaining: 124ms\n",
      "861:\tlearn: 0.0567559\ttotal: 770ms\tremaining: 123ms\n",
      "862:\tlearn: 0.0567267\ttotal: 771ms\tremaining: 122ms\n",
      "863:\tlearn: 0.0566879\ttotal: 772ms\tremaining: 122ms\n",
      "864:\tlearn: 0.0565999\ttotal: 773ms\tremaining: 121ms\n",
      "865:\tlearn: 0.0565903\ttotal: 774ms\tremaining: 120ms\n",
      "866:\tlearn: 0.0565682\ttotal: 775ms\tremaining: 119ms\n",
      "867:\tlearn: 0.0565544\ttotal: 775ms\tremaining: 118ms\n",
      "868:\tlearn: 0.0565458\ttotal: 776ms\tremaining: 117ms\n",
      "869:\tlearn: 0.0565120\ttotal: 777ms\tremaining: 116ms\n",
      "870:\tlearn: 0.0564985\ttotal: 778ms\tremaining: 115ms\n",
      "871:\tlearn: 0.0564857\ttotal: 779ms\tremaining: 114ms\n",
      "872:\tlearn: 0.0564367\ttotal: 780ms\tremaining: 113ms\n",
      "873:\tlearn: 0.0564159\ttotal: 780ms\tremaining: 113ms\n",
      "874:\tlearn: 0.0564017\ttotal: 781ms\tremaining: 112ms\n",
      "875:\tlearn: 0.0563816\ttotal: 782ms\tremaining: 111ms\n",
      "876:\tlearn: 0.0563112\ttotal: 783ms\tremaining: 110ms\n",
      "877:\tlearn: 0.0563011\ttotal: 784ms\tremaining: 109ms\n",
      "878:\tlearn: 0.0562850\ttotal: 785ms\tremaining: 108ms\n",
      "879:\tlearn: 0.0562664\ttotal: 785ms\tremaining: 107ms\n",
      "880:\tlearn: 0.0562509\ttotal: 786ms\tremaining: 106ms\n",
      "881:\tlearn: 0.0562259\ttotal: 787ms\tremaining: 105ms\n",
      "882:\tlearn: 0.0561992\ttotal: 788ms\tremaining: 104ms\n",
      "883:\tlearn: 0.0561519\ttotal: 789ms\tremaining: 104ms\n",
      "884:\tlearn: 0.0561357\ttotal: 790ms\tremaining: 103ms\n",
      "885:\tlearn: 0.0561248\ttotal: 791ms\tremaining: 102ms\n",
      "886:\tlearn: 0.0560829\ttotal: 791ms\tremaining: 101ms\n",
      "887:\tlearn: 0.0560454\ttotal: 792ms\tremaining: 99.9ms\n",
      "888:\tlearn: 0.0560356\ttotal: 793ms\tremaining: 99ms\n",
      "889:\tlearn: 0.0560274\ttotal: 794ms\tremaining: 98.1ms\n",
      "890:\tlearn: 0.0560167\ttotal: 795ms\tremaining: 97.2ms\n",
      "891:\tlearn: 0.0559896\ttotal: 796ms\tremaining: 96.4ms\n",
      "892:\tlearn: 0.0559648\ttotal: 797ms\tremaining: 95.5ms\n",
      "893:\tlearn: 0.0559495\ttotal: 797ms\tremaining: 94.6ms\n",
      "894:\tlearn: 0.0559378\ttotal: 798ms\tremaining: 93.7ms\n",
      "895:\tlearn: 0.0558986\ttotal: 799ms\tremaining: 92.8ms\n",
      "896:\tlearn: 0.0558853\ttotal: 800ms\tremaining: 91.9ms\n",
      "897:\tlearn: 0.0558690\ttotal: 801ms\tremaining: 91ms\n",
      "898:\tlearn: 0.0558581\ttotal: 802ms\tremaining: 90.1ms\n",
      "899:\tlearn: 0.0558446\ttotal: 803ms\tremaining: 89.2ms\n",
      "900:\tlearn: 0.0558263\ttotal: 804ms\tremaining: 88.3ms\n",
      "901:\tlearn: 0.0557684\ttotal: 804ms\tremaining: 87.4ms\n",
      "902:\tlearn: 0.0557434\ttotal: 805ms\tremaining: 86.5ms\n",
      "903:\tlearn: 0.0557367\ttotal: 806ms\tremaining: 85.6ms\n",
      "904:\tlearn: 0.0557209\ttotal: 807ms\tremaining: 84.7ms\n",
      "905:\tlearn: 0.0557125\ttotal: 808ms\tremaining: 83.8ms\n",
      "906:\tlearn: 0.0556788\ttotal: 809ms\tremaining: 82.9ms\n",
      "907:\tlearn: 0.0556495\ttotal: 810ms\tremaining: 82ms\n",
      "908:\tlearn: 0.0556399\ttotal: 810ms\tremaining: 81.1ms\n",
      "909:\tlearn: 0.0556182\ttotal: 811ms\tremaining: 80.2ms\n",
      "910:\tlearn: 0.0556069\ttotal: 812ms\tremaining: 79.3ms\n",
      "911:\tlearn: 0.0555683\ttotal: 813ms\tremaining: 78.4ms\n",
      "912:\tlearn: 0.0555386\ttotal: 814ms\tremaining: 77.6ms\n",
      "913:\tlearn: 0.0555276\ttotal: 815ms\tremaining: 76.7ms\n",
      "914:\tlearn: 0.0555158\ttotal: 816ms\tremaining: 75.8ms\n",
      "915:\tlearn: 0.0554804\ttotal: 816ms\tremaining: 74.9ms\n",
      "916:\tlearn: 0.0554615\ttotal: 817ms\tremaining: 74ms\n",
      "917:\tlearn: 0.0554470\ttotal: 818ms\tremaining: 73.1ms\n",
      "918:\tlearn: 0.0554200\ttotal: 819ms\tremaining: 72.2ms\n",
      "919:\tlearn: 0.0554134\ttotal: 820ms\tremaining: 71.3ms\n",
      "920:\tlearn: 0.0553568\ttotal: 821ms\tremaining: 70.4ms\n",
      "921:\tlearn: 0.0553073\ttotal: 821ms\tremaining: 69.5ms\n",
      "922:\tlearn: 0.0552897\ttotal: 822ms\tremaining: 68.6ms\n",
      "923:\tlearn: 0.0552794\ttotal: 823ms\tremaining: 67.7ms\n",
      "924:\tlearn: 0.0552580\ttotal: 824ms\tremaining: 66.8ms\n",
      "925:\tlearn: 0.0552278\ttotal: 825ms\tremaining: 65.9ms\n",
      "926:\tlearn: 0.0552027\ttotal: 825ms\tremaining: 65ms\n",
      "927:\tlearn: 0.0551919\ttotal: 826ms\tremaining: 64.1ms\n",
      "928:\tlearn: 0.0551839\ttotal: 827ms\tremaining: 63.2ms\n",
      "929:\tlearn: 0.0551561\ttotal: 828ms\tremaining: 62.3ms\n",
      "930:\tlearn: 0.0551460\ttotal: 829ms\tremaining: 61.4ms\n",
      "931:\tlearn: 0.0551341\ttotal: 830ms\tremaining: 60.5ms\n",
      "932:\tlearn: 0.0551022\ttotal: 831ms\tremaining: 59.6ms\n",
      "933:\tlearn: 0.0550786\ttotal: 831ms\tremaining: 58.7ms\n",
      "934:\tlearn: 0.0550516\ttotal: 832ms\tremaining: 57.9ms\n",
      "935:\tlearn: 0.0550425\ttotal: 833ms\tremaining: 57ms\n",
      "936:\tlearn: 0.0549950\ttotal: 834ms\tremaining: 56.1ms\n",
      "937:\tlearn: 0.0549774\ttotal: 835ms\tremaining: 55.2ms\n",
      "938:\tlearn: 0.0549621\ttotal: 835ms\tremaining: 54.3ms\n",
      "939:\tlearn: 0.0549532\ttotal: 836ms\tremaining: 53.4ms\n",
      "940:\tlearn: 0.0549396\ttotal: 837ms\tremaining: 52.5ms\n",
      "941:\tlearn: 0.0549183\ttotal: 838ms\tremaining: 51.6ms\n",
      "942:\tlearn: 0.0549112\ttotal: 839ms\tremaining: 50.7ms\n",
      "943:\tlearn: 0.0548960\ttotal: 840ms\tremaining: 49.8ms\n",
      "944:\tlearn: 0.0548801\ttotal: 840ms\tremaining: 48.9ms\n",
      "945:\tlearn: 0.0548553\ttotal: 841ms\tremaining: 48ms\n",
      "946:\tlearn: 0.0548424\ttotal: 842ms\tremaining: 47.1ms\n",
      "947:\tlearn: 0.0548074\ttotal: 843ms\tremaining: 46.2ms\n",
      "948:\tlearn: 0.0547941\ttotal: 844ms\tremaining: 45.3ms\n",
      "949:\tlearn: 0.0547809\ttotal: 844ms\tremaining: 44.4ms\n",
      "950:\tlearn: 0.0547702\ttotal: 845ms\tremaining: 43.5ms\n",
      "951:\tlearn: 0.0547219\ttotal: 846ms\tremaining: 42.7ms\n",
      "952:\tlearn: 0.0547122\ttotal: 847ms\tremaining: 41.8ms\n",
      "953:\tlearn: 0.0546670\ttotal: 848ms\tremaining: 40.9ms\n",
      "954:\tlearn: 0.0546479\ttotal: 848ms\tremaining: 40ms\n",
      "955:\tlearn: 0.0546382\ttotal: 849ms\tremaining: 39.1ms\n",
      "956:\tlearn: 0.0546196\ttotal: 850ms\tremaining: 38.2ms\n",
      "957:\tlearn: 0.0545594\ttotal: 851ms\tremaining: 37.3ms\n",
      "958:\tlearn: 0.0545514\ttotal: 852ms\tremaining: 36.4ms\n",
      "959:\tlearn: 0.0545425\ttotal: 853ms\tremaining: 35.5ms\n",
      "960:\tlearn: 0.0545352\ttotal: 853ms\tremaining: 34.6ms\n",
      "961:\tlearn: 0.0545167\ttotal: 854ms\tremaining: 33.7ms\n",
      "962:\tlearn: 0.0545053\ttotal: 855ms\tremaining: 32.9ms\n",
      "963:\tlearn: 0.0544863\ttotal: 856ms\tremaining: 32ms\n",
      "964:\tlearn: 0.0544559\ttotal: 857ms\tremaining: 31.1ms\n",
      "965:\tlearn: 0.0544172\ttotal: 857ms\tremaining: 30.2ms\n",
      "966:\tlearn: 0.0543769\ttotal: 858ms\tremaining: 29.3ms\n",
      "967:\tlearn: 0.0543578\ttotal: 859ms\tremaining: 28.4ms\n",
      "968:\tlearn: 0.0543439\ttotal: 860ms\tremaining: 27.5ms\n",
      "969:\tlearn: 0.0543312\ttotal: 861ms\tremaining: 26.6ms\n",
      "970:\tlearn: 0.0543244\ttotal: 862ms\tremaining: 25.7ms\n",
      "971:\tlearn: 0.0543066\ttotal: 862ms\tremaining: 24.8ms\n",
      "972:\tlearn: 0.0542935\ttotal: 863ms\tremaining: 24ms\n",
      "973:\tlearn: 0.0542412\ttotal: 864ms\tremaining: 23.1ms\n",
      "974:\tlearn: 0.0542137\ttotal: 865ms\tremaining: 22.2ms\n",
      "975:\tlearn: 0.0541650\ttotal: 866ms\tremaining: 21.3ms\n",
      "976:\tlearn: 0.0541291\ttotal: 867ms\tremaining: 20.4ms\n",
      "977:\tlearn: 0.0541218\ttotal: 867ms\tremaining: 19.5ms\n",
      "978:\tlearn: 0.0540859\ttotal: 868ms\tremaining: 18.6ms\n",
      "979:\tlearn: 0.0540737\ttotal: 869ms\tremaining: 17.7ms\n",
      "980:\tlearn: 0.0540549\ttotal: 870ms\tremaining: 16.8ms\n",
      "981:\tlearn: 0.0540344\ttotal: 871ms\tremaining: 16ms\n",
      "982:\tlearn: 0.0539972\ttotal: 871ms\tremaining: 15.1ms\n",
      "983:\tlearn: 0.0539565\ttotal: 872ms\tremaining: 14.2ms\n",
      "984:\tlearn: 0.0539512\ttotal: 873ms\tremaining: 13.3ms\n",
      "985:\tlearn: 0.0539158\ttotal: 874ms\tremaining: 12.4ms\n",
      "986:\tlearn: 0.0538513\ttotal: 875ms\tremaining: 11.5ms\n",
      "987:\tlearn: 0.0538101\ttotal: 875ms\tremaining: 10.6ms\n",
      "988:\tlearn: 0.0537877\ttotal: 876ms\tremaining: 9.75ms\n",
      "989:\tlearn: 0.0537225\ttotal: 877ms\tremaining: 8.86ms\n",
      "990:\tlearn: 0.0537036\ttotal: 878ms\tremaining: 7.97ms\n",
      "991:\tlearn: 0.0536968\ttotal: 879ms\tremaining: 7.09ms\n",
      "992:\tlearn: 0.0536889\ttotal: 880ms\tremaining: 6.2ms\n",
      "993:\tlearn: 0.0536736\ttotal: 880ms\tremaining: 5.31ms\n",
      "994:\tlearn: 0.0536609\ttotal: 881ms\tremaining: 4.43ms\n",
      "995:\tlearn: 0.0536267\ttotal: 882ms\tremaining: 3.54ms\n",
      "996:\tlearn: 0.0536157\ttotal: 883ms\tremaining: 2.66ms\n",
      "997:\tlearn: 0.0535935\ttotal: 884ms\tremaining: 1.77ms\n",
      "998:\tlearn: 0.0535848\ttotal: 885ms\tremaining: 885us\n",
      "999:\tlearn: 0.0535794\ttotal: 886ms\tremaining: 0us\n",
      "Accuracy of CGB classifier on training set: 0.98\n",
      "Accuracy of CGB classifier on test set: 0.84\n"
     ]
    }
   ],
   "source": [
    "from catboost import CatBoostClassifier\n",
    "from sklearn.datasets import make_classification\n",
    "\n",
    "CGB = CatBoostClassifier(random_state=0)\n",
    "CGB.fit(X_train, y_train)\n",
    "print('Accuracy of CGB classifier on training set: {:.2f}'\n",
    "     .format(CGB.score(X_train, y_train)))\n",
    "print('Accuracy of CGB classifier on test set: {:.2f}'\n",
    "     .format(CGB.score(X_test, y_test)))"
   ]
  },
  {
   "cell_type": "code",
   "execution_count": 67,
   "metadata": {},
   "outputs": [
    {
     "name": "stdout",
     "output_type": "stream",
     "text": [
      "[[80  0  0]\n",
      " [ 1 79  0]\n",
      " [ 0  3 77]]\n"
     ]
    }
   ],
   "source": [
    "# Results (Training Set)\n",
    "\n",
    "y_pred_train = CGB.predict(X_train)\n",
    "from sklearn.metrics import confusion_matrix\n",
    "confusion_matrix = confusion_matrix(y_train, y_pred_train)\n",
    "print(confusion_matrix)"
   ]
  },
  {
   "cell_type": "code",
   "execution_count": 68,
   "metadata": {},
   "outputs": [
    {
     "name": "stdout",
     "output_type": "stream",
     "text": [
      "              precision    recall  f1-score   support\n",
      "\n",
      "           1       0.99      1.00      0.99        80\n",
      "           2       0.96      0.99      0.98        80\n",
      "           3       1.00      0.96      0.98        80\n",
      "\n",
      "    accuracy                           0.98       240\n",
      "   macro avg       0.98      0.98      0.98       240\n",
      "weighted avg       0.98      0.98      0.98       240\n",
      "\n"
     ]
    }
   ],
   "source": [
    "# Results (Training Set)\n",
    "\n",
    "from sklearn.metrics import classification_report\n",
    "print(classification_report(y_train, y_pred_train))"
   ]
  },
  {
   "cell_type": "code",
   "execution_count": 69,
   "metadata": {},
   "outputs": [
    {
     "name": "stdout",
     "output_type": "stream",
     "text": [
      "[[29  1  0]\n",
      " [ 5 18  1]\n",
      " [ 2  0  1]]\n"
     ]
    }
   ],
   "source": [
    "# Results (Test Set)\n",
    "\n",
    "y_pred = CGB.predict(X_test)\n",
    "from sklearn.metrics import confusion_matrix\n",
    "confusion_matrix = confusion_matrix(y_test, y_pred)\n",
    "print(confusion_matrix)"
   ]
  },
  {
   "cell_type": "code",
   "execution_count": 70,
   "metadata": {},
   "outputs": [
    {
     "name": "stdout",
     "output_type": "stream",
     "text": [
      "              precision    recall  f1-score   support\n",
      "\n",
      "           1       0.81      0.97      0.88        30\n",
      "           2       0.95      0.75      0.84        24\n",
      "           3       0.50      0.33      0.40         3\n",
      "\n",
      "    accuracy                           0.84        57\n",
      "   macro avg       0.75      0.68      0.71        57\n",
      "weighted avg       0.85      0.84      0.84        57\n",
      "\n"
     ]
    }
   ],
   "source": [
    "# Results (Test Set)\n",
    "\n",
    "from sklearn.metrics import classification_report\n",
    "print(classification_report(y_test, y_pred))"
   ]
  }
 ],
 "metadata": {
  "kernelspec": {
   "display_name": "Python 3",
   "language": "python",
   "name": "python3"
  },
  "language_info": {
   "codemirror_mode": {
    "name": "ipython",
    "version": 3
   },
   "file_extension": ".py",
   "mimetype": "text/x-python",
   "name": "python",
   "nbconvert_exporter": "python",
   "pygments_lexer": "ipython3",
   "version": "3.7.3"
  }
 },
 "nbformat": 4,
 "nbformat_minor": 2
}
