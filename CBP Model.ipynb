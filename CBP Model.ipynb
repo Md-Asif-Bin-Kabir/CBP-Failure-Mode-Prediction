{
 "cells": [
  {
   "cell_type": "code",
   "execution_count": 1,
   "metadata": {},
   "outputs": [],
   "source": [
    "# Import Libraries\n",
    "import pandas as pd\n",
    "import numpy as np\n",
    "import matplotlib.pyplot as plt\n",
    "import warnings\n",
    "warnings.filterwarnings(\"ignore\")"
   ]
  },
  {
   "cell_type": "code",
   "execution_count": 283,
   "metadata": {},
   "outputs": [
    {
     "name": "stdout",
     "output_type": "stream",
     "text": [
      "Database_Shape:(189, 9)\n"
     ]
    },
    {
     "data": {
      "text/html": [
       "<div>\n",
       "<style scoped>\n",
       "    .dataframe tbody tr th:only-of-type {\n",
       "        vertical-align: middle;\n",
       "    }\n",
       "\n",
       "    .dataframe tbody tr th {\n",
       "        vertical-align: top;\n",
       "    }\n",
       "\n",
       "    .dataframe thead th {\n",
       "        text-align: right;\n",
       "    }\n",
       "</style>\n",
       "<table border=\"1\" class=\"dataframe\">\n",
       "  <thead>\n",
       "    <tr style=\"text-align: right;\">\n",
       "      <th></th>\n",
       "      <th>BP_Thickness</th>\n",
       "      <th>BP_Fy</th>\n",
       "      <th>Anchor_Dia</th>\n",
       "      <th>Anchor_Quantity</th>\n",
       "      <th>Embed_Length</th>\n",
       "      <th>Grout_Thickness</th>\n",
       "      <th>Pitch_Length</th>\n",
       "      <th>Column_Section</th>\n",
       "      <th>Failure_Mode</th>\n",
       "    </tr>\n",
       "  </thead>\n",
       "  <tbody>\n",
       "    <tr>\n",
       "      <th>179</th>\n",
       "      <td>15.9</td>\n",
       "      <td>379</td>\n",
       "      <td>32.0</td>\n",
       "      <td>8</td>\n",
       "      <td>400</td>\n",
       "      <td>0</td>\n",
       "      <td>127.0</td>\n",
       "      <td>W</td>\n",
       "      <td>3</td>\n",
       "    </tr>\n",
       "    <tr>\n",
       "      <th>180</th>\n",
       "      <td>15.9</td>\n",
       "      <td>379</td>\n",
       "      <td>32.0</td>\n",
       "      <td>8</td>\n",
       "      <td>400</td>\n",
       "      <td>0</td>\n",
       "      <td>127.0</td>\n",
       "      <td>W</td>\n",
       "      <td>3</td>\n",
       "    </tr>\n",
       "    <tr>\n",
       "      <th>181</th>\n",
       "      <td>19.1</td>\n",
       "      <td>379</td>\n",
       "      <td>32.0</td>\n",
       "      <td>8</td>\n",
       "      <td>400</td>\n",
       "      <td>0</td>\n",
       "      <td>127.0</td>\n",
       "      <td>W</td>\n",
       "      <td>3</td>\n",
       "    </tr>\n",
       "    <tr>\n",
       "      <th>182</th>\n",
       "      <td>12.7</td>\n",
       "      <td>379</td>\n",
       "      <td>19.0</td>\n",
       "      <td>4</td>\n",
       "      <td>400</td>\n",
       "      <td>0</td>\n",
       "      <td>101.0</td>\n",
       "      <td>W</td>\n",
       "      <td>1</td>\n",
       "    </tr>\n",
       "    <tr>\n",
       "      <th>183</th>\n",
       "      <td>9.0</td>\n",
       "      <td>270</td>\n",
       "      <td>12.0</td>\n",
       "      <td>8</td>\n",
       "      <td>205</td>\n",
       "      <td>0</td>\n",
       "      <td>230.0</td>\n",
       "      <td>HSS</td>\n",
       "      <td>2</td>\n",
       "    </tr>\n",
       "    <tr>\n",
       "      <th>184</th>\n",
       "      <td>9.0</td>\n",
       "      <td>270</td>\n",
       "      <td>12.0</td>\n",
       "      <td>8</td>\n",
       "      <td>205</td>\n",
       "      <td>0</td>\n",
       "      <td>230.0</td>\n",
       "      <td>HSS</td>\n",
       "      <td>2</td>\n",
       "    </tr>\n",
       "    <tr>\n",
       "      <th>185</th>\n",
       "      <td>9.0</td>\n",
       "      <td>270</td>\n",
       "      <td>12.0</td>\n",
       "      <td>8</td>\n",
       "      <td>205</td>\n",
       "      <td>0</td>\n",
       "      <td>230.0</td>\n",
       "      <td>HSS</td>\n",
       "      <td>2</td>\n",
       "    </tr>\n",
       "    <tr>\n",
       "      <th>186</th>\n",
       "      <td>19.0</td>\n",
       "      <td>250</td>\n",
       "      <td>12.0</td>\n",
       "      <td>8</td>\n",
       "      <td>205</td>\n",
       "      <td>0</td>\n",
       "      <td>230.0</td>\n",
       "      <td>HSS</td>\n",
       "      <td>2</td>\n",
       "    </tr>\n",
       "    <tr>\n",
       "      <th>187</th>\n",
       "      <td>19.0</td>\n",
       "      <td>250</td>\n",
       "      <td>12.0</td>\n",
       "      <td>8</td>\n",
       "      <td>205</td>\n",
       "      <td>0</td>\n",
       "      <td>230.0</td>\n",
       "      <td>HSS</td>\n",
       "      <td>1</td>\n",
       "    </tr>\n",
       "    <tr>\n",
       "      <th>188</th>\n",
       "      <td>19.0</td>\n",
       "      <td>250</td>\n",
       "      <td>12.0</td>\n",
       "      <td>8</td>\n",
       "      <td>205</td>\n",
       "      <td>0</td>\n",
       "      <td>230.0</td>\n",
       "      <td>HSS</td>\n",
       "      <td>1</td>\n",
       "    </tr>\n",
       "  </tbody>\n",
       "</table>\n",
       "</div>"
      ],
      "text/plain": [
       "     BP_Thickness  BP_Fy  Anchor_Dia  Anchor_Quantity  Embed_Length  \\\n",
       "179          15.9    379        32.0                8           400   \n",
       "180          15.9    379        32.0                8           400   \n",
       "181          19.1    379        32.0                8           400   \n",
       "182          12.7    379        19.0                4           400   \n",
       "183           9.0    270        12.0                8           205   \n",
       "184           9.0    270        12.0                8           205   \n",
       "185           9.0    270        12.0                8           205   \n",
       "186          19.0    250        12.0                8           205   \n",
       "187          19.0    250        12.0                8           205   \n",
       "188          19.0    250        12.0                8           205   \n",
       "\n",
       "     Grout_Thickness  Pitch_Length Column_Section  Failure_Mode  \n",
       "179                0         127.0              W             3  \n",
       "180                0         127.0              W             3  \n",
       "181                0         127.0              W             3  \n",
       "182                0         101.0              W             1  \n",
       "183                0         230.0            HSS             2  \n",
       "184                0         230.0            HSS             2  \n",
       "185                0         230.0            HSS             2  \n",
       "186                0         230.0            HSS             2  \n",
       "187                0         230.0            HSS             1  \n",
       "188                0         230.0            HSS             1  "
      ]
     },
     "execution_count": 283,
     "metadata": {},
     "output_type": "execute_result"
    }
   ],
   "source": [
    "# Import Dataset\n",
    "df = pd.read_excel('D:\\Modified_Dataset.xlsx')\n",
    "\n",
    "# Print data shape\n",
    "print (\"Database_Shape:{}\".format(df.shape))\n",
    "\n",
    "df.tail(10)"
   ]
  },
  {
   "cell_type": "markdown",
   "metadata": {},
   "source": [
    "### Description of Database"
   ]
  },
  {
   "cell_type": "code",
   "execution_count": 284,
   "metadata": {},
   "outputs": [
    {
     "data": {
      "text/plain": [
       "Index(['BP_Thickness', 'BP_Fy', 'Anchor_Dia', 'Anchor_Quantity',\n",
       "       'Embed_Length', 'Grout_Thickness', 'Pitch_Length', 'Column_Section',\n",
       "       'Failure_Mode'],\n",
       "      dtype='object')"
      ]
     },
     "execution_count": 284,
     "metadata": {},
     "output_type": "execute_result"
    }
   ],
   "source": [
    "df.columns"
   ]
  },
  {
   "cell_type": "code",
   "execution_count": 285,
   "metadata": {},
   "outputs": [
    {
     "name": "stdout",
     "output_type": "stream",
     "text": [
      "<class 'pandas.core.frame.DataFrame'>\n",
      "RangeIndex: 189 entries, 0 to 188\n",
      "Data columns (total 9 columns):\n",
      " #   Column           Non-Null Count  Dtype  \n",
      "---  ------           --------------  -----  \n",
      " 0   BP_Thickness     189 non-null    float64\n",
      " 1   BP_Fy            189 non-null    int64  \n",
      " 2   Anchor_Dia       189 non-null    float64\n",
      " 3   Anchor_Quantity  189 non-null    int64  \n",
      " 4   Embed_Length     189 non-null    int64  \n",
      " 5   Grout_Thickness  189 non-null    int64  \n",
      " 6   Pitch_Length     187 non-null    float64\n",
      " 7   Column_Section   189 non-null    object \n",
      " 8   Failure_Mode     189 non-null    int64  \n",
      "dtypes: float64(3), int64(5), object(1)\n",
      "memory usage: 13.4+ KB\n",
      "None\n"
     ]
    }
   ],
   "source": [
    "print(df.info()) "
   ]
  },
  {
   "cell_type": "markdown",
   "metadata": {},
   "source": [
    "### Exploratory Data Analysis"
   ]
  },
  {
   "cell_type": "code",
   "execution_count": 4,
   "metadata": {},
   "outputs": [
    {
     "data": {
      "text/plain": [
       "BP_Thickness       0\n",
       "BP_Fy              0\n",
       "Anchor_Dia         0\n",
       "Anchor_Quantity    0\n",
       "Embed_Length       0\n",
       "Grout_Thickness    0\n",
       "Pitch_Length       2\n",
       "Column_Section     0\n",
       "Failure_Mode       0\n",
       "dtype: int64"
      ]
     },
     "execution_count": 4,
     "metadata": {},
     "output_type": "execute_result"
    }
   ],
   "source": [
    "# Checking any missing values \n",
    "\n",
    "df.isnull().sum()"
   ]
  },
  {
   "cell_type": "markdown",
   "metadata": {},
   "source": [
    "### Pitch Length have few missing values"
   ]
  },
  {
   "cell_type": "code",
   "execution_count": 5,
   "metadata": {},
   "outputs": [
    {
     "data": {
      "text/html": [
       "<div>\n",
       "<style scoped>\n",
       "    .dataframe tbody tr th:only-of-type {\n",
       "        vertical-align: middle;\n",
       "    }\n",
       "\n",
       "    .dataframe tbody tr th {\n",
       "        vertical-align: top;\n",
       "    }\n",
       "\n",
       "    .dataframe thead th {\n",
       "        text-align: right;\n",
       "    }\n",
       "</style>\n",
       "<table border=\"1\" class=\"dataframe\">\n",
       "  <thead>\n",
       "    <tr style=\"text-align: right;\">\n",
       "      <th></th>\n",
       "      <th>BP_Thickness</th>\n",
       "      <th>BP_Fy</th>\n",
       "      <th>Anchor_Dia</th>\n",
       "      <th>Anchor_Quantity</th>\n",
       "      <th>Embed_Length</th>\n",
       "      <th>Grout_Thickness</th>\n",
       "      <th>Column_Section</th>\n",
       "      <th>Failure_Mode</th>\n",
       "    </tr>\n",
       "  </thead>\n",
       "  <tbody>\n",
       "    <tr>\n",
       "      <th>184</th>\n",
       "      <td>9.0</td>\n",
       "      <td>270</td>\n",
       "      <td>12.0</td>\n",
       "      <td>8</td>\n",
       "      <td>205</td>\n",
       "      <td>0</td>\n",
       "      <td>HSS</td>\n",
       "      <td>2</td>\n",
       "    </tr>\n",
       "    <tr>\n",
       "      <th>185</th>\n",
       "      <td>9.0</td>\n",
       "      <td>270</td>\n",
       "      <td>12.0</td>\n",
       "      <td>8</td>\n",
       "      <td>205</td>\n",
       "      <td>0</td>\n",
       "      <td>HSS</td>\n",
       "      <td>2</td>\n",
       "    </tr>\n",
       "    <tr>\n",
       "      <th>186</th>\n",
       "      <td>19.0</td>\n",
       "      <td>250</td>\n",
       "      <td>12.0</td>\n",
       "      <td>8</td>\n",
       "      <td>205</td>\n",
       "      <td>0</td>\n",
       "      <td>HSS</td>\n",
       "      <td>2</td>\n",
       "    </tr>\n",
       "    <tr>\n",
       "      <th>187</th>\n",
       "      <td>19.0</td>\n",
       "      <td>250</td>\n",
       "      <td>12.0</td>\n",
       "      <td>8</td>\n",
       "      <td>205</td>\n",
       "      <td>0</td>\n",
       "      <td>HSS</td>\n",
       "      <td>1</td>\n",
       "    </tr>\n",
       "    <tr>\n",
       "      <th>188</th>\n",
       "      <td>19.0</td>\n",
       "      <td>250</td>\n",
       "      <td>12.0</td>\n",
       "      <td>8</td>\n",
       "      <td>205</td>\n",
       "      <td>0</td>\n",
       "      <td>HSS</td>\n",
       "      <td>1</td>\n",
       "    </tr>\n",
       "  </tbody>\n",
       "</table>\n",
       "</div>"
      ],
      "text/plain": [
       "     BP_Thickness  BP_Fy  Anchor_Dia  Anchor_Quantity  Embed_Length  \\\n",
       "184           9.0    270        12.0                8           205   \n",
       "185           9.0    270        12.0                8           205   \n",
       "186          19.0    250        12.0                8           205   \n",
       "187          19.0    250        12.0                8           205   \n",
       "188          19.0    250        12.0                8           205   \n",
       "\n",
       "     Grout_Thickness Column_Section  Failure_Mode  \n",
       "184                0            HSS             2  \n",
       "185                0            HSS             2  \n",
       "186                0            HSS             2  \n",
       "187                0            HSS             1  \n",
       "188                0            HSS             1  "
      ]
     },
     "execution_count": 5,
     "metadata": {},
     "output_type": "execute_result"
    }
   ],
   "source": [
    "# Dropping the Pitch_Length column from the database due to missing values\n",
    "\n",
    "df.drop('Pitch_Length', axis= 1, inplace=True)\n",
    "df.tail()"
   ]
  },
  {
   "cell_type": "code",
   "execution_count": 6,
   "metadata": {},
   "outputs": [
    {
     "name": "stdout",
     "output_type": "stream",
     "text": [
      "['W' 'HSS']\n",
      "Column_Section\n",
      "HSS     74\n",
      "W      115\n",
      "dtype: int64\n"
     ]
    }
   ],
   "source": [
    "# Description of string values in the Column Section\n",
    "\n",
    "print (df['Column_Section'].unique())\n",
    "print(df.groupby('Column_Section').size())"
   ]
  },
  {
   "cell_type": "code",
   "execution_count": 7,
   "metadata": {},
   "outputs": [
    {
     "data": {
      "text/html": [
       "<div>\n",
       "<style scoped>\n",
       "    .dataframe tbody tr th:only-of-type {\n",
       "        vertical-align: middle;\n",
       "    }\n",
       "\n",
       "    .dataframe tbody tr th {\n",
       "        vertical-align: top;\n",
       "    }\n",
       "\n",
       "    .dataframe thead th {\n",
       "        text-align: right;\n",
       "    }\n",
       "</style>\n",
       "<table border=\"1\" class=\"dataframe\">\n",
       "  <thead>\n",
       "    <tr style=\"text-align: right;\">\n",
       "      <th></th>\n",
       "      <th>BP_Thickness</th>\n",
       "      <th>BP_Fy</th>\n",
       "      <th>Anchor_Dia</th>\n",
       "      <th>Anchor_Quantity</th>\n",
       "      <th>Embed_Length</th>\n",
       "      <th>Grout_Thickness</th>\n",
       "      <th>Column_Section</th>\n",
       "      <th>Failure_Mode</th>\n",
       "    </tr>\n",
       "  </thead>\n",
       "  <tbody>\n",
       "    <tr>\n",
       "      <th>179</th>\n",
       "      <td>15.9</td>\n",
       "      <td>379</td>\n",
       "      <td>32.0</td>\n",
       "      <td>8</td>\n",
       "      <td>400</td>\n",
       "      <td>0</td>\n",
       "      <td>1</td>\n",
       "      <td>3</td>\n",
       "    </tr>\n",
       "    <tr>\n",
       "      <th>180</th>\n",
       "      <td>15.9</td>\n",
       "      <td>379</td>\n",
       "      <td>32.0</td>\n",
       "      <td>8</td>\n",
       "      <td>400</td>\n",
       "      <td>0</td>\n",
       "      <td>1</td>\n",
       "      <td>3</td>\n",
       "    </tr>\n",
       "    <tr>\n",
       "      <th>181</th>\n",
       "      <td>19.1</td>\n",
       "      <td>379</td>\n",
       "      <td>32.0</td>\n",
       "      <td>8</td>\n",
       "      <td>400</td>\n",
       "      <td>0</td>\n",
       "      <td>1</td>\n",
       "      <td>3</td>\n",
       "    </tr>\n",
       "    <tr>\n",
       "      <th>182</th>\n",
       "      <td>12.7</td>\n",
       "      <td>379</td>\n",
       "      <td>19.0</td>\n",
       "      <td>4</td>\n",
       "      <td>400</td>\n",
       "      <td>0</td>\n",
       "      <td>1</td>\n",
       "      <td>1</td>\n",
       "    </tr>\n",
       "    <tr>\n",
       "      <th>183</th>\n",
       "      <td>9.0</td>\n",
       "      <td>270</td>\n",
       "      <td>12.0</td>\n",
       "      <td>8</td>\n",
       "      <td>205</td>\n",
       "      <td>0</td>\n",
       "      <td>0</td>\n",
       "      <td>2</td>\n",
       "    </tr>\n",
       "    <tr>\n",
       "      <th>184</th>\n",
       "      <td>9.0</td>\n",
       "      <td>270</td>\n",
       "      <td>12.0</td>\n",
       "      <td>8</td>\n",
       "      <td>205</td>\n",
       "      <td>0</td>\n",
       "      <td>0</td>\n",
       "      <td>2</td>\n",
       "    </tr>\n",
       "    <tr>\n",
       "      <th>185</th>\n",
       "      <td>9.0</td>\n",
       "      <td>270</td>\n",
       "      <td>12.0</td>\n",
       "      <td>8</td>\n",
       "      <td>205</td>\n",
       "      <td>0</td>\n",
       "      <td>0</td>\n",
       "      <td>2</td>\n",
       "    </tr>\n",
       "    <tr>\n",
       "      <th>186</th>\n",
       "      <td>19.0</td>\n",
       "      <td>250</td>\n",
       "      <td>12.0</td>\n",
       "      <td>8</td>\n",
       "      <td>205</td>\n",
       "      <td>0</td>\n",
       "      <td>0</td>\n",
       "      <td>2</td>\n",
       "    </tr>\n",
       "    <tr>\n",
       "      <th>187</th>\n",
       "      <td>19.0</td>\n",
       "      <td>250</td>\n",
       "      <td>12.0</td>\n",
       "      <td>8</td>\n",
       "      <td>205</td>\n",
       "      <td>0</td>\n",
       "      <td>0</td>\n",
       "      <td>1</td>\n",
       "    </tr>\n",
       "    <tr>\n",
       "      <th>188</th>\n",
       "      <td>19.0</td>\n",
       "      <td>250</td>\n",
       "      <td>12.0</td>\n",
       "      <td>8</td>\n",
       "      <td>205</td>\n",
       "      <td>0</td>\n",
       "      <td>0</td>\n",
       "      <td>1</td>\n",
       "    </tr>\n",
       "  </tbody>\n",
       "</table>\n",
       "</div>"
      ],
      "text/plain": [
       "     BP_Thickness  BP_Fy  Anchor_Dia  Anchor_Quantity  Embed_Length  \\\n",
       "179          15.9    379        32.0                8           400   \n",
       "180          15.9    379        32.0                8           400   \n",
       "181          19.1    379        32.0                8           400   \n",
       "182          12.7    379        19.0                4           400   \n",
       "183           9.0    270        12.0                8           205   \n",
       "184           9.0    270        12.0                8           205   \n",
       "185           9.0    270        12.0                8           205   \n",
       "186          19.0    250        12.0                8           205   \n",
       "187          19.0    250        12.0                8           205   \n",
       "188          19.0    250        12.0                8           205   \n",
       "\n",
       "     Grout_Thickness  Column_Section  Failure_Mode  \n",
       "179                0               1             3  \n",
       "180                0               1             3  \n",
       "181                0               1             3  \n",
       "182                0               1             1  \n",
       "183                0               0             2  \n",
       "184                0               0             2  \n",
       "185                0               0             2  \n",
       "186                0               0             2  \n",
       "187                0               0             1  \n",
       "188                0               0             1  "
      ]
     },
     "execution_count": 7,
     "metadata": {},
     "output_type": "execute_result"
    }
   ],
   "source": [
    "# Encoding string values for Column Section\n",
    "\n",
    "from sklearn.preprocessing import LabelEncoder\n",
    "\n",
    "enc = LabelEncoder()\n",
    "df.loc[:,['Column_Section']] = df.loc[:,['Column_Section']].apply(enc.fit_transform)\n",
    "df.tail(10)"
   ]
  },
  {
   "cell_type": "code",
   "execution_count": 8,
   "metadata": {},
   "outputs": [
    {
     "data": {
      "text/plain": [
       "Text(0, 0.5, 'Failure Mode')"
      ]
     },
     "execution_count": 8,
     "metadata": {},
     "output_type": "execute_result"
    },
    {
     "data": {
      "image/png": "[encoded data removed]",
      "text/plain": [
       "<Figure size 432x288 with 1 Axes>"
      ]
     },
     "metadata": {
      "needs_background": "light"
     },
     "output_type": "display_data"
    }
   ],
   "source": [
    "table=pd.crosstab(df.Column_Section,df.Failure_Mode)\n",
    "table.div(table.sum(1).astype(float), axis=0).plot(kind='bar', stacked=True)\n",
    "plt.xlabel('Column Section')\n",
    "plt.ylabel('Failure Mode')"
   ]
  },
  {
   "cell_type": "markdown",
   "metadata": {},
   "source": [
    "Column Section seems to have no significant influence on Failure Mode"
   ]
  },
  {
   "cell_type": "code",
   "execution_count": 9,
   "metadata": {},
   "outputs": [
    {
     "data": {
      "text/html": [
       "<div>\n",
       "<style scoped>\n",
       "    .dataframe tbody tr th:only-of-type {\n",
       "        vertical-align: middle;\n",
       "    }\n",
       "\n",
       "    .dataframe tbody tr th {\n",
       "        vertical-align: top;\n",
       "    }\n",
       "\n",
       "    .dataframe thead th {\n",
       "        text-align: right;\n",
       "    }\n",
       "</style>\n",
       "<table border=\"1\" class=\"dataframe\">\n",
       "  <thead>\n",
       "    <tr style=\"text-align: right;\">\n",
       "      <th></th>\n",
       "      <th>BP_Thickness</th>\n",
       "      <th>BP_Fy</th>\n",
       "      <th>Anchor_Dia</th>\n",
       "      <th>Anchor_Quantity</th>\n",
       "      <th>Embed_Length</th>\n",
       "      <th>Grout_Thickness</th>\n",
       "      <th>Failure_Mode</th>\n",
       "    </tr>\n",
       "  </thead>\n",
       "  <tbody>\n",
       "    <tr>\n",
       "      <th>184</th>\n",
       "      <td>9.0</td>\n",
       "      <td>270</td>\n",
       "      <td>12.0</td>\n",
       "      <td>8</td>\n",
       "      <td>205</td>\n",
       "      <td>0</td>\n",
       "      <td>2</td>\n",
       "    </tr>\n",
       "    <tr>\n",
       "      <th>185</th>\n",
       "      <td>9.0</td>\n",
       "      <td>270</td>\n",
       "      <td>12.0</td>\n",
       "      <td>8</td>\n",
       "      <td>205</td>\n",
       "      <td>0</td>\n",
       "      <td>2</td>\n",
       "    </tr>\n",
       "    <tr>\n",
       "      <th>186</th>\n",
       "      <td>19.0</td>\n",
       "      <td>250</td>\n",
       "      <td>12.0</td>\n",
       "      <td>8</td>\n",
       "      <td>205</td>\n",
       "      <td>0</td>\n",
       "      <td>2</td>\n",
       "    </tr>\n",
       "    <tr>\n",
       "      <th>187</th>\n",
       "      <td>19.0</td>\n",
       "      <td>250</td>\n",
       "      <td>12.0</td>\n",
       "      <td>8</td>\n",
       "      <td>205</td>\n",
       "      <td>0</td>\n",
       "      <td>1</td>\n",
       "    </tr>\n",
       "    <tr>\n",
       "      <th>188</th>\n",
       "      <td>19.0</td>\n",
       "      <td>250</td>\n",
       "      <td>12.0</td>\n",
       "      <td>8</td>\n",
       "      <td>205</td>\n",
       "      <td>0</td>\n",
       "      <td>1</td>\n",
       "    </tr>\n",
       "  </tbody>\n",
       "</table>\n",
       "</div>"
      ],
      "text/plain": [
       "     BP_Thickness  BP_Fy  Anchor_Dia  Anchor_Quantity  Embed_Length  \\\n",
       "184           9.0    270        12.0                8           205   \n",
       "185           9.0    270        12.0                8           205   \n",
       "186          19.0    250        12.0                8           205   \n",
       "187          19.0    250        12.0                8           205   \n",
       "188          19.0    250        12.0                8           205   \n",
       "\n",
       "     Grout_Thickness  Failure_Mode  \n",
       "184                0             2  \n",
       "185                0             2  \n",
       "186                0             2  \n",
       "187                0             1  \n",
       "188                0             1  "
      ]
     },
     "execution_count": 9,
     "metadata": {},
     "output_type": "execute_result"
    }
   ],
   "source": [
    "# Dropping the Column_Section from the database column \n",
    "\n",
    "df.drop('Column_Section', axis= 1, inplace=True)\n",
    "df.tail()"
   ]
  },
  {
   "cell_type": "code",
   "execution_count": 10,
   "metadata": {},
   "outputs": [
    {
     "name": "stdout",
     "output_type": "stream",
     "text": [
      "Analysis_Database_Shape:(189, 7)\n"
     ]
    }
   ],
   "source": [
    "print  (\"Analysis_Database_Shape:{}\".format(df.shape))"
   ]
  },
  {
   "cell_type": "code",
   "execution_count": 11,
   "metadata": {},
   "outputs": [
    {
     "data": {
      "image/png": "[encoded data removed]",
      "text/plain": [
       "<Figure size 1080x864 with 2 Axes>"
      ]
     },
     "metadata": {
      "needs_background": "light"
     },
     "output_type": "display_data"
    }
   ],
   "source": [
    "# Examining correlations\n",
    "\n",
    "import seaborn as sns\n",
    "corr = df.drop('Failure_Mode', axis=1).corr() \n",
    "plt.figure(figsize=(15, 12))\n",
    "\n",
    "sns.set(font_scale=1.4) \n",
    "sns.heatmap(corr[(corr >= 0.0) | (corr <= -0.0)], \n",
    "            cmap='RdYlGn', vmax=1.0, vmin=-1.0, linewidths=0.2, cbar=True, fmt='.3g',\n",
    "            annot=True, annot_kws={\"size\": 13}, square=True);"
   ]
  },
  {
   "cell_type": "code",
   "execution_count": 286,
   "metadata": {},
   "outputs": [
    {
     "data": {
      "image/png": "[encoded data removed]",
      "text/plain": [
       "<Figure size 432x288 with 1 Axes>"
      ]
     },
     "metadata": {},
     "output_type": "display_data"
    },
    {
     "data": {
      "text/plain": [
       "Failure_Mode\n",
       "1    110\n",
       "2     68\n",
       "3     11\n",
       "dtype: int64"
      ]
     },
     "execution_count": 286,
     "metadata": {},
     "output_type": "execute_result"
    }
   ],
   "source": [
    "# Check whether data is imbalanced\n",
    "\n",
    "import seaborn as sns\n",
    "sns.set(style=\"white\")\n",
    "sns.set(style=\"whitegrid\", color_codes=True)\n",
    "sns.countplot(x='Failure_Mode',data=df, palette='hls')\n",
    "plt.show()\n",
    "df.groupby('Failure_Mode').size()"
   ]
  },
  {
   "cell_type": "markdown",
   "metadata": {},
   "source": [
    "Dataset is highly imbalanced with respect to the Failure Mode"
   ]
  },
  {
   "cell_type": "markdown",
   "metadata": {},
   "source": [
    "### Data Preprocessing"
   ]
  },
  {
   "cell_type": "code",
   "execution_count": 270,
   "metadata": {},
   "outputs": [
    {
     "data": {
      "text/html": [
       "<div>\n",
       "<style scoped>\n",
       "    .dataframe tbody tr th:only-of-type {\n",
       "        vertical-align: middle;\n",
       "    }\n",
       "\n",
       "    .dataframe tbody tr th {\n",
       "        vertical-align: top;\n",
       "    }\n",
       "\n",
       "    .dataframe thead th {\n",
       "        text-align: right;\n",
       "    }\n",
       "</style>\n",
       "<table border=\"1\" class=\"dataframe\">\n",
       "  <thead>\n",
       "    <tr style=\"text-align: right;\">\n",
       "      <th></th>\n",
       "      <th>BP_Thickness</th>\n",
       "      <th>BP_Fy</th>\n",
       "      <th>Anchor_Dia</th>\n",
       "      <th>Anchor_Quantity</th>\n",
       "      <th>Embed_Length</th>\n",
       "      <th>Grout_Thickness</th>\n",
       "    </tr>\n",
       "  </thead>\n",
       "  <tbody>\n",
       "    <tr>\n",
       "      <th>184</th>\n",
       "      <td>9.0</td>\n",
       "      <td>270</td>\n",
       "      <td>12.0</td>\n",
       "      <td>8</td>\n",
       "      <td>205</td>\n",
       "      <td>0</td>\n",
       "    </tr>\n",
       "    <tr>\n",
       "      <th>185</th>\n",
       "      <td>9.0</td>\n",
       "      <td>270</td>\n",
       "      <td>12.0</td>\n",
       "      <td>8</td>\n",
       "      <td>205</td>\n",
       "      <td>0</td>\n",
       "    </tr>\n",
       "    <tr>\n",
       "      <th>186</th>\n",
       "      <td>19.0</td>\n",
       "      <td>250</td>\n",
       "      <td>12.0</td>\n",
       "      <td>8</td>\n",
       "      <td>205</td>\n",
       "      <td>0</td>\n",
       "    </tr>\n",
       "    <tr>\n",
       "      <th>187</th>\n",
       "      <td>19.0</td>\n",
       "      <td>250</td>\n",
       "      <td>12.0</td>\n",
       "      <td>8</td>\n",
       "      <td>205</td>\n",
       "      <td>0</td>\n",
       "    </tr>\n",
       "    <tr>\n",
       "      <th>188</th>\n",
       "      <td>19.0</td>\n",
       "      <td>250</td>\n",
       "      <td>12.0</td>\n",
       "      <td>8</td>\n",
       "      <td>205</td>\n",
       "      <td>0</td>\n",
       "    </tr>\n",
       "  </tbody>\n",
       "</table>\n",
       "</div>"
      ],
      "text/plain": [
       "     BP_Thickness  BP_Fy  Anchor_Dia  Anchor_Quantity  Embed_Length  \\\n",
       "184           9.0    270        12.0                8           205   \n",
       "185           9.0    270        12.0                8           205   \n",
       "186          19.0    250        12.0                8           205   \n",
       "187          19.0    250        12.0                8           205   \n",
       "188          19.0    250        12.0                8           205   \n",
       "\n",
       "     Grout_Thickness  \n",
       "184                0  \n",
       "185                0  \n",
       "186                0  \n",
       "187                0  \n",
       "188                0  "
      ]
     },
     "execution_count": 270,
     "metadata": {},
     "output_type": "execute_result"
    }
   ],
   "source": [
    "# Define X & y\n",
    "\n",
    "X = df.iloc[:, :6]\n",
    "y = df.Failure_Mode\n",
    "X.tail()"
   ]
  },
  {
   "cell_type": "code",
   "execution_count": 15,
   "metadata": {},
   "outputs": [
    {
     "data": {
      "text/plain": [
       "184    2\n",
       "185    2\n",
       "186    2\n",
       "187    1\n",
       "188    1\n",
       "Name: Failure_Mode, dtype: int64"
      ]
     },
     "execution_count": 15,
     "metadata": {},
     "output_type": "execute_result"
    }
   ],
   "source": [
    "y.tail()"
   ]
  },
  {
   "cell_type": "code",
   "execution_count": 16,
   "metadata": {},
   "outputs": [],
   "source": [
    "# Train and Test dataset (Split 70/30)\n",
    "\n",
    "from sklearn.model_selection import train_test_split\n",
    "\n",
    "X_train, X_test, y_train, y_test = train_test_split(X,y, test_size=0.3, random_state=0)"
   ]
  },
  {
   "cell_type": "code",
   "execution_count": 17,
   "metadata": {},
   "outputs": [
    {
     "name": "stderr",
     "output_type": "stream",
     "text": [
      "Using TensorFlow backend.\n"
     ]
    }
   ],
   "source": [
    "# Applying SMOTE to train data\n",
    "\n",
    "from imblearn.over_sampling import SMOTE\n",
    "sm = SMOTE(random_state=2, k_neighbors=5)\n",
    "X_res, y_res = sm.fit_sample(X_train.astype('float'), y_train)"
   ]
  },
  {
   "cell_type": "code",
   "execution_count": 18,
   "metadata": {},
   "outputs": [
    {
     "name": "stdout",
     "output_type": "stream",
     "text": [
      "Before SMOTE : Counter({1: 80, 2: 44, 3: 8})\n",
      "After SMOTE : Counter({3: 80, 1: 80, 2: 80})\n"
     ]
    }
   ],
   "source": [
    "from collections import Counter\n",
    "print(\"Before SMOTE :\" , Counter(y_train))\n",
    "print(\"After SMOTE :\" , Counter(y_res))"
   ]
  },
  {
   "cell_type": "code",
   "execution_count": 19,
   "metadata": {},
   "outputs": [],
   "source": [
    "X_train=X_res.copy()\n",
    "y_train=y_res.copy()"
   ]
  },
  {
   "cell_type": "code",
   "execution_count": 20,
   "metadata": {},
   "outputs": [],
   "source": [
    "from sklearn.preprocessing import MinMaxScaler\n",
    "scaler = MinMaxScaler()\n",
    "X_train = scaler.fit_transform(X_train)\n",
    "X_test = scaler.transform(X_test)"
   ]
  },
  {
   "cell_type": "code",
   "execution_count": 21,
   "metadata": {},
   "outputs": [
    {
     "name": "stdout",
     "output_type": "stream",
     "text": [
      "X_Train_Shape:(240, 6)\n",
      "y_Train_Shape:(240,)\n",
      "X_Test_Shape:(57, 6)\n",
      "y_Test_Shape:(57,)\n"
     ]
    }
   ],
   "source": [
    "print (\"X_Train_Shape:{}\".format(X_train.shape))\n",
    "print (\"y_Train_Shape:{}\".format(y_train.shape))\n",
    "print (\"X_Test_Shape:{}\".format(X_test.shape))\n",
    "print (\"y_Test_Shape:{}\".format(y_test.shape))"
   ]
  },
  {
   "cell_type": "markdown",
   "metadata": {},
   "source": [
    "### Application of Machine Learning Algorithms"
   ]
  },
  {
   "cell_type": "markdown",
   "metadata": {},
   "source": [
    "### Support Vector Machine"
   ]
  },
  {
   "cell_type": "code",
   "execution_count": 282,
   "metadata": {},
   "outputs": [
    {
     "name": "stdout",
     "output_type": "stream",
     "text": [
      "Accuracy of SVC on training set: 0.86\n",
      "Accuracy of SVC on test set: 0.63\n"
     ]
    }
   ],
   "source": [
    "from sklearn.svm import SVC\n",
    "svc = SVC(random_state=0)\n",
    "svc.fit(X_train, y_train)\n",
    "\n",
    "print('Accuracy of SVC on training set: {:.2f}'\n",
    "     .format(svc.score(X_train, y_train)))\n",
    "print('Accuracy of SVC on test set: {:.2f}'\n",
    "     .format(svc.score(X_test, y_test)))"
   ]
  },
  {
   "cell_type": "code",
   "execution_count": 156,
   "metadata": {},
   "outputs": [
    {
     "name": "stdout",
     "output_type": "stream",
     "text": [
      "[[69  9  2]\n",
      " [ 3 63 14]\n",
      " [ 3  2 75]]\n"
     ]
    }
   ],
   "source": [
    "# Results (Training Set)\n",
    "\n",
    "y_pred_train = svc.predict(X_train)\n",
    "from sklearn.metrics import confusion_matrix\n",
    "confusion_matrix = confusion_matrix(y_train, y_pred_train)\n",
    "print(confusion_matrix)"
   ]
  },
  {
   "cell_type": "code",
   "execution_count": 157,
   "metadata": {},
   "outputs": [
    {
     "name": "stdout",
     "output_type": "stream",
     "text": [
      "              precision    recall  f1-score   support\n",
      "\n",
      "           1       0.92      0.86      0.89        80\n",
      "           2       0.85      0.79      0.82        80\n",
      "           3       0.82      0.94      0.88        80\n",
      "\n",
      "    accuracy                           0.86       240\n",
      "   macro avg       0.87      0.86      0.86       240\n",
      "weighted avg       0.87      0.86      0.86       240\n",
      "\n"
     ]
    }
   ],
   "source": [
    "# Results (Training Set)\n",
    "\n",
    "from sklearn.metrics import classification_report\n",
    "print(classification_report(y_train, y_pred_train))"
   ]
  },
  {
   "cell_type": "code",
   "execution_count": 158,
   "metadata": {},
   "outputs": [
    {
     "name": "stdout",
     "output_type": "stream",
     "text": [
      "[[23  6  1]\n",
      " [ 5 12  7]\n",
      " [ 2  0  1]]\n"
     ]
    }
   ],
   "source": [
    "# Results (Test Set)\n",
    "\n",
    "y_pred = svc.predict(X_test)\n",
    "from sklearn.metrics import confusion_matrix\n",
    "confusion_matrix = confusion_matrix(y_test, y_pred)\n",
    "print(confusion_matrix)"
   ]
  },
  {
   "cell_type": "code",
   "execution_count": 159,
   "metadata": {},
   "outputs": [
    {
     "name": "stdout",
     "output_type": "stream",
     "text": [
      "              precision    recall  f1-score   support\n",
      "\n",
      "           1       0.77      0.77      0.77        30\n",
      "           2       0.67      0.50      0.57        24\n",
      "           3       0.11      0.33      0.17         3\n",
      "\n",
      "    accuracy                           0.63        57\n",
      "   macro avg       0.51      0.53      0.50        57\n",
      "weighted avg       0.69      0.63      0.65        57\n",
      "\n"
     ]
    }
   ],
   "source": [
    "# Results (Test Set)\n",
    "\n",
    "from sklearn.metrics import classification_report\n",
    "print(classification_report(y_test, y_pred))"
   ]
  },
  {
   "cell_type": "markdown",
   "metadata": {},
   "source": [
    "### Naive Bayes"
   ]
  },
  {
   "cell_type": "code",
   "execution_count": 161,
   "metadata": {},
   "outputs": [
    {
     "name": "stdout",
     "output_type": "stream",
     "text": [
      "Accuracy of GNB classifier on training set: 0.62\n",
      "Accuracy of GNB classifier on test set: 0.65\n"
     ]
    }
   ],
   "source": [
    "from sklearn.naive_bayes import GaussianNB\n",
    "\n",
    "gnb = GaussianNB()\n",
    "gnb.fit(X_train, y_train)\n",
    "\n",
    "print('Accuracy of GNB classifier on training set: {:.2f}'\n",
    "     .format(gnb.score(X_train, y_train)))\n",
    "print('Accuracy of GNB classifier on test set: {:.2f}'\n",
    "     .format(gnb.score(X_test, y_test)))"
   ]
  },
  {
   "cell_type": "code",
   "execution_count": 162,
   "metadata": {},
   "outputs": [
    {
     "name": "stdout",
     "output_type": "stream",
     "text": [
      "[[52 14 14]\n",
      " [17 47 16]\n",
      " [16 15 49]]\n"
     ]
    }
   ],
   "source": [
    "# Results (Training Set)\n",
    "\n",
    "y_pred_train = gnb.predict(X_train)\n",
    "from sklearn.metrics import confusion_matrix\n",
    "confusion_matrix = confusion_matrix(y_train, y_pred_train)\n",
    "print(confusion_matrix)"
   ]
  },
  {
   "cell_type": "code",
   "execution_count": 163,
   "metadata": {},
   "outputs": [
    {
     "name": "stdout",
     "output_type": "stream",
     "text": [
      "              precision    recall  f1-score   support\n",
      "\n",
      "           1       0.61      0.65      0.63        80\n",
      "           2       0.62      0.59      0.60        80\n",
      "           3       0.62      0.61      0.62        80\n",
      "\n",
      "    accuracy                           0.62       240\n",
      "   macro avg       0.62      0.62      0.62       240\n",
      "weighted avg       0.62      0.62      0.62       240\n",
      "\n"
     ]
    }
   ],
   "source": [
    "# Results (Training Set)\n",
    "\n",
    "from sklearn.metrics import classification_report\n",
    "print(classification_report(y_train, y_pred_train))"
   ]
  },
  {
   "cell_type": "code",
   "execution_count": 164,
   "metadata": {},
   "outputs": [
    {
     "name": "stdout",
     "output_type": "stream",
     "text": [
      "[[19  7  4]\n",
      " [ 3 17  4]\n",
      " [ 2  0  1]]\n"
     ]
    }
   ],
   "source": [
    "# Results (Test Set)\n",
    "\n",
    "y_pred = gnb.predict(X_test)\n",
    "from sklearn.metrics import confusion_matrix\n",
    "confusion_matrix = confusion_matrix(y_test, y_pred)\n",
    "print(confusion_matrix)"
   ]
  },
  {
   "cell_type": "code",
   "execution_count": 165,
   "metadata": {},
   "outputs": [
    {
     "name": "stdout",
     "output_type": "stream",
     "text": [
      "              precision    recall  f1-score   support\n",
      "\n",
      "           1       0.79      0.63      0.70        30\n",
      "           2       0.71      0.71      0.71        24\n",
      "           3       0.11      0.33      0.17         3\n",
      "\n",
      "    accuracy                           0.65        57\n",
      "   macro avg       0.54      0.56      0.53        57\n",
      "weighted avg       0.72      0.65      0.68        57\n",
      "\n"
     ]
    }
   ],
   "source": [
    "# Results (Test Set)\n",
    "\n",
    "from sklearn.metrics import classification_report\n",
    "print(classification_report(y_test, y_pred))"
   ]
  },
  {
   "cell_type": "markdown",
   "metadata": {},
   "source": [
    "### K-Nearest Neighbor"
   ]
  },
  {
   "cell_type": "code",
   "execution_count": 167,
   "metadata": {},
   "outputs": [
    {
     "name": "stdout",
     "output_type": "stream",
     "text": [
      "Accuracy of K-NN classifier on training set: 0.89\n",
      "Accuracy of K-NN classifier on test set: 0.74\n"
     ]
    }
   ],
   "source": [
    "from sklearn.neighbors import KNeighborsClassifier\n",
    "\n",
    "knn = KNeighborsClassifier()\n",
    "knn.fit(X_train, y_train)\n",
    "\n",
    "print('Accuracy of K-NN classifier on training set: {:.2f}'\n",
    "     .format(knn.score(X_train, y_train)))\n",
    "print('Accuracy of K-NN classifier on test set: {:.2f}'\n",
    "     .format(knn.score(X_test, y_test)))"
   ]
  },
  {
   "cell_type": "code",
   "execution_count": 168,
   "metadata": {},
   "outputs": [
    {
     "name": "stdout",
     "output_type": "stream",
     "text": [
      "[[75  3  2]\n",
      " [ 6 66  8]\n",
      " [ 2  6 72]]\n"
     ]
    }
   ],
   "source": [
    "# Results (Training Set)\n",
    "\n",
    "y_pred_train = knn.predict(X_train)\n",
    "from sklearn.metrics import confusion_matrix\n",
    "confusion_matrix = confusion_matrix(y_train, y_pred_train)\n",
    "print(confusion_matrix)"
   ]
  },
  {
   "cell_type": "code",
   "execution_count": 169,
   "metadata": {},
   "outputs": [
    {
     "name": "stdout",
     "output_type": "stream",
     "text": [
      "              precision    recall  f1-score   support\n",
      "\n",
      "           1       0.90      0.94      0.92        80\n",
      "           2       0.88      0.82      0.85        80\n",
      "           3       0.88      0.90      0.89        80\n",
      "\n",
      "    accuracy                           0.89       240\n",
      "   macro avg       0.89      0.89      0.89       240\n",
      "weighted avg       0.89      0.89      0.89       240\n",
      "\n"
     ]
    }
   ],
   "source": [
    "# Results (Training Set)\n",
    "\n",
    "from sklearn.metrics import classification_report\n",
    "print(classification_report(y_train, y_pred_train))"
   ]
  },
  {
   "cell_type": "code",
   "execution_count": 170,
   "metadata": {},
   "outputs": [
    {
     "name": "stdout",
     "output_type": "stream",
     "text": [
      "[[28  1  1]\n",
      " [ 7 13  4]\n",
      " [ 2  0  1]]\n"
     ]
    }
   ],
   "source": [
    "# Results (Test Set)\n",
    "\n",
    "y_pred = knn.predict(X_test)\n",
    "from sklearn.metrics import confusion_matrix\n",
    "confusion_matrix = confusion_matrix(y_test, y_pred)\n",
    "print(confusion_matrix)"
   ]
  },
  {
   "cell_type": "code",
   "execution_count": 171,
   "metadata": {},
   "outputs": [
    {
     "name": "stdout",
     "output_type": "stream",
     "text": [
      "              precision    recall  f1-score   support\n",
      "\n",
      "           1       0.76      0.93      0.84        30\n",
      "           2       0.93      0.54      0.68        24\n",
      "           3       0.17      0.33      0.22         3\n",
      "\n",
      "    accuracy                           0.74        57\n",
      "   macro avg       0.62      0.60      0.58        57\n",
      "weighted avg       0.80      0.74      0.74        57\n",
      "\n"
     ]
    }
   ],
   "source": [
    "# Results (Test Set)\n",
    "\n",
    "from sklearn.metrics import classification_report\n",
    "print(classification_report(y_test, y_pred))"
   ]
  },
  {
   "cell_type": "markdown",
   "metadata": {},
   "source": [
    "### Random Forest"
   ]
  },
  {
   "cell_type": "code",
   "execution_count": 172,
   "metadata": {},
   "outputs": [
    {
     "name": "stdout",
     "output_type": "stream",
     "text": [
      "Accuracy of RF classifier on training set: 0.98\n",
      "Accuracy of RF classifier on test set: 0.88\n"
     ]
    }
   ],
   "source": [
    "from sklearn.ensemble import RandomForestClassifier\n",
    "from sklearn.datasets import make_classification\n",
    "RF = RandomForestClassifier(random_state=0)\n",
    "RF.fit(X_train, y_train)\n",
    "\n",
    "print('Accuracy of RF classifier on training set: {:.2f}'\n",
    "     .format(RF.score(X_train, y_train)))\n",
    "print('Accuracy of RF classifier on test set: {:.2f}'\n",
    "     .format(RF.score(X_test, y_test)))"
   ]
  },
  {
   "cell_type": "code",
   "execution_count": 173,
   "metadata": {},
   "outputs": [
    {
     "name": "stdout",
     "output_type": "stream",
     "text": [
      "[[80  0  0]\n",
      " [ 1 79  0]\n",
      " [ 0  3 77]]\n"
     ]
    }
   ],
   "source": [
    "# Results (Training Set)\n",
    "\n",
    "y_pred_train = RF.predict(X_train)\n",
    "from sklearn.metrics import confusion_matrix\n",
    "confusion_matrix = confusion_matrix(y_train, y_pred_train)\n",
    "print(confusion_matrix)"
   ]
  },
  {
   "cell_type": "code",
   "execution_count": 174,
   "metadata": {},
   "outputs": [
    {
     "name": "stdout",
     "output_type": "stream",
     "text": [
      "              precision    recall  f1-score   support\n",
      "\n",
      "           1       0.99      1.00      0.99        80\n",
      "           2       0.96      0.99      0.98        80\n",
      "           3       1.00      0.96      0.98        80\n",
      "\n",
      "    accuracy                           0.98       240\n",
      "   macro avg       0.98      0.98      0.98       240\n",
      "weighted avg       0.98      0.98      0.98       240\n",
      "\n"
     ]
    }
   ],
   "source": [
    "# Results (Training Set)\n",
    "\n",
    "from sklearn.metrics import classification_report\n",
    "print(classification_report(y_train, y_pred_train))"
   ]
  },
  {
   "cell_type": "code",
   "execution_count": 175,
   "metadata": {},
   "outputs": [
    {
     "name": "stdout",
     "output_type": "stream",
     "text": [
      "[[30  0  0]\n",
      " [ 5 19  0]\n",
      " [ 2  0  1]]\n"
     ]
    }
   ],
   "source": [
    "# Results (Test Set)\n",
    "\n",
    "y_pred = RF.predict(X_test)\n",
    "from sklearn.metrics import confusion_matrix\n",
    "confusion_matrix = confusion_matrix(y_test, y_pred)\n",
    "print(confusion_matrix)"
   ]
  },
  {
   "cell_type": "code",
   "execution_count": 176,
   "metadata": {},
   "outputs": [
    {
     "name": "stdout",
     "output_type": "stream",
     "text": [
      "              precision    recall  f1-score   support\n",
      "\n",
      "           1       0.81      1.00      0.90        30\n",
      "           2       1.00      0.79      0.88        24\n",
      "           3       1.00      0.33      0.50         3\n",
      "\n",
      "    accuracy                           0.88        57\n",
      "   macro avg       0.94      0.71      0.76        57\n",
      "weighted avg       0.90      0.88      0.87        57\n",
      "\n"
     ]
    }
   ],
   "source": [
    "# Results (Test Set)\n",
    "\n",
    "from sklearn.metrics import classification_report\n",
    "print(classification_report(y_test, y_pred))"
   ]
  },
  {
   "cell_type": "markdown",
   "metadata": {},
   "source": [
    "### Decision Tree"
   ]
  },
  {
   "cell_type": "code",
   "execution_count": 181,
   "metadata": {},
   "outputs": [
    {
     "name": "stdout",
     "output_type": "stream",
     "text": [
      "Accuracy of Decision Tree classifier on training set: 0.98\n",
      "Accuracy of Decision Tree classifier on test set: 0.91\n"
     ]
    }
   ],
   "source": [
    "from sklearn.tree import DecisionTreeClassifier\n",
    "clf = DecisionTreeClassifier(random_state=0)\n",
    "clf.fit(X_train, y_train)\n",
    "\n",
    "print('Accuracy of Decision Tree classifier on training set: {:.2f}'\n",
    "     .format(clf.score(X_train, y_train)))\n",
    "print('Accuracy of Decision Tree classifier on test set: {:.2f}'\n",
    "     .format(clf.score(X_test, y_test)))"
   ]
  },
  {
   "cell_type": "code",
   "execution_count": 182,
   "metadata": {},
   "outputs": [
    {
     "name": "stdout",
     "output_type": "stream",
     "text": [
      "[[80  0  0]\n",
      " [ 1 79  0]\n",
      " [ 0  3 77]]\n"
     ]
    }
   ],
   "source": [
    "# Results (Training Set)\n",
    "\n",
    "y_pred_train = clf.predict(X_train)\n",
    "from sklearn.metrics import confusion_matrix\n",
    "confusion_matrix = confusion_matrix(y_train, y_pred_train)\n",
    "print(confusion_matrix)"
   ]
  },
  {
   "cell_type": "code",
   "execution_count": 183,
   "metadata": {},
   "outputs": [
    {
     "name": "stdout",
     "output_type": "stream",
     "text": [
      "              precision    recall  f1-score   support\n",
      "\n",
      "           1       0.99      1.00      0.99        80\n",
      "           2       0.96      0.99      0.98        80\n",
      "           3       1.00      0.96      0.98        80\n",
      "\n",
      "    accuracy                           0.98       240\n",
      "   macro avg       0.98      0.98      0.98       240\n",
      "weighted avg       0.98      0.98      0.98       240\n",
      "\n"
     ]
    }
   ],
   "source": [
    "# Results (Training Set)\n",
    "\n",
    "from sklearn.metrics import classification_report\n",
    "print(classification_report(y_train, y_pred_train))"
   ]
  },
  {
   "cell_type": "code",
   "execution_count": 184,
   "metadata": {},
   "outputs": [
    {
     "name": "stdout",
     "output_type": "stream",
     "text": [
      "[[30  0  0]\n",
      " [ 2 21  1]\n",
      " [ 2  0  1]]\n"
     ]
    }
   ],
   "source": [
    "# Results (Test Set)\n",
    "\n",
    "y_pred = clf.predict(X_test)\n",
    "from sklearn.metrics import confusion_matrix\n",
    "confusion_matrix = confusion_matrix(y_test, y_pred)\n",
    "print(confusion_matrix)"
   ]
  },
  {
   "cell_type": "code",
   "execution_count": 185,
   "metadata": {},
   "outputs": [
    {
     "name": "stdout",
     "output_type": "stream",
     "text": [
      "              precision    recall  f1-score   support\n",
      "\n",
      "           1       0.88      1.00      0.94        30\n",
      "           2       1.00      0.88      0.93        24\n",
      "           3       0.50      0.33      0.40         3\n",
      "\n",
      "    accuracy                           0.91        57\n",
      "   macro avg       0.79      0.74      0.76        57\n",
      "weighted avg       0.91      0.91      0.91        57\n",
      "\n"
     ]
    }
   ],
   "source": [
    "# Results (Test Set)\n",
    "\n",
    "from sklearn.metrics import classification_report\n",
    "print(classification_report(y_test, y_pred))"
   ]
  },
  {
   "cell_type": "code",
   "execution_count": 47,
   "metadata": {},
   "outputs": [
    {
     "name": "stdout",
     "output_type": "stream",
     "text": [
      "[0.26315789 0.15438596 0.11929825 0.06315789 0.24210526 0.0245614 ]\n"
     ]
    }
   ],
   "source": [
    "from mlxtend.evaluate import feature_importance_permutation\n",
    "\n",
    "imp_vals, feature =feature_importance_permutation(predict_method=clf.predict,X=X_test,y=y_test,metric='accuracy',\n",
    "    num_rounds=5,seed=2)\n",
    "print(imp_vals)"
   ]
  },
  {
   "cell_type": "code",
   "execution_count": 264,
   "metadata": {},
   "outputs": [
    {
     "data": {
      "image/png": "[encoded data removed]",
      "text/plain": [
       "<Figure size 432x288 with 1 Axes>"
      ]
     },
     "metadata": {},
     "output_type": "display_data"
    }
   ],
   "source": [
    "features = list(X.columns.values)\n",
    "\n",
    "importances = imp_vals\n",
    "import numpy as np\n",
    "indices = np.argsort(importances)\n",
    "\n",
    "plt.title('Feature Importances')\n",
    "plt.barh(range(len(indices)), importances[indices], color='g', align='center')\n",
    "plt.yticks(range(len(indices)), [features[i] for i in indices])\n",
    "plt.xlabel('Relative Importance')\n",
    "plt.grid(b=None)\n",
    "plt.show()"
   ]
  },
  {
   "cell_type": "markdown",
   "metadata": {},
   "source": [
    "### Post pruning Decision Tree with Cost Complexity Pruning"
   ]
  },
  {
   "cell_type": "code",
   "execution_count": 273,
   "metadata": {},
   "outputs": [
    {
     "name": "stdout",
     "output_type": "stream",
     "text": [
      "Number of nodes in the last tree is: 1 with ccp_alpha: 0.10934083099031566 and a depth of: 0\n"
     ]
    }
   ],
   "source": [
    "path = clf.cost_complexity_pruning_path(X_train, y_train)\n",
    "ccp_alphas, impurities = path.ccp_alphas, path.impurities\n",
    "\n",
    "clfs = []\n",
    "for ccp_alpha in ccp_alphas:\n",
    "    clf = DecisionTreeClassifier(random_state=0, ccp_alpha=ccp_alpha)\n",
    "    clf.fit(X_train, y_train)\n",
    "    clfs.append(clf)\n",
    "print(\"Number of nodes in the last tree is: {} with ccp_alpha: {} and a depth of: {}\".format(\n",
    "clfs[-1].tree_.node_count, ccp_alphas[-1],clfs[-1].tree_.max_depth))"
   ]
  },
  {
   "cell_type": "code",
   "execution_count": 292,
   "metadata": {},
   "outputs": [
    {
     "data": {
      "image/png": "[encoded data removed]",
      "text/plain": [
       "<Figure size 576x360 with 1 Axes>"
      ]
     },
     "metadata": {},
     "output_type": "display_data"
    }
   ],
   "source": [
    "train_scores = [clf.score(X_train, y_train) for clf in clfs]\n",
    "test_scores = [clf.score(X_test, y_test) for clf in clfs]\n",
    "\n",
    "plt.style.use('seaborn-white')\n",
    "\n",
    "#leg = plt.legend()\n",
    "#leg.get_frame().set_edgecolor('Black')\n",
    "#plt.grid(b=None)\n",
    "fig, ax = plt.subplots(figsize=(8, 5))\n",
    "ax.set_xlabel(\"ccp_alpha\", fontweight='bold', fontsize='large')\n",
    "ax.set_ylabel(\"Accuracy\", fontweight='bold', fontsize='large')\n",
    "#ax.set_title(\"Accuracy vs ccp_alpha for training and testing sets\")\n",
    "ax.plot(ccp_alphas, train_scores, marker='o', label=\"Train_set\",\n",
    "        drawstyle=\"steps-post\")\n",
    "ax.plot(ccp_alphas, test_scores, marker='o', label=\"Test_set\",\n",
    "        drawstyle=\"steps-post\")\n",
    "#ax.set_ylim([0.65, 1])\n",
    "ax.legend()\n",
    "\n",
    "plt.savefig('/Users/mkabir4/Desktop/DT_Prun.png', bbox_inches='tight', dpi=100, edgecolor='b')\n",
    "plt.show()"
   ]
  },
  {
   "cell_type": "markdown",
   "metadata": {},
   "source": [
    "### XGBoost"
   ]
  },
  {
   "cell_type": "code",
   "execution_count": 193,
   "metadata": {},
   "outputs": [
    {
     "name": "stdout",
     "output_type": "stream",
     "text": [
      "Accuracy of XGB classifier on training set: 0.98\n",
      "Accuracy of XGB classifier on test set: 0.82\n"
     ]
    }
   ],
   "source": [
    "from xgboost import XGBClassifier\n",
    "from sklearn.datasets import make_classification\n",
    "\n",
    "XGB = XGBClassifier(random_state=0)\n",
    "XGB.fit(X_train, y_train)\n",
    "print('Accuracy of XGB classifier on training set: {:.2f}'\n",
    "     .format(XGB.score(X_train, y_train)))\n",
    "print('Accuracy of XGB classifier on test set: {:.2f}'\n",
    "     .format(XGB.score(X_test, y_test)))"
   ]
  },
  {
   "cell_type": "code",
   "execution_count": 194,
   "metadata": {},
   "outputs": [
    {
     "name": "stdout",
     "output_type": "stream",
     "text": [
      "[[80  0  0]\n",
      " [ 1 79  0]\n",
      " [ 0  3 77]]\n"
     ]
    }
   ],
   "source": [
    "# Results (Training Set)\n",
    "\n",
    "y_pred_train = XGB.predict(X_train)\n",
    "from sklearn.metrics import confusion_matrix\n",
    "confusion_matrix = confusion_matrix(y_train, y_pred_train)\n",
    "print(confusion_matrix)"
   ]
  },
  {
   "cell_type": "code",
   "execution_count": 195,
   "metadata": {},
   "outputs": [
    {
     "name": "stdout",
     "output_type": "stream",
     "text": [
      "              precision    recall  f1-score   support\n",
      "\n",
      "           1       0.99      1.00      0.99        80\n",
      "           2       0.96      0.99      0.98        80\n",
      "           3       1.00      0.96      0.98        80\n",
      "\n",
      "    accuracy                           0.98       240\n",
      "   macro avg       0.98      0.98      0.98       240\n",
      "weighted avg       0.98      0.98      0.98       240\n",
      "\n"
     ]
    }
   ],
   "source": [
    "# Results (Training Set)\n",
    "\n",
    "from sklearn.metrics import classification_report\n",
    "print(classification_report(y_train, y_pred_train))"
   ]
  },
  {
   "cell_type": "code",
   "execution_count": 196,
   "metadata": {},
   "outputs": [
    {
     "name": "stdout",
     "output_type": "stream",
     "text": [
      "[[28  0  2]\n",
      " [ 5 18  1]\n",
      " [ 2  0  1]]\n"
     ]
    }
   ],
   "source": [
    "# Results (Test Set)\n",
    "\n",
    "y_pred = XGB.predict(X_test)\n",
    "from sklearn.metrics import confusion_matrix\n",
    "confusion_matrix = confusion_matrix(y_test, y_pred)\n",
    "print(confusion_matrix)"
   ]
  },
  {
   "cell_type": "code",
   "execution_count": 197,
   "metadata": {},
   "outputs": [
    {
     "name": "stdout",
     "output_type": "stream",
     "text": [
      "              precision    recall  f1-score   support\n",
      "\n",
      "           1       0.80      0.93      0.86        30\n",
      "           2       1.00      0.75      0.86        24\n",
      "           3       0.25      0.33      0.29         3\n",
      "\n",
      "    accuracy                           0.82        57\n",
      "   macro avg       0.68      0.67      0.67        57\n",
      "weighted avg       0.86      0.82      0.83        57\n",
      "\n"
     ]
    }
   ],
   "source": [
    "# Results (Test Set)\n",
    "\n",
    "from sklearn.metrics import classification_report\n",
    "print(classification_report(y_test, y_pred))"
   ]
  },
  {
   "cell_type": "markdown",
   "metadata": {},
   "source": [
    "### Light GBM"
   ]
  },
  {
   "cell_type": "code",
   "execution_count": 198,
   "metadata": {},
   "outputs": [
    {
     "name": "stdout",
     "output_type": "stream",
     "text": [
      "Accuracy of LGB classifier on training set: 0.96\n",
      "Accuracy of LGB classifier on test set: 0.79\n"
     ]
    }
   ],
   "source": [
    "from lightgbm import LGBMClassifier\n",
    "from sklearn.datasets import make_classification\n",
    "\n",
    "LGB = LGBMClassifier(random_state=0)\n",
    "LGB.fit(X_train, y_train)\n",
    "print('Accuracy of LGB classifier on training set: {:.2f}'\n",
    "     .format(LGB.score(X_train, y_train)))\n",
    "print('Accuracy of LGB classifier on test set: {:.2f}'\n",
    "     .format(LGB.score(X_test, y_test)))"
   ]
  },
  {
   "cell_type": "code",
   "execution_count": 199,
   "metadata": {},
   "outputs": [
    {
     "name": "stdout",
     "output_type": "stream",
     "text": [
      "[[79  1  0]\n",
      " [ 1 76  3]\n",
      " [ 0  4 76]]\n"
     ]
    }
   ],
   "source": [
    "# Results (Training Set)\n",
    "\n",
    "y_pred_train = LGB.predict(X_train)\n",
    "from sklearn.metrics import confusion_matrix\n",
    "confusion_matrix = confusion_matrix(y_train, y_pred_train)\n",
    "print(confusion_matrix)"
   ]
  },
  {
   "cell_type": "code",
   "execution_count": 200,
   "metadata": {},
   "outputs": [
    {
     "name": "stdout",
     "output_type": "stream",
     "text": [
      "              precision    recall  f1-score   support\n",
      "\n",
      "           1       0.99      0.99      0.99        80\n",
      "           2       0.94      0.95      0.94        80\n",
      "           3       0.96      0.95      0.96        80\n",
      "\n",
      "    accuracy                           0.96       240\n",
      "   macro avg       0.96      0.96      0.96       240\n",
      "weighted avg       0.96      0.96      0.96       240\n",
      "\n"
     ]
    }
   ],
   "source": [
    "# Results (Training Set)\n",
    "\n",
    "from sklearn.metrics import classification_report\n",
    "print(classification_report(y_train, y_pred_train))"
   ]
  },
  {
   "cell_type": "code",
   "execution_count": 201,
   "metadata": {},
   "outputs": [
    {
     "name": "stdout",
     "output_type": "stream",
     "text": [
      "[[28  0  2]\n",
      " [ 5 16  3]\n",
      " [ 2  0  1]]\n"
     ]
    }
   ],
   "source": [
    "# Results (Test Set)\n",
    "\n",
    "y_pred = LGB.predict(X_test)\n",
    "from sklearn.metrics import confusion_matrix\n",
    "confusion_matrix = confusion_matrix(y_test, y_pred)\n",
    "print(confusion_matrix)"
   ]
  },
  {
   "cell_type": "code",
   "execution_count": 202,
   "metadata": {},
   "outputs": [
    {
     "name": "stdout",
     "output_type": "stream",
     "text": [
      "              precision    recall  f1-score   support\n",
      "\n",
      "           1       0.80      0.93      0.86        30\n",
      "           2       1.00      0.67      0.80        24\n",
      "           3       0.17      0.33      0.22         3\n",
      "\n",
      "    accuracy                           0.79        57\n",
      "   macro avg       0.66      0.64      0.63        57\n",
      "weighted avg       0.85      0.79      0.80        57\n",
      "\n"
     ]
    }
   ],
   "source": [
    "# Results (Test Set)\n",
    "\n",
    "from sklearn.metrics import classification_report\n",
    "print(classification_report(y_test, y_pred))"
   ]
  },
  {
   "cell_type": "markdown",
   "metadata": {},
   "source": [
    "### AdaBoost"
   ]
  },
  {
   "cell_type": "code",
   "execution_count": 203,
   "metadata": {},
   "outputs": [
    {
     "name": "stdout",
     "output_type": "stream",
     "text": [
      "Accuracy of ADB classifier on training set: 0.87\n",
      "Accuracy of ADB classifier on test set: 0.75\n"
     ]
    }
   ],
   "source": [
    "from sklearn.ensemble import AdaBoostClassifier\n",
    "from sklearn.datasets import make_classification\n",
    "\n",
    "ADB = AdaBoostClassifier(random_state=0)\n",
    "ADB.fit(X_train, y_train)\n",
    "\n",
    "print('Accuracy of ADB classifier on training set: {:.2f}'\n",
    "     .format(ADB.score(X_train, y_train)))\n",
    "print('Accuracy of ADB classifier on test set: {:.2f}'\n",
    "     .format(ADB.score(X_test, y_test)))"
   ]
  },
  {
   "cell_type": "code",
   "execution_count": 204,
   "metadata": {},
   "outputs": [
    {
     "name": "stdout",
     "output_type": "stream",
     "text": [
      "[[74  6  0]\n",
      " [ 9 64  7]\n",
      " [ 0  9 71]]\n"
     ]
    }
   ],
   "source": [
    "# Results (Training Set)\n",
    "\n",
    "y_pred_train = ADB.predict(X_train)\n",
    "from sklearn.metrics import confusion_matrix\n",
    "confusion_matrix = confusion_matrix(y_train, y_pred_train)\n",
    "print(confusion_matrix)"
   ]
  },
  {
   "cell_type": "code",
   "execution_count": 205,
   "metadata": {},
   "outputs": [
    {
     "name": "stdout",
     "output_type": "stream",
     "text": [
      "              precision    recall  f1-score   support\n",
      "\n",
      "           1       0.89      0.93      0.91        80\n",
      "           2       0.81      0.80      0.81        80\n",
      "           3       0.91      0.89      0.90        80\n",
      "\n",
      "    accuracy                           0.87       240\n",
      "   macro avg       0.87      0.87      0.87       240\n",
      "weighted avg       0.87      0.87      0.87       240\n",
      "\n"
     ]
    }
   ],
   "source": [
    "# Results (Training Set)\n",
    "\n",
    "from sklearn.metrics import classification_report\n",
    "print(classification_report(y_train, y_pred_train))"
   ]
  },
  {
   "cell_type": "code",
   "execution_count": 206,
   "metadata": {},
   "outputs": [
    {
     "name": "stdout",
     "output_type": "stream",
     "text": [
      "[[27  2  1]\n",
      " [ 6 15  3]\n",
      " [ 2  0  1]]\n"
     ]
    }
   ],
   "source": [
    "# Results (Test Set)\n",
    "\n",
    "y_pred = ADB.predict(X_test)\n",
    "from sklearn.metrics import confusion_matrix\n",
    "confusion_matrix = confusion_matrix(y_test, y_pred)\n",
    "print(confusion_matrix)"
   ]
  },
  {
   "cell_type": "code",
   "execution_count": 207,
   "metadata": {},
   "outputs": [
    {
     "name": "stdout",
     "output_type": "stream",
     "text": [
      "              precision    recall  f1-score   support\n",
      "\n",
      "           1       0.77      0.90      0.83        30\n",
      "           2       0.88      0.62      0.73        24\n",
      "           3       0.20      0.33      0.25         3\n",
      "\n",
      "    accuracy                           0.75        57\n",
      "   macro avg       0.62      0.62      0.60        57\n",
      "weighted avg       0.79      0.75      0.76        57\n",
      "\n"
     ]
    }
   ],
   "source": [
    "# Results (Test Set)\n",
    "\n",
    "from sklearn.metrics import classification_report\n",
    "print(classification_report(y_test, y_pred))"
   ]
  },
  {
   "cell_type": "markdown",
   "metadata": {},
   "source": [
    "### CatBoost"
   ]
  },
  {
   "cell_type": "code",
   "execution_count": 208,
   "metadata": {},
   "outputs": [
    {
     "name": "stdout",
     "output_type": "stream",
     "text": [
      "Learning rate set to 0.073572\n",
      "0:\tlearn: 1.0559167\ttotal: 2.28ms\tremaining: 2.28s\n",
      "1:\tlearn: 1.0103864\ttotal: 3.73ms\tremaining: 1.86s\n",
      "2:\tlearn: 0.9639706\ttotal: 4.7ms\tremaining: 1.56s\n",
      "3:\tlearn: 0.9268410\ttotal: 5.72ms\tremaining: 1.42s\n",
      "4:\tlearn: 0.8872101\ttotal: 6.69ms\tremaining: 1.33s\n",
      "5:\tlearn: 0.8585839\ttotal: 7.67ms\tremaining: 1.27s\n",
      "6:\tlearn: 0.8292464\ttotal: 8.74ms\tremaining: 1.24s\n",
      "7:\tlearn: 0.7983269\ttotal: 9.79ms\tremaining: 1.21s\n",
      "8:\tlearn: 0.7769367\ttotal: 10.9ms\tremaining: 1.2s\n",
      "9:\tlearn: 0.7567343\ttotal: 12ms\tremaining: 1.19s\n",
      "10:\tlearn: 0.7368559\ttotal: 13ms\tremaining: 1.17s\n",
      "11:\tlearn: 0.7139441\ttotal: 14ms\tremaining: 1.16s\n",
      "12:\tlearn: 0.6907944\ttotal: 15ms\tremaining: 1.14s\n",
      "13:\tlearn: 0.6738423\ttotal: 16.1ms\tremaining: 1.13s\n",
      "14:\tlearn: 0.6560425\ttotal: 17.1ms\tremaining: 1.12s\n",
      "15:\tlearn: 0.6373905\ttotal: 18.2ms\tremaining: 1.12s\n",
      "16:\tlearn: 0.6227333\ttotal: 19.1ms\tremaining: 1.1s\n",
      "17:\tlearn: 0.6140651\ttotal: 19.6ms\tremaining: 1.07s\n",
      "18:\tlearn: 0.6017828\ttotal: 20.7ms\tremaining: 1.07s\n",
      "19:\tlearn: 0.5887642\ttotal: 21.6ms\tremaining: 1.06s\n",
      "20:\tlearn: 0.5735291\ttotal: 22.6ms\tremaining: 1.05s\n",
      "21:\tlearn: 0.5608536\ttotal: 23.5ms\tremaining: 1.05s\n",
      "22:\tlearn: 0.5481709\ttotal: 24.5ms\tremaining: 1.04s\n",
      "23:\tlearn: 0.5380399\ttotal: 25.4ms\tremaining: 1.03s\n",
      "24:\tlearn: 0.5243419\ttotal: 26.3ms\tremaining: 1.03s\n",
      "25:\tlearn: 0.5138643\ttotal: 27.4ms\tremaining: 1.03s\n",
      "26:\tlearn: 0.5046307\ttotal: 28.7ms\tremaining: 1.03s\n",
      "27:\tlearn: 0.4955803\ttotal: 29.8ms\tremaining: 1.03s\n",
      "28:\tlearn: 0.4883807\ttotal: 31.3ms\tremaining: 1.05s\n",
      "29:\tlearn: 0.4803753\ttotal: 32.6ms\tremaining: 1.05s\n",
      "30:\tlearn: 0.4711373\ttotal: 33.6ms\tremaining: 1.05s\n",
      "31:\tlearn: 0.4622371\ttotal: 34.7ms\tremaining: 1.05s\n",
      "32:\tlearn: 0.4544791\ttotal: 35.7ms\tremaining: 1.04s\n",
      "33:\tlearn: 0.4468614\ttotal: 36.6ms\tremaining: 1.04s\n",
      "34:\tlearn: 0.4403141\ttotal: 37.6ms\tremaining: 1.03s\n",
      "35:\tlearn: 0.4343605\ttotal: 38.6ms\tremaining: 1.03s\n",
      "36:\tlearn: 0.4267528\ttotal: 39.8ms\tremaining: 1.04s\n",
      "37:\tlearn: 0.4187288\ttotal: 40.8ms\tremaining: 1.03s\n",
      "38:\tlearn: 0.4124927\ttotal: 41.8ms\tremaining: 1.03s\n",
      "39:\tlearn: 0.4048987\ttotal: 42.8ms\tremaining: 1.03s\n",
      "40:\tlearn: 0.4002757\ttotal: 43.8ms\tremaining: 1.02s\n",
      "41:\tlearn: 0.3951246\ttotal: 44.9ms\tremaining: 1.02s\n",
      "42:\tlearn: 0.3895961\ttotal: 45.9ms\tremaining: 1.02s\n",
      "43:\tlearn: 0.3833850\ttotal: 46.9ms\tremaining: 1.02s\n",
      "44:\tlearn: 0.3776894\ttotal: 48ms\tremaining: 1.02s\n",
      "45:\tlearn: 0.3732577\ttotal: 49.2ms\tremaining: 1.02s\n",
      "46:\tlearn: 0.3674140\ttotal: 50.2ms\tremaining: 1.02s\n",
      "47:\tlearn: 0.3643716\ttotal: 51.3ms\tremaining: 1.02s\n",
      "48:\tlearn: 0.3595260\ttotal: 52.4ms\tremaining: 1.02s\n",
      "49:\tlearn: 0.3554270\ttotal: 53.5ms\tremaining: 1.02s\n",
      "50:\tlearn: 0.3505110\ttotal: 54.5ms\tremaining: 1.01s\n",
      "51:\tlearn: 0.3469957\ttotal: 55.5ms\tremaining: 1.01s\n",
      "52:\tlearn: 0.3435103\ttotal: 56.4ms\tremaining: 1.01s\n",
      "53:\tlearn: 0.3398637\ttotal: 57.6ms\tremaining: 1.01s\n",
      "54:\tlearn: 0.3357553\ttotal: 58.7ms\tremaining: 1.01s\n",
      "55:\tlearn: 0.3310236\ttotal: 59.7ms\tremaining: 1.01s\n",
      "56:\tlearn: 0.3271559\ttotal: 60.7ms\tremaining: 1s\n",
      "57:\tlearn: 0.3237616\ttotal: 61.7ms\tremaining: 1s\n",
      "58:\tlearn: 0.3203987\ttotal: 62.8ms\tremaining: 1s\n",
      "59:\tlearn: 0.3164385\ttotal: 63.8ms\tremaining: 1000ms\n",
      "60:\tlearn: 0.3133586\ttotal: 64.8ms\tremaining: 997ms\n",
      "61:\tlearn: 0.3096643\ttotal: 65.8ms\tremaining: 995ms\n",
      "62:\tlearn: 0.3070229\ttotal: 66.8ms\tremaining: 994ms\n",
      "63:\tlearn: 0.3040903\ttotal: 67.8ms\tremaining: 992ms\n",
      "64:\tlearn: 0.3008300\ttotal: 68.8ms\tremaining: 990ms\n",
      "65:\tlearn: 0.2971880\ttotal: 69.7ms\tremaining: 987ms\n",
      "66:\tlearn: 0.2922899\ttotal: 70.7ms\tremaining: 984ms\n",
      "67:\tlearn: 0.2897248\ttotal: 71.7ms\tremaining: 982ms\n",
      "68:\tlearn: 0.2873479\ttotal: 72.6ms\tremaining: 979ms\n",
      "69:\tlearn: 0.2844067\ttotal: 73.5ms\tremaining: 976ms\n",
      "70:\tlearn: 0.2825583\ttotal: 74.4ms\tremaining: 973ms\n",
      "71:\tlearn: 0.2807241\ttotal: 75.3ms\tremaining: 971ms\n",
      "72:\tlearn: 0.2790393\ttotal: 76.3ms\tremaining: 969ms\n",
      "73:\tlearn: 0.2763964\ttotal: 77.2ms\tremaining: 967ms\n",
      "74:\tlearn: 0.2745152\ttotal: 78.3ms\tremaining: 965ms\n",
      "75:\tlearn: 0.2720578\ttotal: 79.1ms\tremaining: 962ms\n",
      "76:\tlearn: 0.2697909\ttotal: 80ms\tremaining: 959ms\n",
      "77:\tlearn: 0.2670766\ttotal: 81ms\tremaining: 958ms\n",
      "78:\tlearn: 0.2652188\ttotal: 81.9ms\tremaining: 955ms\n",
      "79:\tlearn: 0.2624646\ttotal: 82.8ms\tremaining: 953ms\n",
      "80:\tlearn: 0.2599622\ttotal: 83.8ms\tremaining: 951ms\n",
      "81:\tlearn: 0.2568535\ttotal: 84.9ms\tremaining: 951ms\n",
      "82:\tlearn: 0.2552383\ttotal: 85.9ms\tremaining: 949ms\n",
      "83:\tlearn: 0.2527456\ttotal: 86.8ms\tremaining: 947ms\n",
      "84:\tlearn: 0.2506320\ttotal: 87.8ms\tremaining: 945ms\n",
      "85:\tlearn: 0.2485715\ttotal: 88.8ms\tremaining: 944ms\n",
      "86:\tlearn: 0.2467181\ttotal: 89.9ms\tremaining: 944ms\n",
      "87:\tlearn: 0.2443378\ttotal: 90.9ms\tremaining: 942ms\n",
      "88:\tlearn: 0.2422842\ttotal: 92ms\tremaining: 941ms\n",
      "89:\tlearn: 0.2409028\ttotal: 92.9ms\tremaining: 939ms\n",
      "90:\tlearn: 0.2390651\ttotal: 94ms\tremaining: 939ms\n",
      "91:\tlearn: 0.2366960\ttotal: 95.3ms\tremaining: 940ms\n",
      "92:\tlearn: 0.2357493\ttotal: 96.2ms\tremaining: 938ms\n",
      "93:\tlearn: 0.2349063\ttotal: 97.1ms\tremaining: 936ms\n",
      "94:\tlearn: 0.2333281\ttotal: 97.9ms\tremaining: 933ms\n",
      "95:\tlearn: 0.2310719\ttotal: 98.8ms\tremaining: 930ms\n",
      "96:\tlearn: 0.2283831\ttotal: 99.6ms\tremaining: 927ms\n",
      "97:\tlearn: 0.2266054\ttotal: 101ms\tremaining: 928ms\n",
      "98:\tlearn: 0.2244115\ttotal: 102ms\tremaining: 928ms\n",
      "99:\tlearn: 0.2219224\ttotal: 103ms\tremaining: 926ms\n",
      "100:\tlearn: 0.2195942\ttotal: 104ms\tremaining: 924ms\n",
      "101:\tlearn: 0.2184590\ttotal: 105ms\tremaining: 922ms\n",
      "102:\tlearn: 0.2168870\ttotal: 106ms\tremaining: 920ms\n",
      "103:\tlearn: 0.2150127\ttotal: 107ms\tremaining: 919ms\n",
      "104:\tlearn: 0.2138929\ttotal: 108ms\tremaining: 918ms\n",
      "105:\tlearn: 0.2131645\ttotal: 108ms\tremaining: 913ms\n",
      "106:\tlearn: 0.2106243\ttotal: 109ms\tremaining: 912ms\n",
      "107:\tlearn: 0.2085343\ttotal: 112ms\tremaining: 923ms\n",
      "108:\tlearn: 0.2072385\ttotal: 113ms\tremaining: 921ms\n",
      "109:\tlearn: 0.2058411\ttotal: 114ms\tremaining: 919ms\n",
      "110:\tlearn: 0.2041661\ttotal: 115ms\tremaining: 917ms\n",
      "111:\tlearn: 0.2031640\ttotal: 115ms\tremaining: 915ms\n",
      "112:\tlearn: 0.2012396\ttotal: 116ms\tremaining: 914ms\n",
      "113:\tlearn: 0.1995787\ttotal: 118ms\tremaining: 915ms\n",
      "114:\tlearn: 0.1981707\ttotal: 119ms\tremaining: 913ms\n",
      "115:\tlearn: 0.1965581\ttotal: 120ms\tremaining: 911ms\n",
      "116:\tlearn: 0.1951114\ttotal: 120ms\tremaining: 909ms\n",
      "117:\tlearn: 0.1942361\ttotal: 121ms\tremaining: 907ms\n",
      "118:\tlearn: 0.1923453\ttotal: 122ms\tremaining: 904ms\n",
      "119:\tlearn: 0.1908622\ttotal: 123ms\tremaining: 902ms\n",
      "120:\tlearn: 0.1902433\ttotal: 124ms\tremaining: 900ms\n",
      "121:\tlearn: 0.1888980\ttotal: 125ms\tremaining: 898ms\n",
      "122:\tlearn: 0.1880750\ttotal: 126ms\tremaining: 897ms\n",
      "123:\tlearn: 0.1868305\ttotal: 127ms\tremaining: 895ms\n",
      "124:\tlearn: 0.1849171\ttotal: 128ms\tremaining: 893ms\n",
      "125:\tlearn: 0.1844802\ttotal: 128ms\tremaining: 891ms\n",
      "126:\tlearn: 0.1832592\ttotal: 129ms\tremaining: 889ms\n",
      "127:\tlearn: 0.1820290\ttotal: 130ms\tremaining: 886ms\n",
      "128:\tlearn: 0.1807503\ttotal: 131ms\tremaining: 884ms\n",
      "129:\tlearn: 0.1800434\ttotal: 132ms\tremaining: 882ms\n",
      "130:\tlearn: 0.1794156\ttotal: 133ms\tremaining: 880ms\n",
      "131:\tlearn: 0.1785624\ttotal: 133ms\tremaining: 878ms\n",
      "132:\tlearn: 0.1774527\ttotal: 134ms\tremaining: 875ms\n",
      "133:\tlearn: 0.1766876\ttotal: 135ms\tremaining: 873ms\n",
      "134:\tlearn: 0.1754117\ttotal: 136ms\tremaining: 871ms\n",
      "135:\tlearn: 0.1744243\ttotal: 137ms\tremaining: 868ms\n",
      "136:\tlearn: 0.1737833\ttotal: 138ms\tremaining: 867ms\n",
      "137:\tlearn: 0.1733281\ttotal: 138ms\tremaining: 865ms\n",
      "138:\tlearn: 0.1721916\ttotal: 139ms\tremaining: 864ms\n",
      "139:\tlearn: 0.1713743\ttotal: 140ms\tremaining: 862ms\n",
      "140:\tlearn: 0.1702218\ttotal: 141ms\tremaining: 860ms\n",
      "141:\tlearn: 0.1696301\ttotal: 142ms\tremaining: 858ms\n",
      "142:\tlearn: 0.1682594\ttotal: 143ms\tremaining: 856ms\n",
      "143:\tlearn: 0.1674618\ttotal: 144ms\tremaining: 854ms\n",
      "144:\tlearn: 0.1667237\ttotal: 145ms\tremaining: 853ms\n",
      "145:\tlearn: 0.1661297\ttotal: 145ms\tremaining: 851ms\n",
      "146:\tlearn: 0.1650025\ttotal: 146ms\tremaining: 849ms\n",
      "147:\tlearn: 0.1640824\ttotal: 147ms\tremaining: 848ms\n",
      "148:\tlearn: 0.1631735\ttotal: 148ms\tremaining: 847ms\n",
      "149:\tlearn: 0.1621593\ttotal: 149ms\tremaining: 846ms\n",
      "150:\tlearn: 0.1611926\ttotal: 150ms\tremaining: 844ms\n",
      "151:\tlearn: 0.1606930\ttotal: 151ms\tremaining: 843ms\n",
      "152:\tlearn: 0.1599130\ttotal: 152ms\tremaining: 841ms\n",
      "153:\tlearn: 0.1591341\ttotal: 153ms\tremaining: 839ms\n",
      "154:\tlearn: 0.1583719\ttotal: 154ms\tremaining: 839ms\n",
      "155:\tlearn: 0.1577222\ttotal: 155ms\tremaining: 837ms\n",
      "156:\tlearn: 0.1565266\ttotal: 156ms\tremaining: 836ms\n",
      "157:\tlearn: 0.1560422\ttotal: 156ms\tremaining: 834ms\n",
      "158:\tlearn: 0.1554644\ttotal: 157ms\tremaining: 832ms\n",
      "159:\tlearn: 0.1548441\ttotal: 158ms\tremaining: 830ms\n",
      "160:\tlearn: 0.1542437\ttotal: 159ms\tremaining: 829ms\n",
      "161:\tlearn: 0.1534517\ttotal: 160ms\tremaining: 827ms\n",
      "162:\tlearn: 0.1529621\ttotal: 161ms\tremaining: 827ms\n",
      "163:\tlearn: 0.1523726\ttotal: 162ms\tremaining: 826ms\n",
      "164:\tlearn: 0.1516700\ttotal: 163ms\tremaining: 824ms\n",
      "165:\tlearn: 0.1512135\ttotal: 164ms\tremaining: 823ms\n",
      "166:\tlearn: 0.1503012\ttotal: 165ms\tremaining: 821ms\n",
      "167:\tlearn: 0.1495641\ttotal: 166ms\tremaining: 820ms\n",
      "168:\tlearn: 0.1490919\ttotal: 167ms\tremaining: 819ms\n",
      "169:\tlearn: 0.1484250\ttotal: 167ms\tremaining: 818ms\n",
      "170:\tlearn: 0.1476431\ttotal: 168ms\tremaining: 816ms\n",
      "171:\tlearn: 0.1472541\ttotal: 169ms\tremaining: 815ms\n",
      "172:\tlearn: 0.1468293\ttotal: 170ms\tremaining: 813ms\n",
      "173:\tlearn: 0.1458646\ttotal: 171ms\tremaining: 812ms\n",
      "174:\tlearn: 0.1452853\ttotal: 172ms\tremaining: 810ms\n",
      "175:\tlearn: 0.1443994\ttotal: 173ms\tremaining: 808ms\n",
      "176:\tlearn: 0.1438027\ttotal: 173ms\tremaining: 806ms\n",
      "177:\tlearn: 0.1429362\ttotal: 174ms\tremaining: 805ms\n",
      "178:\tlearn: 0.1424830\ttotal: 175ms\tremaining: 803ms\n",
      "179:\tlearn: 0.1418203\ttotal: 176ms\tremaining: 801ms\n",
      "180:\tlearn: 0.1415100\ttotal: 177ms\tremaining: 799ms\n",
      "181:\tlearn: 0.1412502\ttotal: 177ms\tremaining: 797ms\n",
      "182:\tlearn: 0.1404721\ttotal: 178ms\tremaining: 796ms\n",
      "183:\tlearn: 0.1398954\ttotal: 179ms\tremaining: 794ms\n",
      "184:\tlearn: 0.1396155\ttotal: 180ms\tremaining: 793ms\n",
      "185:\tlearn: 0.1388739\ttotal: 181ms\tremaining: 792ms\n",
      "186:\tlearn: 0.1383301\ttotal: 182ms\tremaining: 790ms\n",
      "187:\tlearn: 0.1378596\ttotal: 182ms\tremaining: 788ms\n",
      "188:\tlearn: 0.1373767\ttotal: 183ms\tremaining: 787ms\n",
      "189:\tlearn: 0.1366684\ttotal: 184ms\tremaining: 785ms\n",
      "190:\tlearn: 0.1360050\ttotal: 185ms\tremaining: 784ms\n",
      "191:\tlearn: 0.1353437\ttotal: 186ms\tremaining: 783ms\n",
      "192:\tlearn: 0.1349217\ttotal: 187ms\tremaining: 781ms\n",
      "193:\tlearn: 0.1342608\ttotal: 188ms\tremaining: 780ms\n",
      "194:\tlearn: 0.1335970\ttotal: 188ms\tremaining: 778ms\n",
      "195:\tlearn: 0.1331276\ttotal: 189ms\tremaining: 776ms\n",
      "196:\tlearn: 0.1324707\ttotal: 190ms\tremaining: 776ms\n",
      "197:\tlearn: 0.1320408\ttotal: 191ms\tremaining: 776ms\n",
      "198:\tlearn: 0.1313733\ttotal: 192ms\tremaining: 775ms\n",
      "199:\tlearn: 0.1310412\ttotal: 194ms\tremaining: 774ms\n",
      "200:\tlearn: 0.1302312\ttotal: 194ms\tremaining: 773ms\n",
      "201:\tlearn: 0.1297437\ttotal: 195ms\tremaining: 772ms\n",
      "202:\tlearn: 0.1291243\ttotal: 196ms\tremaining: 770ms\n",
      "203:\tlearn: 0.1287020\ttotal: 197ms\tremaining: 769ms\n",
      "204:\tlearn: 0.1283312\ttotal: 198ms\tremaining: 768ms\n",
      "205:\tlearn: 0.1277705\ttotal: 199ms\tremaining: 766ms\n",
      "206:\tlearn: 0.1274119\ttotal: 200ms\tremaining: 765ms\n",
      "207:\tlearn: 0.1271868\ttotal: 200ms\tremaining: 763ms\n",
      "208:\tlearn: 0.1268643\ttotal: 201ms\tremaining: 762ms\n",
      "209:\tlearn: 0.1263651\ttotal: 202ms\tremaining: 761ms\n",
      "210:\tlearn: 0.1259253\ttotal: 203ms\tremaining: 760ms\n",
      "211:\tlearn: 0.1256495\ttotal: 204ms\tremaining: 759ms\n",
      "212:\tlearn: 0.1253228\ttotal: 205ms\tremaining: 757ms\n",
      "213:\tlearn: 0.1251287\ttotal: 206ms\tremaining: 756ms\n",
      "214:\tlearn: 0.1248700\ttotal: 207ms\tremaining: 755ms\n",
      "215:\tlearn: 0.1243054\ttotal: 208ms\tremaining: 753ms\n",
      "216:\tlearn: 0.1239902\ttotal: 208ms\tremaining: 752ms\n",
      "217:\tlearn: 0.1234551\ttotal: 209ms\tremaining: 750ms\n",
      "218:\tlearn: 0.1231084\ttotal: 210ms\tremaining: 749ms\n",
      "219:\tlearn: 0.1226979\ttotal: 211ms\tremaining: 747ms\n",
      "220:\tlearn: 0.1221233\ttotal: 212ms\tremaining: 746ms\n",
      "221:\tlearn: 0.1218786\ttotal: 213ms\tremaining: 745ms\n",
      "222:\tlearn: 0.1215592\ttotal: 213ms\tremaining: 743ms\n",
      "223:\tlearn: 0.1212837\ttotal: 214ms\tremaining: 742ms\n",
      "224:\tlearn: 0.1209003\ttotal: 215ms\tremaining: 741ms\n",
      "225:\tlearn: 0.1204037\ttotal: 216ms\tremaining: 739ms\n",
      "226:\tlearn: 0.1199944\ttotal: 217ms\tremaining: 738ms\n",
      "227:\tlearn: 0.1196135\ttotal: 217ms\tremaining: 736ms\n",
      "228:\tlearn: 0.1192325\ttotal: 218ms\tremaining: 734ms\n",
      "229:\tlearn: 0.1188479\ttotal: 219ms\tremaining: 733ms\n",
      "230:\tlearn: 0.1184407\ttotal: 220ms\tremaining: 732ms\n",
      "231:\tlearn: 0.1181106\ttotal: 221ms\tremaining: 731ms\n",
      "232:\tlearn: 0.1172700\ttotal: 222ms\tremaining: 729ms\n",
      "233:\tlearn: 0.1169499\ttotal: 222ms\tremaining: 728ms\n",
      "234:\tlearn: 0.1167999\ttotal: 223ms\tremaining: 726ms\n",
      "235:\tlearn: 0.1163891\ttotal: 224ms\tremaining: 725ms\n",
      "236:\tlearn: 0.1161735\ttotal: 225ms\tremaining: 723ms\n",
      "237:\tlearn: 0.1158860\ttotal: 225ms\tremaining: 722ms\n",
      "238:\tlearn: 0.1154533\ttotal: 226ms\tremaining: 721ms\n",
      "239:\tlearn: 0.1151908\ttotal: 227ms\tremaining: 720ms\n",
      "240:\tlearn: 0.1149425\ttotal: 228ms\tremaining: 718ms\n",
      "241:\tlearn: 0.1146008\ttotal: 229ms\tremaining: 717ms\n",
      "242:\tlearn: 0.1144163\ttotal: 230ms\tremaining: 715ms\n",
      "243:\tlearn: 0.1142040\ttotal: 230ms\tremaining: 714ms\n",
      "244:\tlearn: 0.1138593\ttotal: 231ms\tremaining: 712ms\n",
      "245:\tlearn: 0.1135826\ttotal: 232ms\tremaining: 711ms\n",
      "246:\tlearn: 0.1133337\ttotal: 233ms\tremaining: 709ms\n",
      "247:\tlearn: 0.1130096\ttotal: 233ms\tremaining: 708ms\n",
      "248:\tlearn: 0.1126255\ttotal: 234ms\tremaining: 707ms\n",
      "249:\tlearn: 0.1123651\ttotal: 235ms\tremaining: 705ms\n",
      "250:\tlearn: 0.1117132\ttotal: 236ms\tremaining: 704ms\n",
      "251:\tlearn: 0.1114890\ttotal: 237ms\tremaining: 703ms\n",
      "252:\tlearn: 0.1112652\ttotal: 239ms\tremaining: 706ms\n",
      "253:\tlearn: 0.1110760\ttotal: 240ms\tremaining: 705ms\n",
      "254:\tlearn: 0.1109040\ttotal: 241ms\tremaining: 704ms\n",
      "255:\tlearn: 0.1105569\ttotal: 242ms\tremaining: 703ms\n",
      "256:\tlearn: 0.1101419\ttotal: 243ms\tremaining: 701ms\n",
      "257:\tlearn: 0.1098844\ttotal: 243ms\tremaining: 700ms\n",
      "258:\tlearn: 0.1095997\ttotal: 244ms\tremaining: 699ms\n",
      "259:\tlearn: 0.1091707\ttotal: 245ms\tremaining: 697ms\n",
      "260:\tlearn: 0.1088324\ttotal: 246ms\tremaining: 696ms\n",
      "261:\tlearn: 0.1086051\ttotal: 246ms\tremaining: 694ms\n",
      "262:\tlearn: 0.1083413\ttotal: 247ms\tremaining: 693ms\n",
      "263:\tlearn: 0.1080947\ttotal: 248ms\tremaining: 692ms\n",
      "264:\tlearn: 0.1079286\ttotal: 249ms\tremaining: 690ms\n",
      "265:\tlearn: 0.1076485\ttotal: 250ms\tremaining: 689ms\n",
      "266:\tlearn: 0.1074351\ttotal: 250ms\tremaining: 688ms\n",
      "267:\tlearn: 0.1071072\ttotal: 251ms\tremaining: 686ms\n",
      "268:\tlearn: 0.1067771\ttotal: 252ms\tremaining: 685ms\n",
      "269:\tlearn: 0.1063478\ttotal: 253ms\tremaining: 684ms\n",
      "270:\tlearn: 0.1060747\ttotal: 254ms\tremaining: 682ms\n",
      "271:\tlearn: 0.1056246\ttotal: 254ms\tremaining: 681ms\n",
      "272:\tlearn: 0.1053574\ttotal: 255ms\tremaining: 680ms\n",
      "273:\tlearn: 0.1050368\ttotal: 256ms\tremaining: 679ms\n",
      "274:\tlearn: 0.1046794\ttotal: 257ms\tremaining: 677ms\n",
      "275:\tlearn: 0.1045204\ttotal: 258ms\tremaining: 676ms\n",
      "276:\tlearn: 0.1042155\ttotal: 258ms\tremaining: 675ms\n",
      "277:\tlearn: 0.1040003\ttotal: 259ms\tremaining: 673ms\n",
      "278:\tlearn: 0.1037904\ttotal: 260ms\tremaining: 672ms\n",
      "279:\tlearn: 0.1035148\ttotal: 261ms\tremaining: 671ms\n",
      "280:\tlearn: 0.1031051\ttotal: 262ms\tremaining: 669ms\n",
      "281:\tlearn: 0.1026599\ttotal: 262ms\tremaining: 668ms\n",
      "282:\tlearn: 0.1023336\ttotal: 263ms\tremaining: 667ms\n",
      "283:\tlearn: 0.1020458\ttotal: 264ms\tremaining: 666ms\n",
      "284:\tlearn: 0.1017392\ttotal: 265ms\tremaining: 664ms\n",
      "285:\tlearn: 0.1014536\ttotal: 266ms\tremaining: 663ms\n",
      "286:\tlearn: 0.1011479\ttotal: 266ms\tremaining: 662ms\n",
      "287:\tlearn: 0.1004653\ttotal: 267ms\tremaining: 660ms\n",
      "288:\tlearn: 0.1001982\ttotal: 268ms\tremaining: 659ms\n",
      "289:\tlearn: 0.1000519\ttotal: 269ms\tremaining: 658ms\n",
      "290:\tlearn: 0.0998495\ttotal: 270ms\tremaining: 657ms\n",
      "291:\tlearn: 0.0995966\ttotal: 270ms\tremaining: 656ms\n",
      "292:\tlearn: 0.0993087\ttotal: 271ms\tremaining: 655ms\n",
      "293:\tlearn: 0.0991286\ttotal: 272ms\tremaining: 653ms\n",
      "294:\tlearn: 0.0990346\ttotal: 273ms\tremaining: 652ms\n",
      "295:\tlearn: 0.0987924\ttotal: 274ms\tremaining: 651ms\n",
      "296:\tlearn: 0.0984427\ttotal: 274ms\tremaining: 649ms\n",
      "297:\tlearn: 0.0981762\ttotal: 275ms\tremaining: 648ms\n",
      "298:\tlearn: 0.0979965\ttotal: 276ms\tremaining: 647ms\n",
      "299:\tlearn: 0.0978213\ttotal: 277ms\tremaining: 646ms\n",
      "300:\tlearn: 0.0973853\ttotal: 277ms\tremaining: 644ms\n",
      "301:\tlearn: 0.0971074\ttotal: 278ms\tremaining: 643ms\n",
      "302:\tlearn: 0.0969471\ttotal: 279ms\tremaining: 642ms\n",
      "303:\tlearn: 0.0967929\ttotal: 280ms\tremaining: 641ms\n",
      "304:\tlearn: 0.0966655\ttotal: 281ms\tremaining: 639ms\n",
      "305:\tlearn: 0.0965403\ttotal: 281ms\tremaining: 638ms\n",
      "306:\tlearn: 0.0963291\ttotal: 282ms\tremaining: 637ms\n",
      "307:\tlearn: 0.0961339\ttotal: 283ms\tremaining: 636ms\n",
      "308:\tlearn: 0.0959464\ttotal: 284ms\tremaining: 635ms\n",
      "309:\tlearn: 0.0957058\ttotal: 285ms\tremaining: 633ms\n",
      "310:\tlearn: 0.0954477\ttotal: 285ms\tremaining: 632ms\n",
      "311:\tlearn: 0.0953121\ttotal: 286ms\tremaining: 631ms\n",
      "312:\tlearn: 0.0951825\ttotal: 287ms\tremaining: 630ms\n",
      "313:\tlearn: 0.0950413\ttotal: 288ms\tremaining: 629ms\n",
      "314:\tlearn: 0.0948607\ttotal: 289ms\tremaining: 627ms\n",
      "315:\tlearn: 0.0946759\ttotal: 289ms\tremaining: 626ms\n",
      "316:\tlearn: 0.0945384\ttotal: 290ms\tremaining: 625ms\n",
      "317:\tlearn: 0.0943327\ttotal: 291ms\tremaining: 624ms\n",
      "318:\tlearn: 0.0941837\ttotal: 292ms\tremaining: 623ms\n",
      "319:\tlearn: 0.0940273\ttotal: 292ms\tremaining: 621ms\n",
      "320:\tlearn: 0.0938378\ttotal: 293ms\tremaining: 620ms\n",
      "321:\tlearn: 0.0936231\ttotal: 294ms\tremaining: 619ms\n",
      "322:\tlearn: 0.0932863\ttotal: 295ms\tremaining: 618ms\n",
      "323:\tlearn: 0.0931231\ttotal: 296ms\tremaining: 617ms\n",
      "324:\tlearn: 0.0929304\ttotal: 296ms\tremaining: 615ms\n",
      "325:\tlearn: 0.0927505\ttotal: 297ms\tremaining: 614ms\n",
      "326:\tlearn: 0.0925812\ttotal: 298ms\tremaining: 613ms\n",
      "327:\tlearn: 0.0923796\ttotal: 299ms\tremaining: 612ms\n",
      "328:\tlearn: 0.0921818\ttotal: 299ms\tremaining: 611ms\n",
      "329:\tlearn: 0.0920393\ttotal: 300ms\tremaining: 610ms\n",
      "330:\tlearn: 0.0919188\ttotal: 301ms\tremaining: 609ms\n",
      "331:\tlearn: 0.0916746\ttotal: 302ms\tremaining: 607ms\n",
      "332:\tlearn: 0.0914671\ttotal: 303ms\tremaining: 606ms\n",
      "333:\tlearn: 0.0913112\ttotal: 303ms\tremaining: 605ms\n",
      "334:\tlearn: 0.0911692\ttotal: 304ms\tremaining: 604ms\n",
      "335:\tlearn: 0.0909102\ttotal: 305ms\tremaining: 603ms\n",
      "336:\tlearn: 0.0907075\ttotal: 306ms\tremaining: 602ms\n",
      "337:\tlearn: 0.0904363\ttotal: 307ms\tremaining: 600ms\n",
      "338:\tlearn: 0.0902641\ttotal: 307ms\tremaining: 599ms\n",
      "339:\tlearn: 0.0901875\ttotal: 308ms\tremaining: 598ms\n",
      "340:\tlearn: 0.0900010\ttotal: 309ms\tremaining: 597ms\n",
      "341:\tlearn: 0.0898516\ttotal: 310ms\tremaining: 596ms\n",
      "342:\tlearn: 0.0896900\ttotal: 311ms\tremaining: 595ms\n",
      "343:\tlearn: 0.0895285\ttotal: 311ms\tremaining: 594ms\n",
      "344:\tlearn: 0.0893707\ttotal: 312ms\tremaining: 592ms\n",
      "345:\tlearn: 0.0892616\ttotal: 313ms\tremaining: 591ms\n",
      "346:\tlearn: 0.0891755\ttotal: 314ms\tremaining: 590ms\n",
      "347:\tlearn: 0.0890216\ttotal: 314ms\tremaining: 589ms\n",
      "348:\tlearn: 0.0888024\ttotal: 315ms\tremaining: 588ms\n",
      "349:\tlearn: 0.0887119\ttotal: 316ms\tremaining: 587ms\n",
      "350:\tlearn: 0.0885533\ttotal: 317ms\tremaining: 586ms\n",
      "351:\tlearn: 0.0884723\ttotal: 318ms\tremaining: 585ms\n",
      "352:\tlearn: 0.0883489\ttotal: 318ms\tremaining: 584ms\n",
      "353:\tlearn: 0.0882337\ttotal: 319ms\tremaining: 583ms\n",
      "354:\tlearn: 0.0881307\ttotal: 320ms\tremaining: 581ms\n",
      "355:\tlearn: 0.0878958\ttotal: 321ms\tremaining: 580ms\n",
      "356:\tlearn: 0.0876890\ttotal: 322ms\tremaining: 579ms\n",
      "357:\tlearn: 0.0876109\ttotal: 322ms\tremaining: 578ms\n",
      "358:\tlearn: 0.0875530\ttotal: 323ms\tremaining: 577ms\n",
      "359:\tlearn: 0.0874886\ttotal: 324ms\tremaining: 576ms\n",
      "360:\tlearn: 0.0873460\ttotal: 325ms\tremaining: 575ms\n",
      "361:\tlearn: 0.0871066\ttotal: 325ms\tremaining: 574ms\n",
      "362:\tlearn: 0.0869207\ttotal: 326ms\tremaining: 573ms\n",
      "363:\tlearn: 0.0868027\ttotal: 327ms\tremaining: 571ms\n",
      "364:\tlearn: 0.0865634\ttotal: 328ms\tremaining: 570ms\n",
      "365:\tlearn: 0.0864609\ttotal: 329ms\tremaining: 569ms\n",
      "366:\tlearn: 0.0863261\ttotal: 330ms\tremaining: 569ms\n",
      "367:\tlearn: 0.0861555\ttotal: 331ms\tremaining: 568ms\n",
      "368:\tlearn: 0.0860419\ttotal: 331ms\tremaining: 567ms\n",
      "369:\tlearn: 0.0859099\ttotal: 332ms\tremaining: 566ms\n",
      "370:\tlearn: 0.0857560\ttotal: 333ms\tremaining: 565ms\n",
      "371:\tlearn: 0.0856936\ttotal: 334ms\tremaining: 564ms\n",
      "372:\tlearn: 0.0855462\ttotal: 335ms\tremaining: 562ms\n",
      "373:\tlearn: 0.0854557\ttotal: 335ms\tremaining: 561ms\n",
      "374:\tlearn: 0.0853716\ttotal: 336ms\tremaining: 560ms\n",
      "375:\tlearn: 0.0851340\ttotal: 337ms\tremaining: 559ms\n",
      "376:\tlearn: 0.0850273\ttotal: 338ms\tremaining: 558ms\n",
      "377:\tlearn: 0.0848427\ttotal: 339ms\tremaining: 557ms\n",
      "378:\tlearn: 0.0847310\ttotal: 339ms\tremaining: 556ms\n",
      "379:\tlearn: 0.0846411\ttotal: 340ms\tremaining: 555ms\n",
      "380:\tlearn: 0.0845259\ttotal: 341ms\tremaining: 554ms\n",
      "381:\tlearn: 0.0844477\ttotal: 342ms\tremaining: 553ms\n",
      "382:\tlearn: 0.0843425\ttotal: 343ms\tremaining: 552ms\n",
      "383:\tlearn: 0.0842534\ttotal: 344ms\tremaining: 551ms\n",
      "384:\tlearn: 0.0841791\ttotal: 344ms\tremaining: 550ms\n",
      "385:\tlearn: 0.0840696\ttotal: 345ms\tremaining: 549ms\n",
      "386:\tlearn: 0.0839121\ttotal: 346ms\tremaining: 548ms\n",
      "387:\tlearn: 0.0837863\ttotal: 347ms\tremaining: 547ms\n",
      "388:\tlearn: 0.0836638\ttotal: 348ms\tremaining: 546ms\n",
      "389:\tlearn: 0.0835041\ttotal: 348ms\tremaining: 545ms\n",
      "390:\tlearn: 0.0833818\ttotal: 349ms\tremaining: 544ms\n",
      "391:\tlearn: 0.0832285\ttotal: 350ms\tremaining: 543ms\n",
      "392:\tlearn: 0.0831041\ttotal: 351ms\tremaining: 542ms\n",
      "393:\tlearn: 0.0828999\ttotal: 351ms\tremaining: 541ms\n",
      "394:\tlearn: 0.0828042\ttotal: 352ms\tremaining: 540ms\n",
      "395:\tlearn: 0.0826862\ttotal: 353ms\tremaining: 538ms\n",
      "396:\tlearn: 0.0825729\ttotal: 354ms\tremaining: 537ms\n",
      "397:\tlearn: 0.0824624\ttotal: 355ms\tremaining: 536ms\n",
      "398:\tlearn: 0.0823793\ttotal: 355ms\tremaining: 535ms\n",
      "399:\tlearn: 0.0822598\ttotal: 356ms\tremaining: 534ms\n",
      "400:\tlearn: 0.0821465\ttotal: 357ms\tremaining: 533ms\n",
      "401:\tlearn: 0.0820698\ttotal: 358ms\tremaining: 532ms\n",
      "402:\tlearn: 0.0818849\ttotal: 359ms\tremaining: 531ms\n",
      "403:\tlearn: 0.0816738\ttotal: 359ms\tremaining: 530ms\n",
      "404:\tlearn: 0.0815596\ttotal: 360ms\tremaining: 529ms\n",
      "405:\tlearn: 0.0814778\ttotal: 361ms\tremaining: 528ms\n",
      "406:\tlearn: 0.0813885\ttotal: 362ms\tremaining: 527ms\n",
      "407:\tlearn: 0.0813016\ttotal: 363ms\tremaining: 526ms\n",
      "408:\tlearn: 0.0811630\ttotal: 363ms\tremaining: 525ms\n",
      "409:\tlearn: 0.0810464\ttotal: 364ms\tremaining: 524ms\n",
      "410:\tlearn: 0.0807996\ttotal: 365ms\tremaining: 523ms\n",
      "411:\tlearn: 0.0806911\ttotal: 366ms\tremaining: 522ms\n",
      "412:\tlearn: 0.0805308\ttotal: 367ms\tremaining: 521ms\n",
      "413:\tlearn: 0.0804302\ttotal: 367ms\tremaining: 520ms\n",
      "414:\tlearn: 0.0803155\ttotal: 368ms\tremaining: 519ms\n",
      "415:\tlearn: 0.0802067\ttotal: 369ms\tremaining: 518ms\n",
      "416:\tlearn: 0.0800823\ttotal: 370ms\tremaining: 517ms\n",
      "417:\tlearn: 0.0798336\ttotal: 371ms\tremaining: 516ms\n",
      "418:\tlearn: 0.0797332\ttotal: 371ms\tremaining: 515ms\n",
      "419:\tlearn: 0.0797008\ttotal: 372ms\tremaining: 514ms\n",
      "420:\tlearn: 0.0795979\ttotal: 373ms\tremaining: 513ms\n",
      "421:\tlearn: 0.0794865\ttotal: 374ms\tremaining: 512ms\n",
      "422:\tlearn: 0.0793666\ttotal: 375ms\tremaining: 511ms\n",
      "423:\tlearn: 0.0792653\ttotal: 375ms\tremaining: 510ms\n",
      "424:\tlearn: 0.0792102\ttotal: 376ms\tremaining: 509ms\n",
      "425:\tlearn: 0.0791126\ttotal: 377ms\tremaining: 508ms\n",
      "426:\tlearn: 0.0790208\ttotal: 378ms\tremaining: 507ms\n",
      "427:\tlearn: 0.0789339\ttotal: 379ms\tremaining: 506ms\n",
      "428:\tlearn: 0.0788178\ttotal: 379ms\tremaining: 505ms\n",
      "429:\tlearn: 0.0786863\ttotal: 380ms\tremaining: 504ms\n",
      "430:\tlearn: 0.0785583\ttotal: 381ms\tremaining: 503ms\n",
      "431:\tlearn: 0.0784772\ttotal: 382ms\tremaining: 502ms\n",
      "432:\tlearn: 0.0784083\ttotal: 382ms\tremaining: 501ms\n",
      "433:\tlearn: 0.0782749\ttotal: 383ms\tremaining: 500ms\n",
      "434:\tlearn: 0.0782188\ttotal: 384ms\tremaining: 499ms\n",
      "435:\tlearn: 0.0781656\ttotal: 385ms\tremaining: 498ms\n",
      "436:\tlearn: 0.0780754\ttotal: 386ms\tremaining: 497ms\n",
      "437:\tlearn: 0.0779681\ttotal: 386ms\tremaining: 496ms\n",
      "438:\tlearn: 0.0778425\ttotal: 387ms\tremaining: 495ms\n",
      "439:\tlearn: 0.0777642\ttotal: 388ms\tremaining: 494ms\n",
      "440:\tlearn: 0.0776848\ttotal: 389ms\tremaining: 493ms\n",
      "441:\tlearn: 0.0775322\ttotal: 390ms\tremaining: 492ms\n",
      "442:\tlearn: 0.0774671\ttotal: 390ms\tremaining: 491ms\n",
      "443:\tlearn: 0.0774116\ttotal: 391ms\tremaining: 490ms\n",
      "444:\tlearn: 0.0773250\ttotal: 392ms\tremaining: 489ms\n",
      "445:\tlearn: 0.0772388\ttotal: 393ms\tremaining: 488ms\n",
      "446:\tlearn: 0.0771616\ttotal: 393ms\tremaining: 487ms\n",
      "447:\tlearn: 0.0770490\ttotal: 394ms\tremaining: 486ms\n",
      "448:\tlearn: 0.0769279\ttotal: 395ms\tremaining: 485ms\n",
      "449:\tlearn: 0.0768080\ttotal: 396ms\tremaining: 484ms\n",
      "450:\tlearn: 0.0767064\ttotal: 397ms\tremaining: 483ms\n",
      "451:\tlearn: 0.0766459\ttotal: 397ms\tremaining: 482ms\n",
      "452:\tlearn: 0.0765585\ttotal: 398ms\tremaining: 481ms\n",
      "453:\tlearn: 0.0764837\ttotal: 399ms\tremaining: 480ms\n",
      "454:\tlearn: 0.0763823\ttotal: 400ms\tremaining: 479ms\n",
      "455:\tlearn: 0.0763081\ttotal: 400ms\tremaining: 478ms\n",
      "456:\tlearn: 0.0762438\ttotal: 401ms\tremaining: 477ms\n",
      "457:\tlearn: 0.0761246\ttotal: 402ms\tremaining: 476ms\n",
      "458:\tlearn: 0.0760518\ttotal: 403ms\tremaining: 475ms\n",
      "459:\tlearn: 0.0759874\ttotal: 404ms\tremaining: 474ms\n",
      "460:\tlearn: 0.0758667\ttotal: 404ms\tremaining: 473ms\n",
      "461:\tlearn: 0.0758031\ttotal: 405ms\tremaining: 472ms\n",
      "462:\tlearn: 0.0757449\ttotal: 406ms\tremaining: 471ms\n",
      "463:\tlearn: 0.0757038\ttotal: 407ms\tremaining: 470ms\n",
      "464:\tlearn: 0.0756499\ttotal: 408ms\tremaining: 469ms\n",
      "465:\tlearn: 0.0755897\ttotal: 408ms\tremaining: 468ms\n",
      "466:\tlearn: 0.0754690\ttotal: 409ms\tremaining: 467ms\n",
      "467:\tlearn: 0.0753128\ttotal: 410ms\tremaining: 466ms\n",
      "468:\tlearn: 0.0751497\ttotal: 411ms\tremaining: 465ms\n",
      "469:\tlearn: 0.0750355\ttotal: 412ms\tremaining: 464ms\n",
      "470:\tlearn: 0.0749349\ttotal: 412ms\tremaining: 463ms\n",
      "471:\tlearn: 0.0747614\ttotal: 413ms\tremaining: 462ms\n",
      "472:\tlearn: 0.0746948\ttotal: 414ms\tremaining: 461ms\n",
      "473:\tlearn: 0.0745883\ttotal: 415ms\tremaining: 460ms\n",
      "474:\tlearn: 0.0744907\ttotal: 415ms\tremaining: 459ms\n",
      "475:\tlearn: 0.0744181\ttotal: 416ms\tremaining: 458ms\n",
      "476:\tlearn: 0.0742679\ttotal: 417ms\tremaining: 457ms\n",
      "477:\tlearn: 0.0741548\ttotal: 418ms\tremaining: 456ms\n",
      "478:\tlearn: 0.0740740\ttotal: 419ms\tremaining: 455ms\n",
      "479:\tlearn: 0.0740389\ttotal: 419ms\tremaining: 454ms\n",
      "480:\tlearn: 0.0739324\ttotal: 420ms\tremaining: 453ms\n",
      "481:\tlearn: 0.0738790\ttotal: 421ms\tremaining: 452ms\n",
      "482:\tlearn: 0.0738179\ttotal: 422ms\tremaining: 451ms\n",
      "483:\tlearn: 0.0737390\ttotal: 422ms\tremaining: 450ms\n",
      "484:\tlearn: 0.0736450\ttotal: 423ms\tremaining: 449ms\n",
      "485:\tlearn: 0.0735495\ttotal: 424ms\tremaining: 448ms\n",
      "486:\tlearn: 0.0734752\ttotal: 425ms\tremaining: 447ms\n",
      "487:\tlearn: 0.0733586\ttotal: 426ms\tremaining: 447ms\n",
      "488:\tlearn: 0.0733002\ttotal: 426ms\tremaining: 446ms\n",
      "489:\tlearn: 0.0731956\ttotal: 427ms\tremaining: 445ms\n",
      "490:\tlearn: 0.0731436\ttotal: 428ms\tremaining: 444ms\n",
      "491:\tlearn: 0.0730729\ttotal: 429ms\tremaining: 443ms\n",
      "492:\tlearn: 0.0730223\ttotal: 430ms\tremaining: 442ms\n",
      "493:\tlearn: 0.0729671\ttotal: 430ms\tremaining: 441ms\n",
      "494:\tlearn: 0.0728886\ttotal: 431ms\tremaining: 440ms\n",
      "495:\tlearn: 0.0728074\ttotal: 432ms\tremaining: 439ms\n",
      "496:\tlearn: 0.0727300\ttotal: 433ms\tremaining: 438ms\n",
      "497:\tlearn: 0.0726764\ttotal: 434ms\tremaining: 437ms\n",
      "498:\tlearn: 0.0726378\ttotal: 434ms\tremaining: 436ms\n",
      "499:\tlearn: 0.0725666\ttotal: 435ms\tremaining: 435ms\n",
      "500:\tlearn: 0.0724596\ttotal: 436ms\tremaining: 434ms\n",
      "501:\tlearn: 0.0724049\ttotal: 437ms\tremaining: 433ms\n",
      "502:\tlearn: 0.0723617\ttotal: 437ms\tremaining: 432ms\n",
      "503:\tlearn: 0.0723200\ttotal: 438ms\tremaining: 431ms\n",
      "504:\tlearn: 0.0722795\ttotal: 439ms\tremaining: 430ms\n",
      "505:\tlearn: 0.0722154\ttotal: 440ms\tremaining: 429ms\n",
      "506:\tlearn: 0.0721429\ttotal: 441ms\tremaining: 429ms\n",
      "507:\tlearn: 0.0720989\ttotal: 442ms\tremaining: 428ms\n",
      "508:\tlearn: 0.0720479\ttotal: 442ms\tremaining: 427ms\n",
      "509:\tlearn: 0.0719701\ttotal: 443ms\tremaining: 426ms\n",
      "510:\tlearn: 0.0719119\ttotal: 444ms\tremaining: 425ms\n",
      "511:\tlearn: 0.0718214\ttotal: 445ms\tremaining: 424ms\n",
      "512:\tlearn: 0.0717741\ttotal: 446ms\tremaining: 423ms\n",
      "513:\tlearn: 0.0716556\ttotal: 446ms\tremaining: 422ms\n",
      "514:\tlearn: 0.0716025\ttotal: 447ms\tremaining: 421ms\n",
      "515:\tlearn: 0.0714745\ttotal: 448ms\tremaining: 420ms\n",
      "516:\tlearn: 0.0714176\ttotal: 449ms\tremaining: 419ms\n",
      "517:\tlearn: 0.0713771\ttotal: 450ms\tremaining: 418ms\n",
      "518:\tlearn: 0.0712599\ttotal: 450ms\tremaining: 417ms\n",
      "519:\tlearn: 0.0712063\ttotal: 451ms\tremaining: 417ms\n",
      "520:\tlearn: 0.0710971\ttotal: 452ms\tremaining: 416ms\n",
      "521:\tlearn: 0.0710525\ttotal: 453ms\tremaining: 415ms\n",
      "522:\tlearn: 0.0709520\ttotal: 454ms\tremaining: 414ms\n",
      "523:\tlearn: 0.0709191\ttotal: 454ms\tremaining: 413ms\n",
      "524:\tlearn: 0.0708118\ttotal: 455ms\tremaining: 412ms\n",
      "525:\tlearn: 0.0707454\ttotal: 456ms\tremaining: 411ms\n",
      "526:\tlearn: 0.0706362\ttotal: 457ms\tremaining: 410ms\n",
      "527:\tlearn: 0.0705924\ttotal: 458ms\tremaining: 409ms\n",
      "528:\tlearn: 0.0704906\ttotal: 458ms\tremaining: 408ms\n",
      "529:\tlearn: 0.0704545\ttotal: 459ms\tremaining: 407ms\n",
      "530:\tlearn: 0.0703915\ttotal: 460ms\tremaining: 406ms\n",
      "531:\tlearn: 0.0703471\ttotal: 461ms\tremaining: 405ms\n",
      "532:\tlearn: 0.0702808\ttotal: 462ms\tremaining: 404ms\n",
      "533:\tlearn: 0.0702276\ttotal: 462ms\tremaining: 403ms\n",
      "534:\tlearn: 0.0701440\ttotal: 463ms\tremaining: 403ms\n",
      "535:\tlearn: 0.0700790\ttotal: 464ms\tremaining: 402ms\n",
      "536:\tlearn: 0.0700273\ttotal: 465ms\tremaining: 401ms\n",
      "537:\tlearn: 0.0699967\ttotal: 465ms\tremaining: 400ms\n",
      "538:\tlearn: 0.0699355\ttotal: 466ms\tremaining: 399ms\n",
      "539:\tlearn: 0.0698870\ttotal: 467ms\tremaining: 398ms\n",
      "540:\tlearn: 0.0698307\ttotal: 468ms\tremaining: 397ms\n",
      "541:\tlearn: 0.0697323\ttotal: 469ms\tremaining: 396ms\n",
      "542:\tlearn: 0.0696981\ttotal: 469ms\tremaining: 395ms\n",
      "543:\tlearn: 0.0696644\ttotal: 470ms\tremaining: 394ms\n",
      "544:\tlearn: 0.0695977\ttotal: 471ms\tremaining: 393ms\n",
      "545:\tlearn: 0.0695171\ttotal: 472ms\tremaining: 392ms\n",
      "546:\tlearn: 0.0693752\ttotal: 473ms\tremaining: 391ms\n",
      "547:\tlearn: 0.0693392\ttotal: 473ms\tremaining: 390ms\n",
      "548:\tlearn: 0.0691846\ttotal: 474ms\tremaining: 390ms\n",
      "549:\tlearn: 0.0691207\ttotal: 475ms\tremaining: 389ms\n",
      "550:\tlearn: 0.0690451\ttotal: 476ms\tremaining: 388ms\n",
      "551:\tlearn: 0.0690163\ttotal: 477ms\tremaining: 387ms\n",
      "552:\tlearn: 0.0689755\ttotal: 477ms\tremaining: 386ms\n",
      "553:\tlearn: 0.0689007\ttotal: 478ms\tremaining: 385ms\n",
      "554:\tlearn: 0.0688237\ttotal: 479ms\tremaining: 384ms\n",
      "555:\tlearn: 0.0687678\ttotal: 480ms\tremaining: 383ms\n",
      "556:\tlearn: 0.0687396\ttotal: 481ms\tremaining: 382ms\n",
      "557:\tlearn: 0.0687093\ttotal: 481ms\tremaining: 381ms\n",
      "558:\tlearn: 0.0686243\ttotal: 482ms\tremaining: 380ms\n",
      "559:\tlearn: 0.0685795\ttotal: 483ms\tremaining: 379ms\n",
      "560:\tlearn: 0.0685421\ttotal: 484ms\tremaining: 378ms\n",
      "561:\tlearn: 0.0684817\ttotal: 484ms\tremaining: 378ms\n",
      "562:\tlearn: 0.0684212\ttotal: 485ms\tremaining: 377ms\n",
      "563:\tlearn: 0.0683242\ttotal: 486ms\tremaining: 376ms\n",
      "564:\tlearn: 0.0682418\ttotal: 487ms\tremaining: 375ms\n",
      "565:\tlearn: 0.0681988\ttotal: 488ms\tremaining: 374ms\n",
      "566:\tlearn: 0.0681512\ttotal: 488ms\tremaining: 373ms\n",
      "567:\tlearn: 0.0680736\ttotal: 489ms\tremaining: 372ms\n",
      "568:\tlearn: 0.0680354\ttotal: 490ms\tremaining: 371ms\n",
      "569:\tlearn: 0.0679744\ttotal: 491ms\tremaining: 370ms\n",
      "570:\tlearn: 0.0679364\ttotal: 492ms\tremaining: 369ms\n",
      "571:\tlearn: 0.0679057\ttotal: 492ms\tremaining: 368ms\n",
      "572:\tlearn: 0.0678603\ttotal: 493ms\tremaining: 367ms\n",
      "573:\tlearn: 0.0678333\ttotal: 494ms\tremaining: 367ms\n",
      "574:\tlearn: 0.0677962\ttotal: 495ms\tremaining: 366ms\n",
      "575:\tlearn: 0.0677205\ttotal: 496ms\tremaining: 365ms\n",
      "576:\tlearn: 0.0676747\ttotal: 497ms\tremaining: 364ms\n",
      "577:\tlearn: 0.0675834\ttotal: 497ms\tremaining: 363ms\n",
      "578:\tlearn: 0.0674975\ttotal: 498ms\tremaining: 362ms\n",
      "579:\tlearn: 0.0674658\ttotal: 499ms\tremaining: 361ms\n",
      "580:\tlearn: 0.0674207\ttotal: 500ms\tremaining: 360ms\n",
      "581:\tlearn: 0.0673818\ttotal: 501ms\tremaining: 359ms\n",
      "582:\tlearn: 0.0672736\ttotal: 501ms\tremaining: 359ms\n",
      "583:\tlearn: 0.0672407\ttotal: 502ms\tremaining: 358ms\n",
      "584:\tlearn: 0.0672013\ttotal: 503ms\tremaining: 357ms\n",
      "585:\tlearn: 0.0671588\ttotal: 504ms\tremaining: 356ms\n",
      "586:\tlearn: 0.0671070\ttotal: 505ms\tremaining: 355ms\n",
      "587:\tlearn: 0.0669884\ttotal: 505ms\tremaining: 354ms\n",
      "588:\tlearn: 0.0669505\ttotal: 506ms\tremaining: 353ms\n",
      "589:\tlearn: 0.0669214\ttotal: 507ms\tremaining: 352ms\n",
      "590:\tlearn: 0.0668867\ttotal: 508ms\tremaining: 351ms\n",
      "591:\tlearn: 0.0668469\ttotal: 509ms\tremaining: 351ms\n",
      "592:\tlearn: 0.0668107\ttotal: 509ms\tremaining: 350ms\n",
      "593:\tlearn: 0.0667183\ttotal: 510ms\tremaining: 349ms\n",
      "594:\tlearn: 0.0666405\ttotal: 511ms\tremaining: 348ms\n",
      "595:\tlearn: 0.0666137\ttotal: 512ms\tremaining: 347ms\n",
      "596:\tlearn: 0.0665345\ttotal: 513ms\tremaining: 346ms\n",
      "597:\tlearn: 0.0665003\ttotal: 514ms\tremaining: 345ms\n",
      "598:\tlearn: 0.0664704\ttotal: 515ms\tremaining: 344ms\n",
      "599:\tlearn: 0.0663889\ttotal: 515ms\tremaining: 344ms\n",
      "600:\tlearn: 0.0663184\ttotal: 517ms\tremaining: 343ms\n",
      "601:\tlearn: 0.0662246\ttotal: 517ms\tremaining: 342ms\n",
      "602:\tlearn: 0.0661809\ttotal: 518ms\tremaining: 341ms\n",
      "603:\tlearn: 0.0661619\ttotal: 519ms\tremaining: 340ms\n",
      "604:\tlearn: 0.0661365\ttotal: 520ms\tremaining: 339ms\n",
      "605:\tlearn: 0.0660588\ttotal: 521ms\tremaining: 339ms\n",
      "606:\tlearn: 0.0659641\ttotal: 522ms\tremaining: 338ms\n",
      "607:\tlearn: 0.0659226\ttotal: 522ms\tremaining: 337ms\n",
      "608:\tlearn: 0.0658292\ttotal: 523ms\tremaining: 336ms\n",
      "609:\tlearn: 0.0657716\ttotal: 524ms\tremaining: 335ms\n",
      "610:\tlearn: 0.0657544\ttotal: 525ms\tremaining: 334ms\n",
      "611:\tlearn: 0.0657224\ttotal: 526ms\tremaining: 333ms\n",
      "612:\tlearn: 0.0656517\ttotal: 527ms\tremaining: 333ms\n",
      "613:\tlearn: 0.0656272\ttotal: 528ms\tremaining: 332ms\n",
      "614:\tlearn: 0.0655661\ttotal: 528ms\tremaining: 331ms\n",
      "615:\tlearn: 0.0655305\ttotal: 529ms\tremaining: 330ms\n",
      "616:\tlearn: 0.0654492\ttotal: 530ms\tremaining: 329ms\n",
      "617:\tlearn: 0.0654116\ttotal: 531ms\tremaining: 328ms\n",
      "618:\tlearn: 0.0653453\ttotal: 532ms\tremaining: 327ms\n",
      "619:\tlearn: 0.0653233\ttotal: 532ms\tremaining: 326ms\n",
      "620:\tlearn: 0.0652372\ttotal: 533ms\tremaining: 325ms\n",
      "621:\tlearn: 0.0651694\ttotal: 534ms\tremaining: 325ms\n",
      "622:\tlearn: 0.0651499\ttotal: 535ms\tremaining: 324ms\n",
      "623:\tlearn: 0.0651042\ttotal: 536ms\tremaining: 323ms\n",
      "624:\tlearn: 0.0650655\ttotal: 536ms\tremaining: 322ms\n",
      "625:\tlearn: 0.0650420\ttotal: 537ms\tremaining: 321ms\n",
      "626:\tlearn: 0.0650188\ttotal: 538ms\tremaining: 320ms\n",
      "627:\tlearn: 0.0649671\ttotal: 539ms\tremaining: 319ms\n",
      "628:\tlearn: 0.0648579\ttotal: 540ms\tremaining: 318ms\n",
      "629:\tlearn: 0.0648095\ttotal: 540ms\tremaining: 317ms\n",
      "630:\tlearn: 0.0647871\ttotal: 541ms\tremaining: 317ms\n",
      "631:\tlearn: 0.0647466\ttotal: 542ms\tremaining: 316ms\n",
      "632:\tlearn: 0.0647146\ttotal: 543ms\tremaining: 315ms\n",
      "633:\tlearn: 0.0646280\ttotal: 544ms\tremaining: 314ms\n",
      "634:\tlearn: 0.0645730\ttotal: 544ms\tremaining: 313ms\n",
      "635:\tlearn: 0.0645164\ttotal: 545ms\tremaining: 312ms\n",
      "636:\tlearn: 0.0644349\ttotal: 546ms\tremaining: 311ms\n",
      "637:\tlearn: 0.0644002\ttotal: 547ms\tremaining: 310ms\n",
      "638:\tlearn: 0.0643703\ttotal: 548ms\tremaining: 309ms\n",
      "639:\tlearn: 0.0643482\ttotal: 548ms\tremaining: 308ms\n",
      "640:\tlearn: 0.0643244\ttotal: 549ms\tremaining: 308ms\n",
      "641:\tlearn: 0.0642993\ttotal: 550ms\tremaining: 307ms\n",
      "642:\tlearn: 0.0642765\ttotal: 551ms\tremaining: 306ms\n",
      "643:\tlearn: 0.0642102\ttotal: 552ms\tremaining: 305ms\n",
      "644:\tlearn: 0.0641375\ttotal: 553ms\tremaining: 304ms\n",
      "645:\tlearn: 0.0640094\ttotal: 553ms\tremaining: 303ms\n",
      "646:\tlearn: 0.0639252\ttotal: 554ms\tremaining: 302ms\n",
      "647:\tlearn: 0.0638071\ttotal: 555ms\tremaining: 301ms\n",
      "648:\tlearn: 0.0637425\ttotal: 556ms\tremaining: 301ms\n",
      "649:\tlearn: 0.0637045\ttotal: 557ms\tremaining: 300ms\n",
      "650:\tlearn: 0.0636700\ttotal: 557ms\tremaining: 299ms\n",
      "651:\tlearn: 0.0635701\ttotal: 558ms\tremaining: 298ms\n",
      "652:\tlearn: 0.0635508\ttotal: 559ms\tremaining: 297ms\n",
      "653:\tlearn: 0.0635316\ttotal: 560ms\tremaining: 296ms\n",
      "654:\tlearn: 0.0634947\ttotal: 561ms\tremaining: 295ms\n",
      "655:\tlearn: 0.0634446\ttotal: 561ms\tremaining: 294ms\n",
      "656:\tlearn: 0.0633717\ttotal: 562ms\tremaining: 293ms\n",
      "657:\tlearn: 0.0633492\ttotal: 563ms\tremaining: 293ms\n",
      "658:\tlearn: 0.0632959\ttotal: 564ms\tremaining: 292ms\n",
      "659:\tlearn: 0.0632584\ttotal: 565ms\tremaining: 291ms\n",
      "660:\tlearn: 0.0632218\ttotal: 565ms\tremaining: 290ms\n",
      "661:\tlearn: 0.0631594\ttotal: 566ms\tremaining: 289ms\n",
      "662:\tlearn: 0.0631207\ttotal: 567ms\tremaining: 288ms\n",
      "663:\tlearn: 0.0630812\ttotal: 568ms\tremaining: 287ms\n",
      "664:\tlearn: 0.0630323\ttotal: 569ms\tremaining: 286ms\n",
      "665:\tlearn: 0.0629989\ttotal: 569ms\tremaining: 286ms\n",
      "666:\tlearn: 0.0629578\ttotal: 570ms\tremaining: 285ms\n",
      "667:\tlearn: 0.0629168\ttotal: 571ms\tremaining: 284ms\n",
      "668:\tlearn: 0.0628935\ttotal: 572ms\tremaining: 283ms\n",
      "669:\tlearn: 0.0628604\ttotal: 573ms\tremaining: 282ms\n",
      "670:\tlearn: 0.0627633\ttotal: 573ms\tremaining: 281ms\n",
      "671:\tlearn: 0.0627152\ttotal: 574ms\tremaining: 280ms\n",
      "672:\tlearn: 0.0626863\ttotal: 575ms\tremaining: 279ms\n",
      "673:\tlearn: 0.0626273\ttotal: 576ms\tremaining: 278ms\n",
      "674:\tlearn: 0.0626139\ttotal: 576ms\tremaining: 278ms\n",
      "675:\tlearn: 0.0625894\ttotal: 577ms\tremaining: 277ms\n",
      "676:\tlearn: 0.0625567\ttotal: 578ms\tremaining: 276ms\n",
      "677:\tlearn: 0.0625273\ttotal: 579ms\tremaining: 275ms\n",
      "678:\tlearn: 0.0625074\ttotal: 580ms\tremaining: 274ms\n",
      "679:\tlearn: 0.0624800\ttotal: 581ms\tremaining: 273ms\n",
      "680:\tlearn: 0.0624540\ttotal: 581ms\tremaining: 272ms\n",
      "681:\tlearn: 0.0624209\ttotal: 582ms\tremaining: 271ms\n",
      "682:\tlearn: 0.0623709\ttotal: 583ms\tremaining: 271ms\n",
      "683:\tlearn: 0.0623464\ttotal: 584ms\tremaining: 270ms\n",
      "684:\tlearn: 0.0623133\ttotal: 584ms\tremaining: 269ms\n",
      "685:\tlearn: 0.0622769\ttotal: 585ms\tremaining: 268ms\n",
      "686:\tlearn: 0.0622445\ttotal: 586ms\tremaining: 267ms\n",
      "687:\tlearn: 0.0622178\ttotal: 587ms\tremaining: 266ms\n",
      "688:\tlearn: 0.0621795\ttotal: 588ms\tremaining: 265ms\n",
      "689:\tlearn: 0.0621438\ttotal: 588ms\tremaining: 264ms\n",
      "690:\tlearn: 0.0621262\ttotal: 589ms\tremaining: 263ms\n",
      "691:\tlearn: 0.0620975\ttotal: 590ms\tremaining: 263ms\n",
      "692:\tlearn: 0.0620794\ttotal: 591ms\tremaining: 262ms\n",
      "693:\tlearn: 0.0620076\ttotal: 592ms\tremaining: 261ms\n",
      "694:\tlearn: 0.0619824\ttotal: 592ms\tremaining: 260ms\n",
      "695:\tlearn: 0.0619539\ttotal: 593ms\tremaining: 259ms\n",
      "696:\tlearn: 0.0619264\ttotal: 594ms\tremaining: 258ms\n",
      "697:\tlearn: 0.0619045\ttotal: 595ms\tremaining: 257ms\n",
      "698:\tlearn: 0.0618710\ttotal: 596ms\tremaining: 257ms\n",
      "699:\tlearn: 0.0618510\ttotal: 596ms\tremaining: 256ms\n",
      "700:\tlearn: 0.0618327\ttotal: 597ms\tremaining: 255ms\n",
      "701:\tlearn: 0.0618060\ttotal: 598ms\tremaining: 254ms\n",
      "702:\tlearn: 0.0617739\ttotal: 599ms\tremaining: 253ms\n",
      "703:\tlearn: 0.0617584\ttotal: 600ms\tremaining: 252ms\n",
      "704:\tlearn: 0.0616517\ttotal: 600ms\tremaining: 251ms\n",
      "705:\tlearn: 0.0616289\ttotal: 601ms\tremaining: 250ms\n",
      "706:\tlearn: 0.0616173\ttotal: 602ms\tremaining: 249ms\n",
      "707:\tlearn: 0.0615683\ttotal: 603ms\tremaining: 249ms\n",
      "708:\tlearn: 0.0615460\ttotal: 604ms\tremaining: 248ms\n",
      "709:\tlearn: 0.0614961\ttotal: 604ms\tremaining: 247ms\n",
      "710:\tlearn: 0.0614370\ttotal: 605ms\tremaining: 246ms\n",
      "711:\tlearn: 0.0613955\ttotal: 606ms\tremaining: 245ms\n",
      "712:\tlearn: 0.0613757\ttotal: 607ms\tremaining: 244ms\n",
      "713:\tlearn: 0.0613181\ttotal: 608ms\tremaining: 243ms\n",
      "714:\tlearn: 0.0612964\ttotal: 608ms\tremaining: 243ms\n",
      "715:\tlearn: 0.0612672\ttotal: 610ms\tremaining: 242ms\n",
      "716:\tlearn: 0.0612465\ttotal: 610ms\tremaining: 241ms\n",
      "717:\tlearn: 0.0612161\ttotal: 611ms\tremaining: 240ms\n",
      "718:\tlearn: 0.0611853\ttotal: 612ms\tremaining: 239ms\n",
      "719:\tlearn: 0.0611495\ttotal: 613ms\tremaining: 238ms\n",
      "720:\tlearn: 0.0611033\ttotal: 613ms\tremaining: 237ms\n",
      "721:\tlearn: 0.0610557\ttotal: 614ms\tremaining: 237ms\n",
      "722:\tlearn: 0.0610385\ttotal: 615ms\tremaining: 236ms\n",
      "723:\tlearn: 0.0610101\ttotal: 616ms\tremaining: 235ms\n",
      "724:\tlearn: 0.0609878\ttotal: 617ms\tremaining: 234ms\n",
      "725:\tlearn: 0.0609245\ttotal: 617ms\tremaining: 233ms\n",
      "726:\tlearn: 0.0609058\ttotal: 618ms\tremaining: 232ms\n",
      "727:\tlearn: 0.0608799\ttotal: 619ms\tremaining: 231ms\n",
      "728:\tlearn: 0.0608636\ttotal: 620ms\tremaining: 230ms\n",
      "729:\tlearn: 0.0608348\ttotal: 621ms\tremaining: 230ms\n",
      "730:\tlearn: 0.0608109\ttotal: 621ms\tremaining: 229ms\n",
      "731:\tlearn: 0.0607444\ttotal: 622ms\tremaining: 228ms\n",
      "732:\tlearn: 0.0606852\ttotal: 623ms\tremaining: 227ms\n",
      "733:\tlearn: 0.0606497\ttotal: 624ms\tremaining: 226ms\n",
      "734:\tlearn: 0.0606066\ttotal: 625ms\tremaining: 225ms\n",
      "735:\tlearn: 0.0605461\ttotal: 625ms\tremaining: 224ms\n",
      "736:\tlearn: 0.0605307\ttotal: 626ms\tremaining: 223ms\n",
      "737:\tlearn: 0.0604743\ttotal: 627ms\tremaining: 223ms\n",
      "738:\tlearn: 0.0604218\ttotal: 628ms\tremaining: 222ms\n",
      "739:\tlearn: 0.0603615\ttotal: 629ms\tremaining: 221ms\n",
      "740:\tlearn: 0.0603432\ttotal: 629ms\tremaining: 220ms\n",
      "741:\tlearn: 0.0602925\ttotal: 630ms\tremaining: 219ms\n",
      "742:\tlearn: 0.0602673\ttotal: 631ms\tremaining: 218ms\n",
      "743:\tlearn: 0.0602216\ttotal: 632ms\tremaining: 217ms\n",
      "744:\tlearn: 0.0602126\ttotal: 632ms\tremaining: 216ms\n",
      "745:\tlearn: 0.0601921\ttotal: 633ms\tremaining: 216ms\n",
      "746:\tlearn: 0.0601731\ttotal: 634ms\tremaining: 215ms\n",
      "747:\tlearn: 0.0601272\ttotal: 635ms\tremaining: 214ms\n",
      "748:\tlearn: 0.0600823\ttotal: 636ms\tremaining: 213ms\n",
      "749:\tlearn: 0.0600473\ttotal: 636ms\tremaining: 212ms\n",
      "750:\tlearn: 0.0600012\ttotal: 637ms\tremaining: 211ms\n",
      "751:\tlearn: 0.0599493\ttotal: 638ms\tremaining: 210ms\n",
      "752:\tlearn: 0.0599275\ttotal: 639ms\tremaining: 209ms\n",
      "753:\tlearn: 0.0598571\ttotal: 639ms\tremaining: 209ms\n",
      "754:\tlearn: 0.0598252\ttotal: 640ms\tremaining: 208ms\n",
      "755:\tlearn: 0.0598067\ttotal: 641ms\tremaining: 207ms\n",
      "756:\tlearn: 0.0597860\ttotal: 642ms\tremaining: 206ms\n",
      "757:\tlearn: 0.0597386\ttotal: 643ms\tremaining: 205ms\n",
      "758:\tlearn: 0.0597076\ttotal: 643ms\tremaining: 204ms\n",
      "759:\tlearn: 0.0596910\ttotal: 644ms\tremaining: 203ms\n",
      "760:\tlearn: 0.0596731\ttotal: 645ms\tremaining: 203ms\n",
      "761:\tlearn: 0.0596530\ttotal: 646ms\tremaining: 202ms\n",
      "762:\tlearn: 0.0596079\ttotal: 647ms\tremaining: 201ms\n",
      "763:\tlearn: 0.0595806\ttotal: 647ms\tremaining: 200ms\n",
      "764:\tlearn: 0.0595619\ttotal: 648ms\tremaining: 199ms\n",
      "765:\tlearn: 0.0595141\ttotal: 649ms\tremaining: 198ms\n",
      "766:\tlearn: 0.0594991\ttotal: 650ms\tremaining: 197ms\n",
      "767:\tlearn: 0.0594447\ttotal: 650ms\tremaining: 197ms\n",
      "768:\tlearn: 0.0594338\ttotal: 651ms\tremaining: 196ms\n",
      "769:\tlearn: 0.0594117\ttotal: 652ms\tremaining: 195ms\n",
      "770:\tlearn: 0.0593892\ttotal: 653ms\tremaining: 194ms\n",
      "771:\tlearn: 0.0593703\ttotal: 654ms\tremaining: 193ms\n",
      "772:\tlearn: 0.0593207\ttotal: 654ms\tremaining: 192ms\n",
      "773:\tlearn: 0.0593036\ttotal: 655ms\tremaining: 191ms\n",
      "774:\tlearn: 0.0592878\ttotal: 656ms\tremaining: 190ms\n",
      "775:\tlearn: 0.0592594\ttotal: 657ms\tremaining: 190ms\n",
      "776:\tlearn: 0.0592194\ttotal: 658ms\tremaining: 189ms\n",
      "777:\tlearn: 0.0591984\ttotal: 658ms\tremaining: 188ms\n",
      "778:\tlearn: 0.0591507\ttotal: 659ms\tremaining: 187ms\n",
      "779:\tlearn: 0.0590937\ttotal: 660ms\tremaining: 186ms\n",
      "780:\tlearn: 0.0590817\ttotal: 661ms\tremaining: 185ms\n",
      "781:\tlearn: 0.0590577\ttotal: 662ms\tremaining: 184ms\n",
      "782:\tlearn: 0.0590415\ttotal: 662ms\tremaining: 184ms\n",
      "783:\tlearn: 0.0590233\ttotal: 663ms\tremaining: 183ms\n",
      "784:\tlearn: 0.0590053\ttotal: 664ms\tremaining: 182ms\n",
      "785:\tlearn: 0.0589918\ttotal: 665ms\tremaining: 181ms\n",
      "786:\tlearn: 0.0589784\ttotal: 666ms\tremaining: 180ms\n",
      "787:\tlearn: 0.0589651\ttotal: 666ms\tremaining: 179ms\n",
      "788:\tlearn: 0.0589081\ttotal: 669ms\tremaining: 179ms\n",
      "789:\tlearn: 0.0588993\ttotal: 670ms\tremaining: 178ms\n",
      "790:\tlearn: 0.0588427\ttotal: 671ms\tremaining: 177ms\n",
      "791:\tlearn: 0.0588035\ttotal: 671ms\tremaining: 176ms\n",
      "792:\tlearn: 0.0587345\ttotal: 672ms\tremaining: 175ms\n",
      "793:\tlearn: 0.0587176\ttotal: 673ms\tremaining: 175ms\n",
      "794:\tlearn: 0.0586845\ttotal: 674ms\tremaining: 174ms\n",
      "795:\tlearn: 0.0586628\ttotal: 675ms\tremaining: 173ms\n",
      "796:\tlearn: 0.0586469\ttotal: 675ms\tremaining: 172ms\n",
      "797:\tlearn: 0.0586310\ttotal: 676ms\tremaining: 171ms\n",
      "798:\tlearn: 0.0585998\ttotal: 677ms\tremaining: 170ms\n",
      "799:\tlearn: 0.0585327\ttotal: 678ms\tremaining: 169ms\n",
      "800:\tlearn: 0.0585159\ttotal: 678ms\tremaining: 169ms\n",
      "801:\tlearn: 0.0584458\ttotal: 679ms\tremaining: 168ms\n",
      "802:\tlearn: 0.0584260\ttotal: 680ms\tremaining: 167ms\n",
      "803:\tlearn: 0.0583922\ttotal: 681ms\tremaining: 166ms\n",
      "804:\tlearn: 0.0583749\ttotal: 682ms\tremaining: 165ms\n",
      "805:\tlearn: 0.0583464\ttotal: 682ms\tremaining: 164ms\n",
      "806:\tlearn: 0.0583150\ttotal: 683ms\tremaining: 163ms\n",
      "807:\tlearn: 0.0582932\ttotal: 684ms\tremaining: 163ms\n",
      "808:\tlearn: 0.0582768\ttotal: 685ms\tremaining: 162ms\n",
      "809:\tlearn: 0.0582292\ttotal: 686ms\tremaining: 161ms\n",
      "810:\tlearn: 0.0582134\ttotal: 687ms\tremaining: 160ms\n",
      "811:\tlearn: 0.0581099\ttotal: 687ms\tremaining: 159ms\n",
      "812:\tlearn: 0.0580989\ttotal: 688ms\tremaining: 158ms\n",
      "813:\tlearn: 0.0580877\ttotal: 689ms\tremaining: 157ms\n",
      "814:\tlearn: 0.0580759\ttotal: 690ms\tremaining: 157ms\n",
      "815:\tlearn: 0.0580609\ttotal: 691ms\tremaining: 156ms\n",
      "816:\tlearn: 0.0580349\ttotal: 691ms\tremaining: 155ms\n",
      "817:\tlearn: 0.0579811\ttotal: 692ms\tremaining: 154ms\n",
      "818:\tlearn: 0.0579653\ttotal: 693ms\tremaining: 153ms\n",
      "819:\tlearn: 0.0579487\ttotal: 694ms\tremaining: 152ms\n",
      "820:\tlearn: 0.0579283\ttotal: 694ms\tremaining: 151ms\n",
      "821:\tlearn: 0.0579157\ttotal: 695ms\tremaining: 151ms\n",
      "822:\tlearn: 0.0579039\ttotal: 696ms\tremaining: 150ms\n",
      "823:\tlearn: 0.0578320\ttotal: 697ms\tremaining: 149ms\n",
      "824:\tlearn: 0.0578211\ttotal: 698ms\tremaining: 148ms\n",
      "825:\tlearn: 0.0578048\ttotal: 699ms\tremaining: 147ms\n",
      "826:\tlearn: 0.0577462\ttotal: 699ms\tremaining: 146ms\n",
      "827:\tlearn: 0.0577284\ttotal: 700ms\tremaining: 145ms\n",
      "828:\tlearn: 0.0576933\ttotal: 701ms\tremaining: 145ms\n",
      "829:\tlearn: 0.0576722\ttotal: 702ms\tremaining: 144ms\n",
      "830:\tlearn: 0.0576494\ttotal: 702ms\tremaining: 143ms\n",
      "831:\tlearn: 0.0575843\ttotal: 703ms\tremaining: 142ms\n",
      "832:\tlearn: 0.0575741\ttotal: 704ms\tremaining: 141ms\n",
      "833:\tlearn: 0.0575607\ttotal: 705ms\tremaining: 140ms\n",
      "834:\tlearn: 0.0575495\ttotal: 706ms\tremaining: 139ms\n",
      "835:\tlearn: 0.0574838\ttotal: 706ms\tremaining: 139ms\n",
      "836:\tlearn: 0.0574566\ttotal: 707ms\tremaining: 138ms\n",
      "837:\tlearn: 0.0574406\ttotal: 708ms\tremaining: 137ms\n",
      "838:\tlearn: 0.0573912\ttotal: 709ms\tremaining: 136ms\n",
      "839:\tlearn: 0.0573537\ttotal: 709ms\tremaining: 135ms\n",
      "840:\tlearn: 0.0573021\ttotal: 710ms\tremaining: 134ms\n",
      "841:\tlearn: 0.0572835\ttotal: 711ms\tremaining: 133ms\n",
      "842:\tlearn: 0.0572537\ttotal: 712ms\tremaining: 133ms\n",
      "843:\tlearn: 0.0571937\ttotal: 713ms\tremaining: 132ms\n",
      "844:\tlearn: 0.0571773\ttotal: 713ms\tremaining: 131ms\n",
      "845:\tlearn: 0.0571656\ttotal: 714ms\tremaining: 130ms\n",
      "846:\tlearn: 0.0571420\ttotal: 715ms\tremaining: 129ms\n",
      "847:\tlearn: 0.0570652\ttotal: 716ms\tremaining: 128ms\n",
      "848:\tlearn: 0.0570509\ttotal: 717ms\tremaining: 127ms\n",
      "849:\tlearn: 0.0570172\ttotal: 717ms\tremaining: 127ms\n",
      "850:\tlearn: 0.0569856\ttotal: 718ms\tremaining: 126ms\n",
      "851:\tlearn: 0.0569763\ttotal: 719ms\tremaining: 125ms\n",
      "852:\tlearn: 0.0569342\ttotal: 720ms\tremaining: 124ms\n",
      "853:\tlearn: 0.0569220\ttotal: 721ms\tremaining: 123ms\n",
      "854:\tlearn: 0.0569095\ttotal: 721ms\tremaining: 122ms\n",
      "855:\tlearn: 0.0568999\ttotal: 722ms\tremaining: 121ms\n",
      "856:\tlearn: 0.0568865\ttotal: 723ms\tremaining: 121ms\n",
      "857:\tlearn: 0.0568728\ttotal: 724ms\tremaining: 120ms\n",
      "858:\tlearn: 0.0568335\ttotal: 725ms\tremaining: 119ms\n",
      "859:\tlearn: 0.0567856\ttotal: 725ms\tremaining: 118ms\n",
      "860:\tlearn: 0.0567760\ttotal: 726ms\tremaining: 117ms\n",
      "861:\tlearn: 0.0567559\ttotal: 727ms\tremaining: 116ms\n",
      "862:\tlearn: 0.0567267\ttotal: 728ms\tremaining: 116ms\n",
      "863:\tlearn: 0.0566879\ttotal: 729ms\tremaining: 115ms\n",
      "864:\tlearn: 0.0565999\ttotal: 729ms\tremaining: 114ms\n",
      "865:\tlearn: 0.0565903\ttotal: 730ms\tremaining: 113ms\n",
      "866:\tlearn: 0.0565682\ttotal: 731ms\tremaining: 112ms\n",
      "867:\tlearn: 0.0565544\ttotal: 732ms\tremaining: 111ms\n",
      "868:\tlearn: 0.0565458\ttotal: 733ms\tremaining: 110ms\n",
      "869:\tlearn: 0.0565120\ttotal: 733ms\tremaining: 110ms\n",
      "870:\tlearn: 0.0564985\ttotal: 734ms\tremaining: 109ms\n",
      "871:\tlearn: 0.0564857\ttotal: 735ms\tremaining: 108ms\n",
      "872:\tlearn: 0.0564367\ttotal: 736ms\tremaining: 107ms\n",
      "873:\tlearn: 0.0564159\ttotal: 736ms\tremaining: 106ms\n",
      "874:\tlearn: 0.0564017\ttotal: 737ms\tremaining: 105ms\n",
      "875:\tlearn: 0.0563816\ttotal: 738ms\tremaining: 104ms\n",
      "876:\tlearn: 0.0563112\ttotal: 739ms\tremaining: 104ms\n",
      "877:\tlearn: 0.0563011\ttotal: 740ms\tremaining: 103ms\n",
      "878:\tlearn: 0.0562850\ttotal: 740ms\tremaining: 102ms\n",
      "879:\tlearn: 0.0562664\ttotal: 741ms\tremaining: 101ms\n",
      "880:\tlearn: 0.0562509\ttotal: 742ms\tremaining: 100ms\n",
      "881:\tlearn: 0.0562259\ttotal: 743ms\tremaining: 99.4ms\n",
      "882:\tlearn: 0.0561992\ttotal: 744ms\tremaining: 98.5ms\n",
      "883:\tlearn: 0.0561519\ttotal: 744ms\tremaining: 97.7ms\n",
      "884:\tlearn: 0.0561357\ttotal: 745ms\tremaining: 96.8ms\n",
      "885:\tlearn: 0.0561248\ttotal: 746ms\tremaining: 96ms\n",
      "886:\tlearn: 0.0560829\ttotal: 747ms\tremaining: 95.1ms\n",
      "887:\tlearn: 0.0560454\ttotal: 748ms\tremaining: 94.3ms\n",
      "888:\tlearn: 0.0560356\ttotal: 748ms\tremaining: 93.4ms\n",
      "889:\tlearn: 0.0560274\ttotal: 749ms\tremaining: 92.6ms\n",
      "890:\tlearn: 0.0560167\ttotal: 750ms\tremaining: 91.7ms\n",
      "891:\tlearn: 0.0559896\ttotal: 751ms\tremaining: 90.9ms\n",
      "892:\tlearn: 0.0559648\ttotal: 751ms\tremaining: 90ms\n",
      "893:\tlearn: 0.0559495\ttotal: 752ms\tremaining: 89.2ms\n",
      "894:\tlearn: 0.0559378\ttotal: 753ms\tremaining: 88.3ms\n",
      "895:\tlearn: 0.0558986\ttotal: 754ms\tremaining: 87.5ms\n",
      "896:\tlearn: 0.0558853\ttotal: 755ms\tremaining: 86.7ms\n",
      "897:\tlearn: 0.0558690\ttotal: 755ms\tremaining: 85.8ms\n",
      "898:\tlearn: 0.0558581\ttotal: 756ms\tremaining: 85ms\n",
      "899:\tlearn: 0.0558446\ttotal: 757ms\tremaining: 84.1ms\n",
      "900:\tlearn: 0.0558263\ttotal: 758ms\tremaining: 83.3ms\n",
      "901:\tlearn: 0.0557684\ttotal: 759ms\tremaining: 82.4ms\n",
      "902:\tlearn: 0.0557434\ttotal: 759ms\tremaining: 81.6ms\n",
      "903:\tlearn: 0.0557367\ttotal: 760ms\tremaining: 80.7ms\n",
      "904:\tlearn: 0.0557209\ttotal: 761ms\tremaining: 79.9ms\n",
      "905:\tlearn: 0.0557125\ttotal: 762ms\tremaining: 79ms\n",
      "906:\tlearn: 0.0556788\ttotal: 763ms\tremaining: 78.2ms\n",
      "907:\tlearn: 0.0556495\ttotal: 763ms\tremaining: 77.4ms\n",
      "908:\tlearn: 0.0556399\ttotal: 764ms\tremaining: 76.5ms\n",
      "909:\tlearn: 0.0556182\ttotal: 765ms\tremaining: 75.7ms\n",
      "910:\tlearn: 0.0556069\ttotal: 766ms\tremaining: 74.8ms\n",
      "911:\tlearn: 0.0555683\ttotal: 767ms\tremaining: 74ms\n",
      "912:\tlearn: 0.0555386\ttotal: 767ms\tremaining: 73.1ms\n",
      "913:\tlearn: 0.0555276\ttotal: 768ms\tremaining: 72.3ms\n",
      "914:\tlearn: 0.0555158\ttotal: 769ms\tremaining: 71.4ms\n",
      "915:\tlearn: 0.0554804\ttotal: 770ms\tremaining: 70.6ms\n",
      "916:\tlearn: 0.0554615\ttotal: 771ms\tremaining: 69.8ms\n",
      "917:\tlearn: 0.0554470\ttotal: 771ms\tremaining: 68.9ms\n",
      "918:\tlearn: 0.0554200\ttotal: 772ms\tremaining: 68.1ms\n",
      "919:\tlearn: 0.0554134\ttotal: 773ms\tremaining: 67.2ms\n",
      "920:\tlearn: 0.0553568\ttotal: 774ms\tremaining: 66.4ms\n",
      "921:\tlearn: 0.0553073\ttotal: 775ms\tremaining: 65.5ms\n",
      "922:\tlearn: 0.0552897\ttotal: 775ms\tremaining: 64.7ms\n",
      "923:\tlearn: 0.0552794\ttotal: 776ms\tremaining: 63.8ms\n",
      "924:\tlearn: 0.0552580\ttotal: 777ms\tremaining: 63ms\n",
      "925:\tlearn: 0.0552278\ttotal: 778ms\tremaining: 62.2ms\n",
      "926:\tlearn: 0.0552027\ttotal: 779ms\tremaining: 61.3ms\n",
      "927:\tlearn: 0.0551919\ttotal: 779ms\tremaining: 60.5ms\n",
      "928:\tlearn: 0.0551839\ttotal: 780ms\tremaining: 59.6ms\n",
      "929:\tlearn: 0.0551561\ttotal: 781ms\tremaining: 58.8ms\n",
      "930:\tlearn: 0.0551460\ttotal: 782ms\tremaining: 57.9ms\n",
      "931:\tlearn: 0.0551341\ttotal: 783ms\tremaining: 57.1ms\n",
      "932:\tlearn: 0.0551022\ttotal: 783ms\tremaining: 56.3ms\n",
      "933:\tlearn: 0.0550786\ttotal: 784ms\tremaining: 55.4ms\n",
      "934:\tlearn: 0.0550516\ttotal: 785ms\tremaining: 54.6ms\n",
      "935:\tlearn: 0.0550425\ttotal: 786ms\tremaining: 53.7ms\n",
      "936:\tlearn: 0.0549950\ttotal: 787ms\tremaining: 52.9ms\n",
      "937:\tlearn: 0.0549774\ttotal: 787ms\tremaining: 52ms\n",
      "938:\tlearn: 0.0549621\ttotal: 788ms\tremaining: 51.2ms\n",
      "939:\tlearn: 0.0549532\ttotal: 789ms\tremaining: 50.4ms\n",
      "940:\tlearn: 0.0549396\ttotal: 790ms\tremaining: 49.5ms\n",
      "941:\tlearn: 0.0549183\ttotal: 791ms\tremaining: 48.7ms\n",
      "942:\tlearn: 0.0549112\ttotal: 791ms\tremaining: 47.8ms\n",
      "943:\tlearn: 0.0548960\ttotal: 792ms\tremaining: 47ms\n",
      "944:\tlearn: 0.0548801\ttotal: 793ms\tremaining: 46.2ms\n",
      "945:\tlearn: 0.0548553\ttotal: 794ms\tremaining: 45.3ms\n",
      "946:\tlearn: 0.0548424\ttotal: 795ms\tremaining: 44.5ms\n",
      "947:\tlearn: 0.0548074\ttotal: 795ms\tremaining: 43.6ms\n",
      "948:\tlearn: 0.0547941\ttotal: 796ms\tremaining: 42.8ms\n",
      "949:\tlearn: 0.0547809\ttotal: 797ms\tremaining: 41.9ms\n",
      "950:\tlearn: 0.0547702\ttotal: 798ms\tremaining: 41.1ms\n",
      "951:\tlearn: 0.0547219\ttotal: 799ms\tremaining: 40.3ms\n",
      "952:\tlearn: 0.0547122\ttotal: 800ms\tremaining: 39.4ms\n",
      "953:\tlearn: 0.0546670\ttotal: 800ms\tremaining: 38.6ms\n",
      "954:\tlearn: 0.0546479\ttotal: 801ms\tremaining: 37.7ms\n",
      "955:\tlearn: 0.0546382\ttotal: 802ms\tremaining: 36.9ms\n",
      "956:\tlearn: 0.0546196\ttotal: 803ms\tremaining: 36.1ms\n",
      "957:\tlearn: 0.0545594\ttotal: 803ms\tremaining: 35.2ms\n",
      "958:\tlearn: 0.0545514\ttotal: 804ms\tremaining: 34.4ms\n",
      "959:\tlearn: 0.0545425\ttotal: 805ms\tremaining: 33.5ms\n",
      "960:\tlearn: 0.0545352\ttotal: 806ms\tremaining: 32.7ms\n",
      "961:\tlearn: 0.0545167\ttotal: 807ms\tremaining: 31.9ms\n",
      "962:\tlearn: 0.0545053\ttotal: 807ms\tremaining: 31ms\n",
      "963:\tlearn: 0.0544863\ttotal: 808ms\tremaining: 30.2ms\n",
      "964:\tlearn: 0.0544559\ttotal: 809ms\tremaining: 29.3ms\n",
      "965:\tlearn: 0.0544172\ttotal: 810ms\tremaining: 28.5ms\n",
      "966:\tlearn: 0.0543769\ttotal: 811ms\tremaining: 27.7ms\n",
      "967:\tlearn: 0.0543578\ttotal: 811ms\tremaining: 26.8ms\n",
      "968:\tlearn: 0.0543439\ttotal: 812ms\tremaining: 26ms\n",
      "969:\tlearn: 0.0543312\ttotal: 813ms\tremaining: 25.1ms\n",
      "970:\tlearn: 0.0543244\ttotal: 814ms\tremaining: 24.3ms\n",
      "971:\tlearn: 0.0543066\ttotal: 815ms\tremaining: 23.5ms\n",
      "972:\tlearn: 0.0542935\ttotal: 816ms\tremaining: 22.6ms\n",
      "973:\tlearn: 0.0542412\ttotal: 816ms\tremaining: 21.8ms\n",
      "974:\tlearn: 0.0542137\ttotal: 817ms\tremaining: 20.9ms\n",
      "975:\tlearn: 0.0541650\ttotal: 818ms\tremaining: 20.1ms\n",
      "976:\tlearn: 0.0541291\ttotal: 819ms\tremaining: 19.3ms\n",
      "977:\tlearn: 0.0541218\ttotal: 819ms\tremaining: 18.4ms\n",
      "978:\tlearn: 0.0540859\ttotal: 820ms\tremaining: 17.6ms\n",
      "979:\tlearn: 0.0540737\ttotal: 821ms\tremaining: 16.8ms\n",
      "980:\tlearn: 0.0540549\ttotal: 822ms\tremaining: 15.9ms\n",
      "981:\tlearn: 0.0540344\ttotal: 823ms\tremaining: 15.1ms\n",
      "982:\tlearn: 0.0539972\ttotal: 823ms\tremaining: 14.2ms\n",
      "983:\tlearn: 0.0539565\ttotal: 824ms\tremaining: 13.4ms\n",
      "984:\tlearn: 0.0539512\ttotal: 825ms\tremaining: 12.6ms\n",
      "985:\tlearn: 0.0539158\ttotal: 826ms\tremaining: 11.7ms\n",
      "986:\tlearn: 0.0538513\ttotal: 827ms\tremaining: 10.9ms\n",
      "987:\tlearn: 0.0538101\ttotal: 828ms\tremaining: 10.1ms\n",
      "988:\tlearn: 0.0537877\ttotal: 829ms\tremaining: 9.21ms\n",
      "989:\tlearn: 0.0537225\ttotal: 829ms\tremaining: 8.38ms\n",
      "990:\tlearn: 0.0537036\ttotal: 830ms\tremaining: 7.54ms\n",
      "991:\tlearn: 0.0536968\ttotal: 831ms\tremaining: 6.7ms\n",
      "992:\tlearn: 0.0536889\ttotal: 832ms\tremaining: 5.87ms\n",
      "993:\tlearn: 0.0536736\ttotal: 833ms\tremaining: 5.03ms\n",
      "994:\tlearn: 0.0536609\ttotal: 834ms\tremaining: 4.19ms\n",
      "995:\tlearn: 0.0536267\ttotal: 835ms\tremaining: 3.35ms\n",
      "996:\tlearn: 0.0536157\ttotal: 835ms\tremaining: 2.51ms\n",
      "997:\tlearn: 0.0535935\ttotal: 836ms\tremaining: 1.68ms\n",
      "998:\tlearn: 0.0535848\ttotal: 837ms\tremaining: 837us\n",
      "999:\tlearn: 0.0535794\ttotal: 838ms\tremaining: 0us\n",
      "Accuracy of CGB classifier on training set: 0.98\n",
      "Accuracy of CGB classifier on test set: 0.84\n"
     ]
    }
   ],
   "source": [
    "from catboost import CatBoostClassifier\n",
    "from sklearn.datasets import make_classification\n",
    "\n",
    "CGB = CatBoostClassifier(random_state=0)\n",
    "CGB.fit(X_train, y_train)\n",
    "print('Accuracy of CGB classifier on training set: {:.2f}'\n",
    "     .format(CGB.score(X_train, y_train)))\n",
    "print('Accuracy of CGB classifier on test set: {:.2f}'\n",
    "     .format(CGB.score(X_test, y_test)))"
   ]
  },
  {
   "cell_type": "code",
   "execution_count": 209,
   "metadata": {},
   "outputs": [
    {
     "name": "stdout",
     "output_type": "stream",
     "text": [
      "[[80  0  0]\n",
      " [ 1 79  0]\n",
      " [ 0  3 77]]\n"
     ]
    }
   ],
   "source": [
    "# Results (Training Set)\n",
    "\n",
    "y_pred_train = CGB.predict(X_train)\n",
    "from sklearn.metrics import confusion_matrix\n",
    "confusion_matrix = confusion_matrix(y_train, y_pred_train)\n",
    "print(confusion_matrix)"
   ]
  },
  {
   "cell_type": "code",
   "execution_count": 210,
   "metadata": {},
   "outputs": [
    {
     "name": "stdout",
     "output_type": "stream",
     "text": [
      "              precision    recall  f1-score   support\n",
      "\n",
      "           1       0.99      1.00      0.99        80\n",
      "           2       0.96      0.99      0.98        80\n",
      "           3       1.00      0.96      0.98        80\n",
      "\n",
      "    accuracy                           0.98       240\n",
      "   macro avg       0.98      0.98      0.98       240\n",
      "weighted avg       0.98      0.98      0.98       240\n",
      "\n"
     ]
    }
   ],
   "source": [
    "# Results (Training Set)\n",
    "\n",
    "from sklearn.metrics import classification_report\n",
    "print(classification_report(y_train, y_pred_train))"
   ]
  },
  {
   "cell_type": "code",
   "execution_count": 211,
   "metadata": {},
   "outputs": [
    {
     "name": "stdout",
     "output_type": "stream",
     "text": [
      "[[29  1  0]\n",
      " [ 5 18  1]\n",
      " [ 2  0  1]]\n"
     ]
    }
   ],
   "source": [
    "# Results (Test Set)\n",
    "\n",
    "y_pred = CGB.predict(X_test)\n",
    "from sklearn.metrics import confusion_matrix\n",
    "confusion_matrix = confusion_matrix(y_test, y_pred)\n",
    "print(confusion_matrix)"
   ]
  },
  {
   "cell_type": "code",
   "execution_count": 212,
   "metadata": {},
   "outputs": [
    {
     "name": "stdout",
     "output_type": "stream",
     "text": [
      "              precision    recall  f1-score   support\n",
      "\n",
      "           1       0.81      0.97      0.88        30\n",
      "           2       0.95      0.75      0.84        24\n",
      "           3       0.50      0.33      0.40         3\n",
      "\n",
      "    accuracy                           0.84        57\n",
      "   macro avg       0.75      0.68      0.71        57\n",
      "weighted avg       0.85      0.84      0.84        57\n",
      "\n"
     ]
    }
   ],
   "source": [
    "# Results (Test Set)\n",
    "\n",
    "from sklearn.metrics import classification_report\n",
    "print(classification_report(y_test, y_pred))"
   ]
  }
 ],
 "metadata": {
  "kernelspec": {
   "display_name": "Python 3",
   "language": "python",
   "name": "python3"
  },
  "language_info": {
   "codemirror_mode": {
    "name": "ipython",
    "version": 3
   },
   "file_extension": ".py",
   "mimetype": "text/x-python",
   "name": "python",
   "nbconvert_exporter": "python",
   "pygments_lexer": "ipython3",
   "version": "3.7.3"
  }
 },
 "nbformat": 4,
 "nbformat_minor": 2
}
